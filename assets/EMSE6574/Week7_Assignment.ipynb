{
  "nbformat": 4,
  "nbformat_minor": 0,
  "metadata": {
    "colab": {
      "name": "Week7 Assignment",
      "provenance": [],
      "collapsed_sections": []
    },
    "kernelspec": {
      "name": "python3",
      "display_name": "Python 3"
    }
  },
  "cells": [
    {
      "cell_type": "code",
      "metadata": {
        "id": "N3hulcocaUJd",
        "colab": {
          "base_uri": "https://localhost:8080/",
          "height": 170
        },
        "outputId": "0e4b1c0f-403e-44df-af80-d7cbeca8a0c8"
      },
      "source": [
        "from google.colab import drive\n",
        "drive.mount('/data/')\n",
        "data_dir = '/data/My Drive/Colab Notebooks/Experiment'\n",
        "!ls '/data/My Drive/Colab Notebooks/Experiment'\n",
        "!pip install matplotlib"
      ],
      "execution_count": null,
      "outputs": [
        {
          "output_type": "stream",
          "text": [
            "Mounted at /data/\n",
            "diamonds.csv  Iris.csv\tm_data.csv  w_data.csv\n",
            "Requirement already satisfied: matplotlib in /usr/local/lib/python3.6/dist-packages (3.2.2)\n",
            "Requirement already satisfied: kiwisolver>=1.0.1 in /usr/local/lib/python3.6/dist-packages (from matplotlib) (1.2.0)\n",
            "Requirement already satisfied: numpy>=1.11 in /usr/local/lib/python3.6/dist-packages (from matplotlib) (1.18.5)\n",
            "Requirement already satisfied: cycler>=0.10 in /usr/local/lib/python3.6/dist-packages (from matplotlib) (0.10.0)\n",
            "Requirement already satisfied: python-dateutil>=2.1 in /usr/local/lib/python3.6/dist-packages (from matplotlib) (2.8.1)\n",
            "Requirement already satisfied: pyparsing!=2.0.4,!=2.1.2,!=2.1.6,>=2.0.1 in /usr/local/lib/python3.6/dist-packages (from matplotlib) (2.4.7)\n",
            "Requirement already satisfied: six in /usr/local/lib/python3.6/dist-packages (from cycler>=0.10->matplotlib) (1.15.0)\n"
          ],
          "name": "stdout"
        }
      ]
    },
    {
      "cell_type": "code",
      "metadata": {
        "id": "oLEtUkVMaXjq",
        "colab": {
          "base_uri": "https://localhost:8080/",
          "height": 204
        },
        "outputId": "3eb0cb78-416d-4d1a-d80b-1b07ab4bf68f"
      },
      "source": [
        "import pandas as pd\n",
        "\n",
        "df = pd.read_csv(data_dir+'/diamonds.csv')\n",
        "df.head()"
      ],
      "execution_count": null,
      "outputs": [
        {
          "output_type": "execute_result",
          "data": {
            "text/html": [
              "<div>\n",
              "<style scoped>\n",
              "    .dataframe tbody tr th:only-of-type {\n",
              "        vertical-align: middle;\n",
              "    }\n",
              "\n",
              "    .dataframe tbody tr th {\n",
              "        vertical-align: top;\n",
              "    }\n",
              "\n",
              "    .dataframe thead th {\n",
              "        text-align: right;\n",
              "    }\n",
              "</style>\n",
              "<table border=\"1\" class=\"dataframe\">\n",
              "  <thead>\n",
              "    <tr style=\"text-align: right;\">\n",
              "      <th></th>\n",
              "      <th>Unnamed: 0</th>\n",
              "      <th>carat</th>\n",
              "      <th>cut</th>\n",
              "      <th>color</th>\n",
              "      <th>clarity</th>\n",
              "      <th>depth</th>\n",
              "      <th>table</th>\n",
              "      <th>price</th>\n",
              "      <th>x</th>\n",
              "      <th>y</th>\n",
              "      <th>z</th>\n",
              "    </tr>\n",
              "  </thead>\n",
              "  <tbody>\n",
              "    <tr>\n",
              "      <th>0</th>\n",
              "      <td>1</td>\n",
              "      <td>0.23</td>\n",
              "      <td>Ideal</td>\n",
              "      <td>E</td>\n",
              "      <td>SI2</td>\n",
              "      <td>61.5</td>\n",
              "      <td>55.0</td>\n",
              "      <td>326</td>\n",
              "      <td>3.95</td>\n",
              "      <td>3.98</td>\n",
              "      <td>2.43</td>\n",
              "    </tr>\n",
              "    <tr>\n",
              "      <th>1</th>\n",
              "      <td>2</td>\n",
              "      <td>0.21</td>\n",
              "      <td>Premium</td>\n",
              "      <td>E</td>\n",
              "      <td>SI1</td>\n",
              "      <td>59.8</td>\n",
              "      <td>61.0</td>\n",
              "      <td>326</td>\n",
              "      <td>3.89</td>\n",
              "      <td>3.84</td>\n",
              "      <td>2.31</td>\n",
              "    </tr>\n",
              "    <tr>\n",
              "      <th>2</th>\n",
              "      <td>3</td>\n",
              "      <td>0.23</td>\n",
              "      <td>Good</td>\n",
              "      <td>E</td>\n",
              "      <td>VS1</td>\n",
              "      <td>56.9</td>\n",
              "      <td>65.0</td>\n",
              "      <td>327</td>\n",
              "      <td>4.05</td>\n",
              "      <td>4.07</td>\n",
              "      <td>2.31</td>\n",
              "    </tr>\n",
              "    <tr>\n",
              "      <th>3</th>\n",
              "      <td>4</td>\n",
              "      <td>0.29</td>\n",
              "      <td>Premium</td>\n",
              "      <td>I</td>\n",
              "      <td>VS2</td>\n",
              "      <td>62.4</td>\n",
              "      <td>58.0</td>\n",
              "      <td>334</td>\n",
              "      <td>4.20</td>\n",
              "      <td>4.23</td>\n",
              "      <td>2.63</td>\n",
              "    </tr>\n",
              "    <tr>\n",
              "      <th>4</th>\n",
              "      <td>5</td>\n",
              "      <td>0.31</td>\n",
              "      <td>Good</td>\n",
              "      <td>J</td>\n",
              "      <td>SI2</td>\n",
              "      <td>63.3</td>\n",
              "      <td>58.0</td>\n",
              "      <td>335</td>\n",
              "      <td>4.34</td>\n",
              "      <td>4.35</td>\n",
              "      <td>2.75</td>\n",
              "    </tr>\n",
              "  </tbody>\n",
              "</table>\n",
              "</div>"
            ],
            "text/plain": [
              "   Unnamed: 0  carat      cut color clarity  ...  table  price     x     y     z\n",
              "0           1   0.23    Ideal     E     SI2  ...   55.0    326  3.95  3.98  2.43\n",
              "1           2   0.21  Premium     E     SI1  ...   61.0    326  3.89  3.84  2.31\n",
              "2           3   0.23     Good     E     VS1  ...   65.0    327  4.05  4.07  2.31\n",
              "3           4   0.29  Premium     I     VS2  ...   58.0    334  4.20  4.23  2.63\n",
              "4           5   0.31     Good     J     SI2  ...   58.0    335  4.34  4.35  2.75\n",
              "\n",
              "[5 rows x 11 columns]"
            ]
          },
          "metadata": {
            "tags": []
          },
          "execution_count": 2
        }
      ]
    },
    {
      "cell_type": "code",
      "metadata": {
        "id": "hQZ6U8YLawFh"
      },
      "source": [
        "import numpy as np \n",
        "import seaborn as sns\n",
        "import matplotlib.pyplot as plt\n",
        "\n",
        "from sklearn.linear_model import LogisticRegression  \n",
        "from sklearn.model_selection import train_test_split \n",
        "from sklearn.neighbors import KNeighborsClassifier \n",
        "from sklearn import svm  \n",
        "from sklearn import metrics \n",
        "from sklearn.tree import DecisionTreeClassifier\n",
        "\n",
        "df['color_int'] = df['color'].astype('category').cat.codes\n",
        "\n",
        "transform = {'Ideal':0, 'Premium':1, 'Good':2, 'Very Good':3, 'Fair':4}\n",
        "df['cut_int']=df['cut'].apply(lambda x: transform[x])\n",
        "\n",
        "transform_clarity ={'SI2':6, 'SI1':5, 'VS1':3, 'VS2':4, 'VVS2':2, 'VVS1':1, 'I1':7, 'IF':0}\n",
        "df['clarity_int']=df['clarity'].apply(lambda x: transform_clarity[x])"
      ],
      "execution_count": null,
      "outputs": []
    },
    {
      "cell_type": "code",
      "metadata": {
        "id": "_ghgXydCLwro",
        "colab": {
          "base_uri": "https://localhost:8080/",
          "height": 111
        },
        "outputId": "75e950cb-1312-44b7-d6e9-266b8ede635f"
      },
      "source": [
        "df.head(2)"
      ],
      "execution_count": null,
      "outputs": [
        {
          "output_type": "execute_result",
          "data": {
            "text/html": [
              "<div>\n",
              "<style scoped>\n",
              "    .dataframe tbody tr th:only-of-type {\n",
              "        vertical-align: middle;\n",
              "    }\n",
              "\n",
              "    .dataframe tbody tr th {\n",
              "        vertical-align: top;\n",
              "    }\n",
              "\n",
              "    .dataframe thead th {\n",
              "        text-align: right;\n",
              "    }\n",
              "</style>\n",
              "<table border=\"1\" class=\"dataframe\">\n",
              "  <thead>\n",
              "    <tr style=\"text-align: right;\">\n",
              "      <th></th>\n",
              "      <th>Unnamed: 0</th>\n",
              "      <th>carat</th>\n",
              "      <th>cut</th>\n",
              "      <th>color</th>\n",
              "      <th>clarity</th>\n",
              "      <th>depth</th>\n",
              "      <th>table</th>\n",
              "      <th>price</th>\n",
              "      <th>x</th>\n",
              "      <th>y</th>\n",
              "      <th>z</th>\n",
              "      <th>color_int</th>\n",
              "      <th>cut_int</th>\n",
              "      <th>clarity_int</th>\n",
              "    </tr>\n",
              "  </thead>\n",
              "  <tbody>\n",
              "    <tr>\n",
              "      <th>0</th>\n",
              "      <td>1</td>\n",
              "      <td>0.23</td>\n",
              "      <td>Ideal</td>\n",
              "      <td>E</td>\n",
              "      <td>SI2</td>\n",
              "      <td>61.5</td>\n",
              "      <td>55.0</td>\n",
              "      <td>326</td>\n",
              "      <td>3.95</td>\n",
              "      <td>3.98</td>\n",
              "      <td>2.43</td>\n",
              "      <td>1</td>\n",
              "      <td>0</td>\n",
              "      <td>6</td>\n",
              "    </tr>\n",
              "    <tr>\n",
              "      <th>1</th>\n",
              "      <td>2</td>\n",
              "      <td>0.21</td>\n",
              "      <td>Premium</td>\n",
              "      <td>E</td>\n",
              "      <td>SI1</td>\n",
              "      <td>59.8</td>\n",
              "      <td>61.0</td>\n",
              "      <td>326</td>\n",
              "      <td>3.89</td>\n",
              "      <td>3.84</td>\n",
              "      <td>2.31</td>\n",
              "      <td>1</td>\n",
              "      <td>1</td>\n",
              "      <td>5</td>\n",
              "    </tr>\n",
              "  </tbody>\n",
              "</table>\n",
              "</div>"
            ],
            "text/plain": [
              "   Unnamed: 0  carat      cut color  ...     z  color_int  cut_int  clarity_int\n",
              "0           1   0.23    Ideal     E  ...  2.43          1        0            6\n",
              "1           2   0.21  Premium     E  ...  2.31          1        1            5\n",
              "\n",
              "[2 rows x 14 columns]"
            ]
          },
          "metadata": {
            "tags": []
          },
          "execution_count": 4
        }
      ]
    },
    {
      "cell_type": "code",
      "metadata": {
        "id": "TLBTmr-m9A_W"
      },
      "source": [
        "features = ['carat','color_int','cut_int','clarity_int','x','y','z','depth','table']\n",
        "X = df[features]\n",
        "y = df['price']\n",
        "\n",
        "train_X, test_X, train_y, test_y = train_test_split(X, y, test_size = 0.25, random_state=0)"
      ],
      "execution_count": null,
      "outputs": []
    },
    {
      "cell_type": "code",
      "metadata": {
        "id": "_-vEZnuBB71Q"
      },
      "source": [
        "from sklearn.ensemble import RandomForestRegressor\n",
        "from sklearn.tree import DecisionTreeRegressor\n",
        "from sklearn.metrics import mean_absolute_error"
      ],
      "execution_count": null,
      "outputs": []
    },
    {
      "cell_type": "markdown",
      "metadata": {
        "id": "eA5hxJWOGHzz"
      },
      "source": [
        "Decision Tree Model "
      ]
    },
    {
      "cell_type": "code",
      "metadata": {
        "id": "zUFFrRUsBJSJ",
        "colab": {
          "base_uri": "https://localhost:8080/",
          "height": 119
        },
        "outputId": "7ffa56d7-753d-4019-eb9c-20e65a24eaa5"
      },
      "source": [
        "tree = DecisionTreeRegressor(random_state=1)\n",
        "tree.fit(train_X, train_y)"
      ],
      "execution_count": null,
      "outputs": [
        {
          "output_type": "execute_result",
          "data": {
            "text/plain": [
              "DecisionTreeRegressor(ccp_alpha=0.0, criterion='mse', max_depth=None,\n",
              "                      max_features=None, max_leaf_nodes=None,\n",
              "                      min_impurity_decrease=0.0, min_impurity_split=None,\n",
              "                      min_samples_leaf=1, min_samples_split=2,\n",
              "                      min_weight_fraction_leaf=0.0, presort='deprecated',\n",
              "                      random_state=1, splitter='best')"
            ]
          },
          "metadata": {
            "tags": []
          },
          "execution_count": 7
        }
      ]
    },
    {
      "cell_type": "code",
      "metadata": {
        "id": "TdTTL6WHCQEY",
        "colab": {
          "base_uri": "https://localhost:8080/",
          "height": 34
        },
        "outputId": "c250ac9f-fe21-41c2-ee2e-a162dcfb013c"
      },
      "source": [
        "prediction = tree.predict(test_X)\n",
        "test_mse = mean_absolute_error(prediction, test_y)\n",
        "\n",
        "errors = prediction - test_y\n",
        "test_mse"
      ],
      "execution_count": null,
      "outputs": [
        {
          "output_type": "execute_result",
          "data": {
            "text/plain": [
              "351.4046718576196"
            ]
          },
          "metadata": {
            "tags": []
          },
          "execution_count": 8
        }
      ]
    },
    {
      "cell_type": "code",
      "metadata": {
        "id": "cCp0xAgRC1y5",
        "colab": {
          "base_uri": "https://localhost:8080/",
          "height": 282
        },
        "outputId": "fee5cd55-ce8a-484e-a295-d4fcfaa59518"
      },
      "source": [
        "errors.hist()"
      ],
      "execution_count": null,
      "outputs": [
        {
          "output_type": "execute_result",
          "data": {
            "text/plain": [
              "<matplotlib.axes._subplots.AxesSubplot at 0x7f00e6b5e160>"
            ]
          },
          "metadata": {
            "tags": []
          },
          "execution_count": 9
        },
        {
          "output_type": "display_data",
          "data": {
            "image/png": "[encoded data removed]",
            "text/plain": [
              "<Figure size 432x288 with 1 Axes>"
            ]
          },
          "metadata": {
            "tags": [],
            "needs_background": "light"
          }
        }
      ]
    },
    {
      "cell_type": "markdown",
      "metadata": {
        "id": "T-4aLGNLGLVO"
      },
      "source": [
        "Random Forest Model"
      ]
    },
    {
      "cell_type": "code",
      "metadata": {
        "id": "ESPyVz_XDFUB",
        "colab": {
          "base_uri": "https://localhost:8080/",
          "height": 136
        },
        "outputId": "425eb38a-5006-414d-fa4a-18ab3b8d6ffd"
      },
      "source": [
        "rf = RandomForestRegressor(random_state=1)\n",
        "rf.fit(train_X, train_y)"
      ],
      "execution_count": null,
      "outputs": [
        {
          "output_type": "execute_result",
          "data": {
            "text/plain": [
              "RandomForestRegressor(bootstrap=True, ccp_alpha=0.0, criterion='mse',\n",
              "                      max_depth=None, max_features='auto', max_leaf_nodes=None,\n",
              "                      max_samples=None, min_impurity_decrease=0.0,\n",
              "                      min_impurity_split=None, min_samples_leaf=1,\n",
              "                      min_samples_split=2, min_weight_fraction_leaf=0.0,\n",
              "                      n_estimators=100, n_jobs=None, oob_score=False,\n",
              "                      random_state=1, verbose=0, warm_start=False)"
            ]
          },
          "metadata": {
            "tags": []
          },
          "execution_count": 10
        }
      ]
    },
    {
      "cell_type": "code",
      "metadata": {
        "id": "1uYCHh_oGZoI",
        "colab": {
          "base_uri": "https://localhost:8080/",
          "height": 34
        },
        "outputId": "4aac1255-023f-40b5-c2a7-d19f7dd8c884"
      },
      "source": [
        "prediction = rf.predict(test_X)\n",
        "test_mse_rf = mean_absolute_error(prediction, test_y)\n",
        "\n",
        "errors = prediction - test_y\n",
        "test_mse_rf"
      ],
      "execution_count": null,
      "outputs": [
        {
          "output_type": "execute_result",
          "data": {
            "text/plain": [
              "269.7082693527788"
            ]
          },
          "metadata": {
            "tags": []
          },
          "execution_count": 11
        }
      ]
    },
    {
      "cell_type": "code",
      "metadata": {
        "id": "HKLg41jVGx1x",
        "colab": {
          "base_uri": "https://localhost:8080/",
          "height": 282
        },
        "outputId": "35c7fc4f-a0af-44ee-bbb2-fea053b86ab1"
      },
      "source": [
        "errors.hist()"
      ],
      "execution_count": null,
      "outputs": [
        {
          "output_type": "execute_result",
          "data": {
            "text/plain": [
              "<matplotlib.axes._subplots.AxesSubplot at 0x7f00e6ad8f98>"
            ]
          },
          "metadata": {
            "tags": []
          },
          "execution_count": 12
        },
        {
          "output_type": "display_data",
          "data": {
            "image/png": "[encoded data removed]",
            "text/plain": [
              "<Figure size 432x288 with 1 Axes>"
            ]
          },
          "metadata": {
            "tags": [],
            "needs_background": "light"
          }
        }
      ]
    },
    {
      "cell_type": "code",
      "metadata": {
        "id": "VaGDNAi3G1NO"
      },
      "source": [
        "init_features = ['carat','color_int','cut_int','clarity_int','x','y','z','depth','table']\n",
        "from random import random, randint, choice\n",
        "\n",
        "def diff(li1, li2):\n",
        "    return (list(list(set(li1)-set(li2)) + list(set(li2)-set(li1))))\n",
        "\n",
        "def step(features):\n",
        "\n",
        "    if random()<0.5: \n",
        "      indx = randint(0,len(features)-1)\n",
        "      print(\"removing\",features[indx])\n",
        "      features.remove(features[indx])\n",
        "      return(features)\n",
        "    else:\n",
        "      d = diff(features,init_features)\n",
        "      if not d:\n",
        "        print(\"do nothing\")\n",
        "        return(features)\n",
        "      else:\n",
        "        f = choice(d)\n",
        "        print(\"adding\",f)\n",
        "        features.append(f)\n",
        "        return(features)\n",
        "\n",
        "def evaluate(features):\n",
        "\n",
        "    X = df[features]\n",
        "    y = df['price']\n",
        "    train_X, test_X, train_y, test_y = train_test_split(X, y, random_state=1)\n",
        "    rf.fit(train_X,train_y)\n",
        "    predictions = rf.predict(test_X)\n",
        "    val_mae = mean_absolute_error(predictions, test_y)\n",
        "    return(val_mae)\n",
        "\n",
        "def optmize():\n",
        "\n",
        "    print(\"###\")\n",
        "    start_features = ['carat','color_int','cut_int','clarity_int','x','y','z','depth','table']\n",
        "    ff=start_features\n",
        "    old_mae = 10000000\n",
        "\n",
        "    for i in range(10):\n",
        "      new_features = step(ff)\n",
        "      mae = evaluate(new_features)\n",
        "      print(i,mae,features)\n",
        "      if mae < old_mae:\n",
        "        ff = new_features\n",
        "        old_mae = mae\n",
        "        print(\"accepting result\")\n",
        "      else:\n",
        "        print(\"rejecting result\")\n",
        "\n"
      ],
      "execution_count": null,
      "outputs": []
    },
    {
      "cell_type": "code",
      "metadata": {
        "id": "5t2LSW31_cmU",
        "colab": {
          "base_uri": "https://localhost:8080/",
          "height": 544
        },
        "outputId": "43397d99-69d0-448d-9e6c-3cd344a91b58"
      },
      "source": [
        "optmize()"
      ],
      "execution_count": null,
      "outputs": [
        {
          "output_type": "stream",
          "text": [
            "###\n",
            "removing y\n",
            "0 272.65941055964595 ['carat', 'color_int', 'cut_int', 'clarity_int', 'x', 'y', 'z', 'depth', 'table']\n",
            "accepting result\n",
            "removing z\n",
            "1 275.2602746508466 ['carat', 'color_int', 'cut_int', 'clarity_int', 'x', 'y', 'z', 'depth', 'table']\n",
            "rejecting result\n",
            "adding z\n",
            "2 272.6264143169071 ['carat', 'color_int', 'cut_int', 'clarity_int', 'x', 'y', 'z', 'depth', 'table']\n",
            "accepting result\n",
            "adding y\n",
            "3 264.38214012924414 ['carat', 'color_int', 'cut_int', 'clarity_int', 'x', 'y', 'z', 'depth', 'table']\n",
            "accepting result\n",
            "removing y\n",
            "4 272.6264143169071 ['carat', 'color_int', 'cut_int', 'clarity_int', 'x', 'y', 'z', 'depth', 'table']\n",
            "rejecting result\n",
            "removing carat\n",
            "5 289.8830542295673 ['carat', 'color_int', 'cut_int', 'clarity_int', 'x', 'y', 'z', 'depth', 'table']\n",
            "rejecting result\n",
            "removing z\n",
            "6 306.39629205907795 ['carat', 'color_int', 'cut_int', 'clarity_int', 'x', 'y', 'z', 'depth', 'table']\n",
            "rejecting result\n",
            "adding z\n",
            "7 289.8830542295673 ['carat', 'color_int', 'cut_int', 'clarity_int', 'x', 'y', 'z', 'depth', 'table']\n",
            "rejecting result\n",
            "adding carat\n",
            "8 272.62460767990297 ['carat', 'color_int', 'cut_int', 'clarity_int', 'x', 'y', 'z', 'depth', 'table']\n",
            "rejecting result\n",
            "adding y\n",
            "9 264.36568138496034 ['carat', 'color_int', 'cut_int', 'clarity_int', 'x', 'y', 'z', 'depth', 'table']\n",
            "accepting result\n"
          ],
          "name": "stdout"
        }
      ]
    },
    {
      "cell_type": "code",
      "metadata": {
        "id": "9hcB-Z-_BzrG"
      },
      "source": [
        ""
      ],
      "execution_count": null,
      "outputs": []
    }
  ]
}