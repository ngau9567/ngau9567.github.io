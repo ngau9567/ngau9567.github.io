{
  "nbformat": 4,
  "nbformat_minor": 0,
  "metadata": {
    "colab": {
      "name": "Week10_Assignment.ipynb",
      "provenance": [],
      "collapsed_sections": []
    },
    "kernelspec": {
      "name": "python3",
      "display_name": "Python 3"
    }
  },
  "cells": [
    {
      "cell_type": "code",
      "metadata": {
        "id": "ECY85RClqCAm",
        "colab": {
          "base_uri": "https://localhost:8080/"
        },
        "outputId": "73e7f08b-d83b-4986-ab7b-9bbaf30b9654"
      },
      "source": [
        "import nltk\n",
        "from nltk.stem import *\n",
        "nltk.download('punkt')"
      ],
      "execution_count": null,
      "outputs": [
        {
          "output_type": "stream",
          "text": [
            "[nltk_data] Downloading package punkt to /root/nltk_data...\n",
            "[nltk_data]   Unzipping tokenizers/punkt.zip.\n"
          ],
          "name": "stdout"
        },
        {
          "output_type": "execute_result",
          "data": {
            "text/plain": [
              "True"
            ]
          },
          "metadata": {
            "tags": []
          },
          "execution_count": 1
        }
      ]
    },
    {
      "cell_type": "code",
      "metadata": {
        "id": "cB1q1C5h-h0Z"
      },
      "source": [
        "text = \"\"\"For the second time this year, the coronavirus has found its way to the very top of British politics and forced Prime Minister Boris Johnson into self-quarantine. On Sunday night, Johnson tweeted that he must \"self-isolate for two weeks, after being in contact with someone with Covid-19.\" \"It doesn't matter that I've had the disease and I'm bursting with antibodies,\" he said in a Monday video message, adding that he \"felt great\" and would keep leading the UK virus response, as well as his government's plans to \"#BuildBackBetter.\" Yet the optimism in that message, including the hashtag, masks the reality of exactly how enormous a week this is for the Johnson premiership, and how much of a blow it is for the PM to be trapped in solitude. Downing Street had spent the weekend dealing with the fallout from three straight days of chaos, in which two of his most senior advisers dramatically resigned following allegations that they had been briefing viciously against both Johnson himself and his fiancée, Carrie Symonds. The advisers in question, Lee Cain and Dominic Cummings, were among the most controversial and disliked members of Johnson's inner circle and have been accused by numerous people in government of being power hungry and self-interested. Before Johnson's self-quarantining, the turmoil in Downing Street had dominated five days of coverage in the UK, overshadowing what is arguably an even bigger headache for the PM than the coronavirus. Brexit really is now on the home stretch. The current transition period -- which was designed to prevent a sudden halt of the flow of goods, among other things, between the UK and the European Union -- ends on December 31. If the two sides are unable to strike a free trade agreement before that date, then the chaotic no-deal cliff edge -- which many fear would lead to shortages in things like food, toilet paper and medicine -- would be the new reality. Thursday's video conference of the EU27 is the penultimate time that the heads of government from the bloc's member states are scheduled to meet before the end of the year. The final meeting of 2020, on December 10, is considered too late in the day. As has been the case for months, a deal is in sight and the areas of agreement vastly outweigh the areas of disagreement. However, the key stumbling blocks that have prevented a deal remain. The first and most important is Brussels' insistence on a level playing field in exchange for access to the EU's single market. This, for some time, has been a red line for the UK, which objects to being bound by EU competition rules prohibiting how the government could use state aid to help the growth of British enterprise. The two other key sticking points -- fishing rights and the involvement of EU law in the arbitration of any deal -- are also difficult, though it's easier to see a path to agreement in both. It has for some time been assumed that when the talks reached the stages that they are at now (with legal texts on the table and a deal within grasp), the negotiators, who are civil servants acting on the mandate of their political leadership, would make way for political leaders to bridge the final gaps.\"\"\""
      ],
      "execution_count": null,
      "outputs": []
    },
    {
      "cell_type": "code",
      "metadata": {
        "id": "f8nJ_ejm-sH7"
      },
      "source": [
        "from nltk.tokenize import RegexpTokenizer\n",
        "tokenizer = RegexpTokenizer(r'\\w+')\n",
        "\n",
        "words = tokenizer.tokenize(text)"
      ],
      "execution_count": null,
      "outputs": []
    },
    {
      "cell_type": "code",
      "metadata": {
        "id": "qbxA8rZ4-5-z",
        "colab": {
          "base_uri": "https://localhost:8080/"
        },
        "outputId": "4a3d32b8-7a4e-4e9d-aa56-46bcbf93faa4"
      },
      "source": [
        "nltk.sent_tokenize(text)"
      ],
      "execution_count": null,
      "outputs": [
        {
          "output_type": "execute_result",
          "data": {
            "text/plain": [
              "['For the second time this year, the coronavirus has found its way to the very top of British politics and forced Prime Minister Boris Johnson into self-quarantine.',\n",
              " 'On Sunday night, Johnson tweeted that he must \"self-isolate for two weeks, after being in contact with someone with Covid-19.\"',\n",
              " '\"It doesn\\'t matter that I\\'ve had the disease and I\\'m bursting with antibodies,\" he said in a Monday video message, adding that he \"felt great\" and would keep leading the UK virus response, as well as his government\\'s plans to \"#BuildBackBetter.\"',\n",
              " 'Yet the optimism in that message, including the hashtag, masks the reality of exactly how enormous a week this is for the Johnson premiership, and how much of a blow it is for the PM to be trapped in solitude.',\n",
              " 'Downing Street had spent the weekend dealing with the fallout from three straight days of chaos, in which two of his most senior advisers dramatically resigned following allegations that they had been briefing viciously against both Johnson himself and his fiancée, Carrie Symonds.',\n",
              " \"The advisers in question, Lee Cain and Dominic Cummings, were among the most controversial and disliked members of Johnson's inner circle and have been accused by numerous people in government of being power hungry and self-interested.\",\n",
              " \"Before Johnson's self-quarantining, the turmoil in Downing Street had dominated five days of coverage in the UK, overshadowing what is arguably an even bigger headache for the PM than the coronavirus.\",\n",
              " 'Brexit really is now on the home stretch.',\n",
              " 'The current transition period -- which was designed to prevent a sudden halt of the flow of goods, among other things, between the UK and the European Union -- ends on December 31.',\n",
              " 'If the two sides are unable to strike a free trade agreement before that date, then the chaotic no-deal cliff edge -- which many fear would lead to shortages in things like food, toilet paper and medicine -- would be the new reality.',\n",
              " \"Thursday's video conference of the EU27 is the penultimate time that the heads of government from the bloc's member states are scheduled to meet before the end of the year.\",\n",
              " 'The final meeting of 2020, on December 10, is considered too late in the day.',\n",
              " 'As has been the case for months, a deal is in sight and the areas of agreement vastly outweigh the areas of disagreement.',\n",
              " 'However, the key stumbling blocks that have prevented a deal remain.',\n",
              " \"The first and most important is Brussels' insistence on a level playing field in exchange for access to the EU's single market.\",\n",
              " 'This, for some time, has been a red line for the UK, which objects to being bound by EU competition rules prohibiting how the government could use state aid to help the growth of British enterprise.',\n",
              " \"The two other key sticking points -- fishing rights and the involvement of EU law in the arbitration of any deal -- are also difficult, though it's easier to see a path to agreement in both.\",\n",
              " 'It has for some time been assumed that when the talks reached the stages that they are at now (with legal texts on the table and a deal within grasp), the negotiators, who are civil servants acting on the mandate of their political leadership, would make way for political leaders to bridge the final gaps.']"
            ]
          },
          "metadata": {
            "tags": []
          },
          "execution_count": 4
        }
      ]
    },
    {
      "cell_type": "code",
      "metadata": {
        "id": "Inu0BjwS-9iF",
        "colab": {
          "base_uri": "https://localhost:8080/"
        },
        "outputId": "13ef97f6-de9d-4aaa-ee63-1054b9e2f73a"
      },
      "source": [
        "from nltk.probability import FreqDist\n",
        "freq = FreqDist(words)\n",
        "freq.most_common(10)"
      ],
      "execution_count": null,
      "outputs": [
        {
          "output_type": "execute_result",
          "data": {
            "text/plain": [
              "[('the', 47),\n",
              " ('of', 20),\n",
              " ('and', 15),\n",
              " ('in', 15),\n",
              " ('to', 13),\n",
              " ('a', 11),\n",
              " ('that', 10),\n",
              " ('for', 10),\n",
              " ('is', 8),\n",
              " ('s', 7)]"
            ]
          },
          "metadata": {
            "tags": []
          },
          "execution_count": 5
        }
      ]
    },
    {
      "cell_type": "code",
      "metadata": {
        "id": "0ZBxbaDK_PFB",
        "colab": {
          "base_uri": "https://localhost:8080/",
          "height": 330
        },
        "outputId": "41dc82b6-27bb-4713-8049-d00d5d39b756"
      },
      "source": [
        "import matplotlib.pyplot as plt\n",
        "freq.plot(100,cumulative=False)\n",
        "plt.show()"
      ],
      "execution_count": null,
      "outputs": [
        {
          "output_type": "display_data",
          "data": {
            "image/png": "[encoded data removed]",
            "text/plain": [
              "<Figure size 432x288 with 1 Axes>"
            ]
          },
          "metadata": {
            "tags": [],
            "needs_background": "light"
          }
        }
      ]
    },
    {
      "cell_type": "markdown",
      "metadata": {
        "id": "BxoNoGm0_2jd"
      },
      "source": [
        "Check for \"Stop Words\""
      ]
    },
    {
      "cell_type": "code",
      "metadata": {
        "id": "66Max7Y1_V49",
        "colab": {
          "base_uri": "https://localhost:8080/"
        },
        "outputId": "85781920-852c-405a-cc79-0ee5559eecde"
      },
      "source": [
        "import nltk\n",
        "nltk.download('stopwords')\n",
        "\n",
        "from nltk.corpus import stopwords\n",
        "stopwords.words('english')\n",
        "print(stopwords.words() [620:680])"
      ],
      "execution_count": null,
      "outputs": [
        {
          "output_type": "stream",
          "text": [
            "[nltk_data] Downloading package stopwords to /root/nltk_data...\n",
            "[nltk_data]   Unzipping corpora/stopwords.zip.\n",
            "['your', 'yours', 'yourself', 'yourselves', 'he', 'him', 'his', 'himself', 'she', \"she's\", 'her', 'hers', 'herself', 'it', \"it's\", 'its', 'itself', 'they', 'them', 'their', 'theirs', 'themselves', 'what', 'which', 'who', 'whom', 'this', 'that', \"that'll\", 'these', 'those', 'am', 'is', 'are', 'was', 'were', 'be', 'been', 'being', 'have', 'has', 'had', 'having', 'do', 'does', 'did', 'doing', 'a', 'an', 'the', 'and', 'but', 'if', 'or', 'because', 'as', 'until', 'while', 'of', 'at']\n"
          ],
          "name": "stdout"
        }
      ]
    },
    {
      "cell_type": "code",
      "metadata": {
        "id": "15ttRyqa__Wd",
        "colab": {
          "base_uri": "https://localhost:8080/"
        },
        "outputId": "c67b9b65-de2f-458f-8a80-ebde1a4a2822"
      },
      "source": [
        "print(stopwords.fileids())"
      ],
      "execution_count": null,
      "outputs": [
        {
          "output_type": "stream",
          "text": [
            "['arabic', 'azerbaijani', 'danish', 'dutch', 'english', 'finnish', 'french', 'german', 'greek', 'hungarian', 'indonesian', 'italian', 'kazakh', 'nepali', 'norwegian', 'portuguese', 'romanian', 'russian', 'slovene', 'spanish', 'swedish', 'tajik', 'turkish']\n"
          ],
          "name": "stdout"
        }
      ]
    },
    {
      "cell_type": "code",
      "metadata": {
        "id": "E-iY1mztAapy"
      },
      "source": [
        "en_stops = set(stopwords.words('english'))\n",
        "\n",
        "filterd = []\n",
        "for x in words:\n",
        "  if x not in en_stops:\n",
        "    filterd.append(x)"
      ],
      "execution_count": null,
      "outputs": []
    },
    {
      "cell_type": "code",
      "metadata": {
        "id": "D1TLubVHBA-b",
        "colab": {
          "base_uri": "https://localhost:8080/"
        },
        "outputId": "88865cf3-7f7f-4ab0-ec92-5d81c61660d9"
      },
      "source": [
        "filterd_dist = FreqDist(filterd)\n",
        "filterd_dist.most_common(10)"
      ],
      "execution_count": null,
      "outputs": [
        {
          "output_type": "execute_result",
          "data": {
            "text/plain": [
              "[('Johnson', 6),\n",
              " ('The', 5),\n",
              " ('deal', 5),\n",
              " ('time', 4),\n",
              " ('self', 4),\n",
              " ('two', 4),\n",
              " ('would', 4),\n",
              " ('UK', 4),\n",
              " ('government', 4),\n",
              " ('agreement', 3)]"
            ]
          },
          "metadata": {
            "tags": []
          },
          "execution_count": 10
        }
      ]
    },
    {
      "cell_type": "markdown",
      "metadata": {
        "id": "uuBj_pg3SXMb"
      },
      "source": [
        "Checking for Stemmerize words"
      ]
    },
    {
      "cell_type": "code",
      "metadata": {
        "id": "9YeZQL1jBf03"
      },
      "source": [
        "from nltk.stem import PorterStemmer\n",
        "\n",
        "ps = PorterStemmer()\n",
        "stemmered = []\n",
        "for x in filterd:\n",
        "  stemmered.append(ps.stem(x))"
      ],
      "execution_count": null,
      "outputs": []
    },
    {
      "cell_type": "code",
      "metadata": {
        "id": "zzIRl7ZHHcee",
        "colab": {
          "base_uri": "https://localhost:8080/"
        },
        "outputId": "16bc6dd1-7d86-43ea-a53e-51036d2aff79"
      },
      "source": [
        "stemmered_dist = FreqDist(stemmered)\n",
        "stemmered_dist.most_common(10)"
      ],
      "execution_count": null,
      "outputs": [
        {
          "output_type": "execute_result",
          "data": {
            "text/plain": [
              "[('johnson', 6),\n",
              " ('deal', 6),\n",
              " ('the', 5),\n",
              " ('time', 4),\n",
              " ('self', 4),\n",
              " ('two', 4),\n",
              " ('would', 4),\n",
              " ('UK', 4),\n",
              " ('govern', 4),\n",
              " ('polit', 3)]"
            ]
          },
          "metadata": {
            "tags": []
          },
          "execution_count": 12
        }
      ]
    },
    {
      "cell_type": "markdown",
      "metadata": {
        "id": "GhwTwGDkShPI"
      },
      "source": [
        "Checking for Lemmatizeried words "
      ]
    },
    {
      "cell_type": "code",
      "metadata": {
        "id": "mlzbmhjbXAUS",
        "colab": {
          "base_uri": "https://localhost:8080/"
        },
        "outputId": "7e05356e-34c5-4497-8ab8-a405e6fc49ed"
      },
      "source": [
        "%pip install -U textblob"
      ],
      "execution_count": null,
      "outputs": [
        {
          "output_type": "stream",
          "text": [
            "Requirement already up-to-date: textblob in /usr/local/lib/python3.6/dist-packages (0.15.3)\n",
            "Requirement already satisfied, skipping upgrade: nltk>=3.1 in /usr/local/lib/python3.6/dist-packages (from textblob) (3.2.5)\n",
            "Requirement already satisfied, skipping upgrade: six in /usr/local/lib/python3.6/dist-packages (from nltk>=3.1->textblob) (1.15.0)\n"
          ],
          "name": "stdout"
        }
      ]
    },
    {
      "cell_type": "code",
      "metadata": {
        "id": "yj-vZ9WqHvmU",
        "colab": {
          "base_uri": "https://localhost:8080/",
          "height": 205
        },
        "outputId": "f7b57535-b114-40ab-c10c-1bc0126c6c80"
      },
      "source": [
        "import nltk\n",
        "nltk.download('wordnet')\n",
        "nltk.download('averaged_perceptron_tagger')\n",
        "from nltk.stem import WordNetLemmatizer \n",
        "from textblob import TextBlob, Word\n",
        "\n",
        "def lemmatize_with_postag(sentence):\n",
        "    sent = TextBlob(sentence)\n",
        "    tag_dict = {\"J\": 'a', \n",
        "                \"N\": 'n', \n",
        "                \"V\": 'v', \n",
        "                \"R\": 'r'}\n",
        "    words_and_tags = [(w, tag_dict.get(pos[0], 'n')) for w, pos in sent.tags]    \n",
        "    lemmatized_list = [wd.lemmatize(tag) for wd, tag in words_and_tags]\n",
        "    return \" \".join(lemmatized_list)\n",
        "\n",
        "# Lemmatize\n",
        "sentence = text\n",
        "lemmatize_with_postag(sentence)"
      ],
      "execution_count": null,
      "outputs": [
        {
          "output_type": "stream",
          "text": [
            "[nltk_data] Downloading package wordnet to /root/nltk_data...\n",
            "[nltk_data]   Unzipping corpora/wordnet.zip.\n",
            "[nltk_data] Downloading package averaged_perceptron_tagger to\n",
            "[nltk_data]     /root/nltk_data...\n",
            "[nltk_data]   Package averaged_perceptron_tagger is already up-to-\n",
            "[nltk_data]       date!\n"
          ],
          "name": "stdout"
        },
        {
          "output_type": "execute_result",
          "data": {
            "application/vnd.google.colaboratory.intrinsic+json": {
              "type": "string"
            },
            "text/plain": [
              "\"For the second time this year the coronavirus have find it way to the very top of British politics and force Prime Minister Boris Johnson into self-quarantine On Sunday night Johnson tweet that he must self-isolate for two week after be in contact with someone with Covid-19 It do n't matter that I 've have the disease and I 'm burst with antibody he say in a Monday video message add that he felt great and would keep lead the UK virus response as well a his government 's plan to BuildBackBetter Yet the optimism in that message include the hashtag mask the reality of exactly how enormous a week this be for the Johnson premiership and how much of a blow it be for the PM to be trap in solitude Downing Street have spend the weekend deal with the fallout from three straight day of chaos in which two of his most senior adviser dramatically resign follow allegation that they have be brief viciously against both Johnson himself and his fiancée Carrie Symonds The adviser in question Lee Cain and Dominic Cummings be among the most controversial and disliked member of Johnson 's inner circle and have be accuse by numerous people in government of be power hungry and self-interested Before Johnson 's self-quarantining the turmoil in Downing Street have dominate five day of coverage in the UK overshadow what be arguably an even big headache for the PM than the coronavirus Brexit really be now on the home stretch The current transition period which be design to prevent a sudden halt of the flow of good among other thing between the UK and the European Union end on December 31 If the two side be unable to strike a free trade agreement before that date then the chaotic no-deal cliff edge which many fear would lead to shortage in thing like food toilet paper and medicine would be the new reality Thursday 's video conference of the EU27 be the penultimate time that the head of government from the bloc 's member state be schedule to meet before the end of the year The final meeting of 2020 on December 10 be consider too late in the day As have be the case for month a deal be in sight and the area of agreement vastly outweigh the area of disagreement However the key stumbling block that have prevent a deal remain The first and most important be Brussels ' insistence on a level playing field in exchange for access to the EU 's single market This for some time have be a red line for the UK which object to be bind by EU competition rule prohibit how the government could use state aid to help the growth of British enterprise The two other key stick point fish right and the involvement of EU law in the arbitration of any deal be also difficult though it 's easy to see a path to agreement in both It have for some time be assume that when the talk reach the stage that they be at now with legal text on the table and a deal within grasp the negotiator who be civil servant act on the mandate of their political leadership would make way for political leader to bridge the final gap\""
            ]
          },
          "metadata": {
            "tags": []
          },
          "execution_count": 15
        }
      ]
    },
    {
      "cell_type": "code",
      "metadata": {
        "id": "Uhm5BmH3Z8I9"
      },
      "source": [
        "new = lemmatize_with_postag(sentence)\n",
        "\n",
        "new_words = tokenizer.tokenize(new)"
      ],
      "execution_count": null,
      "outputs": []
    },
    {
      "cell_type": "code",
      "metadata": {
        "id": "aqjYxOToVAlf",
        "colab": {
          "base_uri": "https://localhost:8080/"
        },
        "outputId": "600ed462-e022-40a8-98ed-d0163009ee60"
      },
      "source": [
        "new_list = []\n",
        "for x in new_words:\n",
        "  if x not in en_stops:\n",
        "    new_list.append(x)\n",
        "\n",
        "freq_new = FreqDist(new_list)\n",
        "freq_new.most_common(10)"
      ],
      "execution_count": null,
      "outputs": [
        {
          "output_type": "execute_result",
          "data": {
            "text/plain": [
              "[('Johnson', 6),\n",
              " ('deal', 6),\n",
              " ('The', 5),\n",
              " ('time', 4),\n",
              " ('self', 4),\n",
              " ('two', 4),\n",
              " ('would', 4),\n",
              " ('UK', 4),\n",
              " ('government', 4),\n",
              " ('day', 3)]"
            ]
          },
          "metadata": {
            "tags": []
          },
          "execution_count": 17
        }
      ]
    },
    {
      "cell_type": "markdown",
      "metadata": {
        "id": "fLOtq4UJZXEo"
      },
      "source": [
        "Sentiment Analysis"
      ]
    },
    {
      "cell_type": "code",
      "metadata": {
        "id": "0KSeaHC6ZXoW"
      },
      "source": [
        "from nltk import sentiment\n",
        "from nltk.sentiment.vader import SentimentIntensityAnalyzer \n",
        "   \n",
        "def sentiment_scores(sentence): \n",
        "  \n",
        "    sid_obj = SentimentIntensityAnalyzer() \n",
        "   \n",
        "    sentiment_dict = sid_obj.polarity_scores(sentence) \n",
        "      \n",
        "    print(\"Overall sentiment dictionary is : \", sentiment_dict) \n",
        "    print(\"sentence was rated as \", sentiment_dict['neg']*100, \"% Negative\") \n",
        "    print(\"sentence was rated as \", sentiment_dict['neu']*100, \"% Neutral\") \n",
        "    print(\"sentence was rated as \", sentiment_dict['pos']*100, \"% Positive\") \n",
        "  \n",
        "    print(\"Sentence Overall Rated As\", end = \" \") \n",
        "   \n",
        "    if sentiment_dict['compound'] >= 0.05 : \n",
        "        print(\"Positive\") \n",
        "  \n",
        "    elif sentiment_dict['compound'] <= - 0.05 : \n",
        "        print(\"Negative\") \n",
        "  \n",
        "    else : \n",
        "        print(\"Neutral\") "
      ],
      "execution_count": null,
      "outputs": []
    },
    {
      "cell_type": "code",
      "metadata": {
        "id": "QNIEm2v9Z9mk",
        "colab": {
          "base_uri": "https://localhost:8080/"
        },
        "outputId": "59299498-e0f0-4ae0-b959-9e552749c957"
      },
      "source": [
        "import nltk\n",
        "nltk.download('vader_lexicon')\n",
        "\n",
        "if __name__ == \"__main__\" : \n",
        "  \n",
        "    print(\"\\n1st statement :\") \n",
        "    sentence = new\n",
        "    sentiment_scores(sentence) \n",
        "\n",
        "    print(\"\\n2nd Statement :\") \n",
        "    sentence = text\n",
        "    sentiment_scores(sentence) \n",
        "\n",
        "    print(\"\\n3rd Statement :\") \n",
        "    sentence = text2\n",
        "    sentiment_scores(sentence) "
      ],
      "execution_count": null,
      "outputs": [
        {
          "output_type": "stream",
          "text": [
            "[nltk_data] Downloading package vader_lexicon to /root/nltk_data...\n",
            "[nltk_data]   Package vader_lexicon is already up-to-date!\n",
            "\n",
            "1st statement :\n",
            "Overall sentiment dictionary is :  {'neg': 0.072, 'neu': 0.846, 'pos': 0.082, 'compound': 0.7547}\n",
            "sentence was rated as  7.199999999999999 % Negative\n",
            "sentence was rated as  84.6 % Neutral\n",
            "sentence was rated as  8.200000000000001 % Positive\n",
            "Sentence Overall Rated As Positive\n",
            "\n",
            "2nd Statement :\n",
            "Overall sentiment dictionary is :  {'neg': 0.074, 'neu': 0.848, 'pos': 0.078, 'compound': 0.3727}\n",
            "sentence was rated as  7.3999999999999995 % Negative\n",
            "sentence was rated as  84.8 % Neutral\n",
            "sentence was rated as  7.8 % Positive\n",
            "Sentence Overall Rated As Positive\n",
            "\n",
            "3rd Statement :\n",
            "Overall sentiment dictionary is :  {'neg': 0.097, 'neu': 0.815, 'pos': 0.088, 'compound': -0.7655}\n",
            "sentence was rated as  9.700000000000001 % Negative\n",
            "sentence was rated as  81.5 % Neutral\n",
            "sentence was rated as  8.799999999999999 % Positive\n",
            "Sentence Overall Rated As Negative\n"
          ],
          "name": "stdout"
        }
      ]
    },
    {
      "cell_type": "markdown",
      "metadata": {
        "id": "xbtvZgaWbnX1"
      },
      "source": [
        "Bag of Words "
      ]
    },
    {
      "cell_type": "code",
      "metadata": {
        "id": "f3S6AaZNbGQ5"
      },
      "source": [
        "text2 = \"\"\"President Donald Trump is facing a barrage of calls to permit potentially life-saving transition talks between his health officials and incoming President-elect Joe Biden's aides on a fast-worsening pandemic he is continuing to ignore in his obsessive effort to discredit an election that he clearly lost. The increasingly urgent pleas are coming from inside his administration, the President-elect's team and independent public health experts as Covid-19 cases rage out of control countrywide, claiming more than 1,000 US lives a day. More than 246,000 Americans have now died from the disease, and a bitter winter lies ahead even amid encouraging news such as Monday's announcement that a vaccine developed by Moderna is demonstrating a high success rate in early clinical trials, the second such positive vaccine news in about a week. But instead of listening or mobilizing to tackle what some medical experts warn is becoming a \"humanitarian\" crisis, Trump spent the weekend during which the US passed 11 million infections amplifying lies and misinformation about his election loss. At one point, he appeared to acknowledge Sunday in a tweet that Biden won, before backtracking with a stream of defiance on Twitter. This came as the nation's top infectious disease expert, Dr. Anthony Fauci, said on CNN's \"State of the Union\" Sunday that \"of course it would be better if we could start working with\" the Biden team that will take office on January 20. Biden's incoming White House chief of staff Ron Klain said Sunday that the President-elect's team had been unable to talk to current top health officials like Fauci about the pandemic owing to Trump's refusal to trigger ascertainment — the formal process of opening a transition to a new administration. \"Joe Biden's going to become president of the United States in the midst of an ongoing crisis. That has to be a seamless transition,\" Klain said on NBC's \"Meet the Press,\" adding that while the new administration planned to contact top pharmaceutical firms making the vaccine like Pfizer, it was particularly key to get in touch with Department of Health and Human Services officials responsible for rolling it out in the coming months. But the official who is currently most influential with the President, Dr. Scott Atlas, who critics say favors a herd immunity approach that could lead to thousands of deaths, wrote an inflammatory tweet on Sunday that exemplified the White House's contempt for unifying leadership during the pandemic. Atlas called on the people of Michigan to \"rise up\" against new Covid-19 restrictions introduced in schools, theaters and restaurants by Democratic Gov. Gretchen Whitmer -- who was recently the target of an alleged domestic terrorism kidnapping plot.\"\"\""
      ],
      "execution_count": null,
      "outputs": []
    },
    {
      "cell_type": "code",
      "metadata": {
        "id": "0Wiin2GebvNz"
      },
      "source": [
        "words2 = tokenizer.tokenize(text2)\n",
        "filtered2 = [w for w in words2 if w not in en_stops]\n",
        "stemmered2 = [ps.stem(w) for w in filtered2]\n",
        "freq_words2 = FreqDist(stemmered2)"
      ],
      "execution_count": null,
      "outputs": []
    },
    {
      "cell_type": "code",
      "metadata": {
        "id": "NZvUtNqZb-3d",
        "colab": {
          "base_uri": "https://localhost:8080/",
          "height": 160
        },
        "outputId": "946dc5ce-5e3d-4541-f6df-6c6e8856284d"
      },
      "source": [
        "import pandas as pd\n",
        "\n",
        "df = pd.DataFrame([dict(stemmered_dist),dict(freq_words2)])\n",
        "df.fillna(0,inplace=True)\n",
        "df.head()"
      ],
      "execution_count": null,
      "outputs": [
        {
          "output_type": "execute_result",
          "data": {
            "text/html": [
              "<div>\n",
              "<style scoped>\n",
              "    .dataframe tbody tr th:only-of-type {\n",
              "        vertical-align: middle;\n",
              "    }\n",
              "\n",
              "    .dataframe tbody tr th {\n",
              "        vertical-align: top;\n",
              "    }\n",
              "\n",
              "    .dataframe thead th {\n",
              "        text-align: right;\n",
              "    }\n",
              "</style>\n",
              "<table border=\"1\" class=\"dataframe\">\n",
              "  <thead>\n",
              "    <tr style=\"text-align: right;\">\n",
              "      <th></th>\n",
              "      <th>for</th>\n",
              "      <th>second</th>\n",
              "      <th>time</th>\n",
              "      <th>year</th>\n",
              "      <th>coronaviru</th>\n",
              "      <th>found</th>\n",
              "      <th>way</th>\n",
              "      <th>top</th>\n",
              "      <th>british</th>\n",
              "      <th>polit</th>\n",
              "      <th>forc</th>\n",
              "      <th>prime</th>\n",
              "      <th>minist</th>\n",
              "      <th>bori</th>\n",
              "      <th>johnson</th>\n",
              "      <th>self</th>\n",
              "      <th>quarantin</th>\n",
              "      <th>On</th>\n",
              "      <th>sunday</th>\n",
              "      <th>night</th>\n",
              "      <th>tweet</th>\n",
              "      <th>must</th>\n",
              "      <th>isol</th>\n",
              "      <th>two</th>\n",
              "      <th>week</th>\n",
              "      <th>contact</th>\n",
              "      <th>someon</th>\n",
              "      <th>covid</th>\n",
              "      <th>19</th>\n",
              "      <th>It</th>\n",
              "      <th>matter</th>\n",
              "      <th>I</th>\n",
              "      <th>diseas</th>\n",
              "      <th>burst</th>\n",
              "      <th>antibodi</th>\n",
              "      <th>said</th>\n",
              "      <th>monday</th>\n",
              "      <th>video</th>\n",
              "      <th>messag</th>\n",
              "      <th>ad</th>\n",
              "      <th>...</th>\n",
              "      <th>particularli</th>\n",
              "      <th>get</th>\n",
              "      <th>touch</th>\n",
              "      <th>depart</th>\n",
              "      <th>human</th>\n",
              "      <th>servic</th>\n",
              "      <th>roll</th>\n",
              "      <th>influenti</th>\n",
              "      <th>scott</th>\n",
              "      <th>atla</th>\n",
              "      <th>critic</th>\n",
              "      <th>say</th>\n",
              "      <th>favor</th>\n",
              "      <th>herd</th>\n",
              "      <th>immun</th>\n",
              "      <th>approach</th>\n",
              "      <th>thousand</th>\n",
              "      <th>death</th>\n",
              "      <th>wrote</th>\n",
              "      <th>inflammatori</th>\n",
              "      <th>exemplifi</th>\n",
              "      <th>contempt</th>\n",
              "      <th>unifi</th>\n",
              "      <th>michigan</th>\n",
              "      <th>rise</th>\n",
              "      <th>restrict</th>\n",
              "      <th>introduc</th>\n",
              "      <th>school</th>\n",
              "      <th>theater</th>\n",
              "      <th>restaur</th>\n",
              "      <th>democrat</th>\n",
              "      <th>gov</th>\n",
              "      <th>gretchen</th>\n",
              "      <th>whitmer</th>\n",
              "      <th>recent</th>\n",
              "      <th>target</th>\n",
              "      <th>domest</th>\n",
              "      <th>terror</th>\n",
              "      <th>kidnap</th>\n",
              "      <th>plot</th>\n",
              "    </tr>\n",
              "  </thead>\n",
              "  <tbody>\n",
              "    <tr>\n",
              "      <th>0</th>\n",
              "      <td>1.0</td>\n",
              "      <td>1</td>\n",
              "      <td>4.0</td>\n",
              "      <td>2.0</td>\n",
              "      <td>2.0</td>\n",
              "      <td>1.0</td>\n",
              "      <td>2.0</td>\n",
              "      <td>1</td>\n",
              "      <td>2.0</td>\n",
              "      <td>3.0</td>\n",
              "      <td>1.0</td>\n",
              "      <td>1.0</td>\n",
              "      <td>1.0</td>\n",
              "      <td>1.0</td>\n",
              "      <td>6.0</td>\n",
              "      <td>4.0</td>\n",
              "      <td>2.0</td>\n",
              "      <td>1.0</td>\n",
              "      <td>1</td>\n",
              "      <td>1.0</td>\n",
              "      <td>1</td>\n",
              "      <td>1.0</td>\n",
              "      <td>1.0</td>\n",
              "      <td>4.0</td>\n",
              "      <td>2</td>\n",
              "      <td>1</td>\n",
              "      <td>1.0</td>\n",
              "      <td>1</td>\n",
              "      <td>1</td>\n",
              "      <td>2.0</td>\n",
              "      <td>1.0</td>\n",
              "      <td>2.0</td>\n",
              "      <td>1</td>\n",
              "      <td>1.0</td>\n",
              "      <td>1.0</td>\n",
              "      <td>1</td>\n",
              "      <td>1</td>\n",
              "      <td>2.0</td>\n",
              "      <td>2.0</td>\n",
              "      <td>1</td>\n",
              "      <td>...</td>\n",
              "      <td>0.0</td>\n",
              "      <td>0.0</td>\n",
              "      <td>0.0</td>\n",
              "      <td>0.0</td>\n",
              "      <td>0.0</td>\n",
              "      <td>0.0</td>\n",
              "      <td>0.0</td>\n",
              "      <td>0.0</td>\n",
              "      <td>0.0</td>\n",
              "      <td>0.0</td>\n",
              "      <td>0.0</td>\n",
              "      <td>0.0</td>\n",
              "      <td>0.0</td>\n",
              "      <td>0.0</td>\n",
              "      <td>0.0</td>\n",
              "      <td>0.0</td>\n",
              "      <td>0.0</td>\n",
              "      <td>0.0</td>\n",
              "      <td>0.0</td>\n",
              "      <td>0.0</td>\n",
              "      <td>0.0</td>\n",
              "      <td>0.0</td>\n",
              "      <td>0.0</td>\n",
              "      <td>0.0</td>\n",
              "      <td>0.0</td>\n",
              "      <td>0.0</td>\n",
              "      <td>0.0</td>\n",
              "      <td>0.0</td>\n",
              "      <td>0.0</td>\n",
              "      <td>0.0</td>\n",
              "      <td>0.0</td>\n",
              "      <td>0.0</td>\n",
              "      <td>0.0</td>\n",
              "      <td>0.0</td>\n",
              "      <td>0.0</td>\n",
              "      <td>0.0</td>\n",
              "      <td>0.0</td>\n",
              "      <td>0.0</td>\n",
              "      <td>0.0</td>\n",
              "      <td>0.0</td>\n",
              "    </tr>\n",
              "    <tr>\n",
              "      <th>1</th>\n",
              "      <td>0.0</td>\n",
              "      <td>1</td>\n",
              "      <td>0.0</td>\n",
              "      <td>0.0</td>\n",
              "      <td>0.0</td>\n",
              "      <td>0.0</td>\n",
              "      <td>0.0</td>\n",
              "      <td>3</td>\n",
              "      <td>0.0</td>\n",
              "      <td>0.0</td>\n",
              "      <td>0.0</td>\n",
              "      <td>0.0</td>\n",
              "      <td>0.0</td>\n",
              "      <td>0.0</td>\n",
              "      <td>0.0</td>\n",
              "      <td>0.0</td>\n",
              "      <td>0.0</td>\n",
              "      <td>0.0</td>\n",
              "      <td>4</td>\n",
              "      <td>0.0</td>\n",
              "      <td>2</td>\n",
              "      <td>0.0</td>\n",
              "      <td>0.0</td>\n",
              "      <td>0.0</td>\n",
              "      <td>1</td>\n",
              "      <td>1</td>\n",
              "      <td>0.0</td>\n",
              "      <td>2</td>\n",
              "      <td>2</td>\n",
              "      <td>0.0</td>\n",
              "      <td>0.0</td>\n",
              "      <td>0.0</td>\n",
              "      <td>2</td>\n",
              "      <td>0.0</td>\n",
              "      <td>0.0</td>\n",
              "      <td>3</td>\n",
              "      <td>1</td>\n",
              "      <td>0.0</td>\n",
              "      <td>0.0</td>\n",
              "      <td>1</td>\n",
              "      <td>...</td>\n",
              "      <td>1.0</td>\n",
              "      <td>1.0</td>\n",
              "      <td>1.0</td>\n",
              "      <td>1.0</td>\n",
              "      <td>1.0</td>\n",
              "      <td>1.0</td>\n",
              "      <td>1.0</td>\n",
              "      <td>1.0</td>\n",
              "      <td>1.0</td>\n",
              "      <td>2.0</td>\n",
              "      <td>1.0</td>\n",
              "      <td>1.0</td>\n",
              "      <td>1.0</td>\n",
              "      <td>1.0</td>\n",
              "      <td>1.0</td>\n",
              "      <td>1.0</td>\n",
              "      <td>1.0</td>\n",
              "      <td>1.0</td>\n",
              "      <td>1.0</td>\n",
              "      <td>1.0</td>\n",
              "      <td>1.0</td>\n",
              "      <td>1.0</td>\n",
              "      <td>1.0</td>\n",
              "      <td>1.0</td>\n",
              "      <td>1.0</td>\n",
              "      <td>1.0</td>\n",
              "      <td>1.0</td>\n",
              "      <td>1.0</td>\n",
              "      <td>1.0</td>\n",
              "      <td>1.0</td>\n",
              "      <td>1.0</td>\n",
              "      <td>1.0</td>\n",
              "      <td>1.0</td>\n",
              "      <td>1.0</td>\n",
              "      <td>1.0</td>\n",
              "      <td>1.0</td>\n",
              "      <td>1.0</td>\n",
              "      <td>1.0</td>\n",
              "      <td>1.0</td>\n",
              "      <td>1.0</td>\n",
              "    </tr>\n",
              "  </tbody>\n",
              "</table>\n",
              "<p>2 rows × 409 columns</p>\n",
              "</div>"
            ],
            "text/plain": [
              "   for  second  time  year  coronaviru  ...  target  domest  terror  kidnap  plot\n",
              "0  1.0       1   4.0   2.0         2.0  ...     0.0     0.0     0.0     0.0   0.0\n",
              "1  0.0       1   0.0   0.0         0.0  ...     1.0     1.0     1.0     1.0   1.0\n",
              "\n",
              "[2 rows x 409 columns]"
            ]
          },
          "metadata": {
            "tags": []
          },
          "execution_count": 20
        }
      ]
    },
    {
      "cell_type": "code",
      "metadata": {
        "id": "_AYlncYXceCt",
        "colab": {
          "base_uri": "https://localhost:8080/"
        },
        "outputId": "11bad6ab-014a-43e6-a6cb-481175b09e60"
      },
      "source": [
        "from sklearn.metrics.pairwise import cosine_similarity\n",
        "\n",
        "cosine_similarity(df)"
      ],
      "execution_count": null,
      "outputs": [
        {
          "output_type": "execute_result",
          "data": {
            "text/plain": [
              "array([[1.        , 0.14682763],\n",
              "       [0.14682763, 1.        ]])"
            ]
          },
          "metadata": {
            "tags": []
          },
          "execution_count": 21
        }
      ]
    },
    {
      "cell_type": "code",
      "metadata": {
        "id": "-VsCwmM8ZOja"
      },
      "source": [
        ""
      ],
      "execution_count": null,
      "outputs": []
    }
  ]
}