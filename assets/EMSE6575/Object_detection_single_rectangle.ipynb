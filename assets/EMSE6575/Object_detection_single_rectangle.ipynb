{
  "nbformat": 4,
  "nbformat_minor": 0,
  "metadata": {
    "colab": {
      "name": "Object detection -- single rectangle",
      "provenance": []
    },
    "kernelspec": {
      "name": "python3",
      "display_name": "Python 3"
    },
    "accelerator": "GPU"
  },
  "cells": [
    {
      "cell_type": "code",
      "metadata": {
        "id": "ezA9vUJudpfE"
      },
      "source": [
        "import numpy as np\n",
        "import matplotlib.pyplot as plt\n",
        "import matplotlib\n",
        "%matplotlib inline"
      ],
      "execution_count": null,
      "outputs": []
    },
    {
      "cell_type": "code",
      "metadata": {
        "colab": {
          "base_uri": "https://localhost:8080/"
        },
        "id": "1PzP9-SOshOI",
        "outputId": "7097df8f-7ae3-4557-f0a1-f3e05ff3c09b"
      },
      "source": [
        "\n",
        "# Create images with random rectangles and bounding boxes. \n",
        "num_imgs = 50000\n",
        "\n",
        "img_size = 8\n",
        "min_object_size = 1\n",
        "max_object_size = 4\n",
        "num_objects = 1\n",
        "\n",
        "bboxes = np.zeros((num_imgs, num_objects, 4))\n",
        "imgs = np.zeros((num_imgs, img_size, img_size))  # set background to 0\n",
        "\n",
        "for i_img in range(num_imgs):\n",
        "    for i_object in range(num_objects):\n",
        "        w, h = np.random.randint(min_object_size, max_object_size, size=2)\n",
        "        x = np.random.randint(0, img_size - w)\n",
        "        y = np.random.randint(0, img_size - h)\n",
        "        imgs[i_img, x:x+w, y:y+h] = 1.  # set rectangle to 1\n",
        "        bboxes[i_img, i_object] = [x, y, w, h]\n",
        "        \n",
        "imgs.shape, bboxes.shape\n"
      ],
      "execution_count": null,
      "outputs": [
        {
          "output_type": "execute_result",
          "data": {
            "text/plain": [
              "((50000, 8, 8), (50000, 1, 4))"
            ]
          },
          "metadata": {
            "tags": []
          },
          "execution_count": 2
        }
      ]
    },
    {
      "cell_type": "code",
      "metadata": {
        "colab": {
          "base_uri": "https://localhost:8080/",
          "height": 269
        },
        "id": "Do5UwyuWsueY",
        "outputId": "cc92f215-ae55-441c-9a10-81c0bb45c863"
      },
      "source": [
        "i =5\n",
        "plt.imshow(imgs[i].T, cmap='Greys', interpolation='none', origin='lower', extent=[0, img_size, 0, img_size])\n",
        "for bbox in bboxes[i]:\n",
        "    plt.gca().add_patch(matplotlib.patches.Rectangle((bbox[0], bbox[1]), bbox[2], bbox[3], ec='r', fc='none'))"
      ],
      "execution_count": null,
      "outputs": [
        {
          "output_type": "display_data",
          "data": {
            "image/png": "[encoded data removed]",
            "text/plain": [
              "<Figure size 432x288 with 1 Axes>"
            ]
          },
          "metadata": {
            "tags": [],
            "needs_background": "light"
          }
        }
      ]
    },
    {
      "cell_type": "code",
      "metadata": {
        "colab": {
          "base_uri": "https://localhost:8080/"
        },
        "id": "HqiNhxOds-jT",
        "outputId": "51c22fd6-cac4-46bc-b23d-02ff056c9727"
      },
      "source": [
        "# Reshape and normalize the image data to mean 0 and std 1. \n",
        "X = (imgs.reshape(num_imgs, -1) - np.mean(imgs)) / np.std(imgs)\n",
        "X.shape, np.mean(X), np.std(X)"
      ],
      "execution_count": null,
      "outputs": [
        {
          "output_type": "execute_result",
          "data": {
            "text/plain": [
              "((50000, 64), -3.5376146456655986e-17, 1.0)"
            ]
          },
          "metadata": {
            "tags": []
          },
          "execution_count": 7
        }
      ]
    },
    {
      "cell_type": "code",
      "metadata": {
        "colab": {
          "base_uri": "https://localhost:8080/"
        },
        "id": "de2SRPKmtFo7",
        "outputId": "c985743b-b167-4c8e-af70-6d6e4bd400b7"
      },
      "source": [
        "# Normalize x, y, w, h by img_size, so that all values are between 0 and 1.\n",
        "# Important: Do not shift to negative values (e.g. by setting to mean 0), because the IOU calculation needs positive w and h.\n",
        "y = bboxes.reshape(num_imgs, -1) / img_size\n",
        "y.shape, np.mean(y), np.std(y)"
      ],
      "execution_count": null,
      "outputs": [
        {
          "output_type": "execute_result",
          "data": {
            "text/plain": [
              "((50000, 4), 0.281348125, 0.17571291766396793)"
            ]
          },
          "metadata": {
            "tags": []
          },
          "execution_count": 8
        }
      ]
    },
    {
      "cell_type": "code",
      "metadata": {
        "id": "6_QB3RnotFeM"
      },
      "source": [
        "# Split training and test.\n",
        "i = int(0.8 * num_imgs)\n",
        "train_X = X[:i]\n",
        "test_X = X[i:]\n",
        "train_y = y[:i]\n",
        "test_y = y[i:]\n",
        "test_imgs = imgs[i:]\n",
        "test_bboxes = bboxes[i:]"
      ],
      "execution_count": null,
      "outputs": []
    },
    {
      "cell_type": "code",
      "metadata": {
        "id": "NWTMPDCrtcvx"
      },
      "source": [
        "from keras.models import Sequential\n",
        "from keras.layers import Dense, Activation, Dropout, Convolution2D, MaxPooling2D, Flatten\n",
        "from keras.optimizers import SGD\n",
        "filter_size = 3\n",
        "pool_size = 2\n",
        "\n",
        "\n",
        "model = Sequential([\n",
        "        Dense(512, input_dim=X.shape[-1]),\n",
        "        Activation('relu'),\n",
        "        Dense(128, input_dim=X.shape[-1]),\n",
        "        Activation('relu'),\n",
        "        Dropout(0.2),\n",
        "        Dense(y.shape[-1])\n",
        "    ])\n",
        "\n",
        "model.compile('adadelta', 'mse')"
      ],
      "execution_count": null,
      "outputs": []
    },
    {
      "cell_type": "code",
      "metadata": {
        "colab": {
          "base_uri": "https://localhost:8080/"
        },
        "id": "D9amJw0RuMmT",
        "outputId": "71bfb868-7064-49bf-b088-6f45a9494c1c"
      },
      "source": [
        "model.fit(train_X, train_y, epochs=30, validation_data=(test_X, test_y), verbose=2)"
      ],
      "execution_count": null,
      "outputs": [
        {
          "output_type": "stream",
          "text": [
            "Epoch 1/30\n",
            "1250/1250 - 2s - loss: 0.5446 - val_loss: 0.1817\n",
            "Epoch 2/30\n",
            "1250/1250 - 2s - loss: 0.2812 - val_loss: 0.0870\n",
            "Epoch 3/30\n",
            "1250/1250 - 2s - loss: 0.2028 - val_loss: 0.0664\n",
            "Epoch 4/30\n",
            "1250/1250 - 2s - loss: 0.1763 - val_loss: 0.0561\n",
            "Epoch 5/30\n",
            "1250/1250 - 2s - loss: 0.1573 - val_loss: 0.0480\n",
            "Epoch 6/30\n",
            "1250/1250 - 2s - loss: 0.1429 - val_loss: 0.0421\n",
            "Epoch 7/30\n",
            "1250/1250 - 2s - loss: 0.1316 - val_loss: 0.0375\n",
            "Epoch 8/30\n",
            "1250/1250 - 2s - loss: 0.1212 - val_loss: 0.0340\n",
            "Epoch 9/30\n",
            "1250/1250 - 2s - loss: 0.1119 - val_loss: 0.0313\n",
            "Epoch 10/30\n",
            "1250/1250 - 2s - loss: 0.1056 - val_loss: 0.0290\n",
            "Epoch 11/30\n",
            "1250/1250 - 2s - loss: 0.0988 - val_loss: 0.0272\n",
            "Epoch 12/30\n",
            "1250/1250 - 2s - loss: 0.0922 - val_loss: 0.0258\n",
            "Epoch 13/30\n",
            "1250/1250 - 2s - loss: 0.0870 - val_loss: 0.0246\n",
            "Epoch 14/30\n",
            "1250/1250 - 2s - loss: 0.0824 - val_loss: 0.0236\n",
            "Epoch 15/30\n",
            "1250/1250 - 2s - loss: 0.0772 - val_loss: 0.0230\n",
            "Epoch 16/30\n",
            "1250/1250 - 2s - loss: 0.0731 - val_loss: 0.0224\n",
            "Epoch 17/30\n",
            "1250/1250 - 2s - loss: 0.0692 - val_loss: 0.0219\n",
            "Epoch 18/30\n",
            "1250/1250 - 2s - loss: 0.0659 - val_loss: 0.0215\n",
            "Epoch 19/30\n",
            "1250/1250 - 2s - loss: 0.0629 - val_loss: 0.0212\n",
            "Epoch 20/30\n",
            "1250/1250 - 2s - loss: 0.0595 - val_loss: 0.0210\n",
            "Epoch 21/30\n",
            "1250/1250 - 2s - loss: 0.0569 - val_loss: 0.0207\n",
            "Epoch 22/30\n",
            "1250/1250 - 2s - loss: 0.0548 - val_loss: 0.0207\n",
            "Epoch 23/30\n",
            "1250/1250 - 2s - loss: 0.0526 - val_loss: 0.0206\n",
            "Epoch 24/30\n",
            "1250/1250 - 2s - loss: 0.0506 - val_loss: 0.0206\n",
            "Epoch 25/30\n",
            "1250/1250 - 2s - loss: 0.0485 - val_loss: 0.0206\n",
            "Epoch 26/30\n",
            "1250/1250 - 2s - loss: 0.0463 - val_loss: 0.0205\n",
            "Epoch 27/30\n",
            "1250/1250 - 2s - loss: 0.0450 - val_loss: 0.0206\n",
            "Epoch 28/30\n",
            "1250/1250 - 2s - loss: 0.0435 - val_loss: 0.0207\n",
            "Epoch 29/30\n",
            "1250/1250 - 2s - loss: 0.0422 - val_loss: 0.0206\n",
            "Epoch 30/30\n",
            "1250/1250 - 2s - loss: 0.0405 - val_loss: 0.0206\n"
          ],
          "name": "stdout"
        },
        {
          "output_type": "execute_result",
          "data": {
            "text/plain": [
              "<tensorflow.python.keras.callbacks.History at 0x7f754803d290>"
            ]
          },
          "metadata": {
            "tags": []
          },
          "execution_count": 45
        }
      ]
    },
    {
      "cell_type": "code",
      "metadata": {
        "colab": {
          "base_uri": "https://localhost:8080/"
        },
        "id": "8FjV7Q1cudYm",
        "outputId": "0b0c1199-6bd6-41ca-b077-f4f2ee5968c8"
      },
      "source": [
        "# Predict bounding boxes on the test images.\n",
        "pred_y = model.predict(test_X)\n",
        "pred_bboxes = pred_y * img_size\n",
        "pred_bboxes = pred_bboxes.reshape(len(pred_bboxes), num_objects, -1)\n",
        "pred_bboxes.shape"
      ],
      "execution_count": null,
      "outputs": [
        {
          "output_type": "execute_result",
          "data": {
            "text/plain": [
              "(10000, 1, 4)"
            ]
          },
          "metadata": {
            "tags": []
          },
          "execution_count": 46
        }
      ]
    },
    {
      "cell_type": "code",
      "metadata": {
        "id": "fcZBH-9dunfd"
      },
      "source": [
        "def IOU(bbox1, bbox2):\n",
        "    '''Calculate overlap between two bounding boxes [x, y, w, h] as the area of intersection over the area of unity'''\n",
        "    x1, y1, w1, h1 = bbox1[0], bbox1[1], bbox1[2], bbox1[3]\n",
        "    x2, y2, w2, h2 = bbox2[0], bbox2[1], bbox2[2], bbox2[3]\n",
        "    w_I = min(x1 + w1, x2 + w2) - max(x1, x2)\n",
        "    h_I = min(y1 + h1, y2 + h2) - max(y1, y2)\n",
        "\n",
        "    if w_I <= 0 or h_I <= 0:  # no overlap\n",
        "        return 0.\n",
        "    \n",
        "    I = w_I * h_I\n",
        "    U = w1 * h1 + w2 * h2 - I\n",
        "    return(I / U)"
      ],
      "execution_count": null,
      "outputs": []
    },
    {
      "cell_type": "code",
      "metadata": {
        "colab": {
          "base_uri": "https://localhost:8080/",
          "height": 197
        },
        "id": "BErj61VFvjmB",
        "outputId": "74d5a763-cba7-4bfa-f14c-fc7573e825f8"
      },
      "source": [
        "plt.figure(figsize=(12, 3))\n",
        "for i_subplot in range(1, 5):\n",
        "    plt.subplot(1, 4, i_subplot)\n",
        "    i = np.random.randint(len(test_imgs))\n",
        "    plt.imshow(test_imgs[i].T, cmap='Greys', interpolation='none', origin='lower', extent=[0, img_size, 0, img_size])\n",
        "    for pred_bbox, exp_bbox in zip(pred_bboxes[i], test_bboxes[i]):\n",
        "        plt.gca().add_patch(matplotlib.patches.Rectangle((pred_bbox[0], pred_bbox[1]), pred_bbox[2], pred_bbox[3], ec='r', fc='none'))\n",
        "        plt.annotate('IOU: {:.2f}'.format(IOU(pred_bbox, exp_bbox)), (pred_bbox[0], pred_bbox[1]+pred_bbox[3]+0.2), color='r')"
      ],
      "execution_count": null,
      "outputs": [
        {
          "output_type": "display_data",
          "data": {
            "image/png": "[encoded data removed]",
            "text/plain": [
              "<Figure size 864x216 with 4 Axes>"
            ]
          },
          "metadata": {
            "tags": [],
            "needs_background": "light"
          }
        }
      ]
    },
    {
      "cell_type": "code",
      "metadata": {
        "colab": {
          "base_uri": "https://localhost:8080/"
        },
        "id": "wJYdR-W6wI9A",
        "outputId": "3b29974b-bb85-4f0b-96a6-423d80bfe5c1"
      },
      "source": [
        "\n",
        "# Calculate the mean IOU (overlap) between the predicted and expected bounding boxes on the test dataset. \n",
        "summed_IOU = 0.\n",
        "for pred_bbox, test_bbox in zip(pred_bboxes.reshape(-1, 4), test_bboxes.reshape(-1, 4)):\n",
        "    summed_IOU += IOU(pred_bbox, test_bbox)\n",
        "mean_IOU = summed_IOU / len(pred_bboxes)\n",
        "mean_IOU"
      ],
      "execution_count": null,
      "outputs": [
        {
          "output_type": "execute_result",
          "data": {
            "text/plain": [
              "0.07784513254188125"
            ]
          },
          "metadata": {
            "tags": []
          },
          "execution_count": 48
        }
      ]
    }
  ]
}