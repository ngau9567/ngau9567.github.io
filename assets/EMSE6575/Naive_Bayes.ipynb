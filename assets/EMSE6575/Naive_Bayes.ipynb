{
  "nbformat": 4,
  "nbformat_minor": 0,
  "metadata": {
    "colab": {
      "name": "Naive_Bayes",
      "provenance": []
    },
    "kernelspec": {
      "name": "python3",
      "display_name": "Python 3"
    }
  },
  "cells": [
    {
      "cell_type": "code",
      "metadata": {
        "id": "AxuqdJ9honJr"
      },
      "source": [
        "import pandas as pd\n",
        "dataset = [[3.393533211,2.331273381,0],\n",
        "\t[3.110073483,1.781539638,0],\n",
        "\t[1.343808831,3.368360954,0],\n",
        "\t[3.582294042,4.67917911,0],\n",
        "\t[2.280362439,2.866990263,0],\n",
        "\t[7.423436942,4.696522875,1],\n",
        "\t[5.745051997,3.533989803,1],\n",
        "\t[9.172168622,2.511101045,1],\n",
        "\t[7.792783481,3.424088941,1],\n",
        "\t[7.939820817,0.791637231,1]]\n",
        "\n"
      ],
      "execution_count": null,
      "outputs": []
    },
    {
      "cell_type": "code",
      "metadata": {
        "colab": {
          "base_uri": "https://localhost:8080/",
          "height": 282
        },
        "id": "UagJy40Go2t6",
        "outputId": "2f32c97f-1aa5-4c0d-e53e-572a5e7971b9"
      },
      "source": [
        "import matplotlib.pyplot as plt\n",
        "df = pd.DataFrame(dataset)\n",
        "plt.scatter(df[0],df[1], c=df[2])"
      ],
      "execution_count": null,
      "outputs": [
        {
          "output_type": "execute_result",
          "data": {
            "text/plain": [
              "<matplotlib.collections.PathCollection at 0x7f01fc558be0>"
            ]
          },
          "metadata": {
            "tags": []
          },
          "execution_count": 11
        },
        {
          "output_type": "display_data",
          "data": {
            "image/png": "[encoded data removed]",
            "text/plain": [
              "<Figure size 432x288 with 1 Axes>"
            ]
          },
          "metadata": {
            "tags": [],
            "needs_background": "light"
          }
        }
      ]
    },
    {
      "cell_type": "code",
      "metadata": {
        "id": "Z2bshPoHpjFW"
      },
      "source": [
        "# Split the dataset by class values, returns a dictionary\n",
        "def separate_by_class(dataset):\n",
        "\tseparated = dict()\n",
        "\tfor i in range(len(dataset)):\n",
        "\t\tvector = dataset[i]\n",
        "\t\tclass_value = vector[-1]\n",
        "\t\tif (class_value not in separated):\n",
        "\t\t\tseparated[class_value] = list()\n",
        "\t\tseparated[class_value].append(vector)\n",
        "\treturn separated\n",
        "\n",
        "separated = separate_by_class(dataset)"
      ],
      "execution_count": null,
      "outputs": []
    },
    {
      "cell_type": "code",
      "metadata": {
        "colab": {
          "base_uri": "https://localhost:8080/"
        },
        "id": "TkPjjuTRpv4j",
        "outputId": "92e7eccb-ea71-4b2b-da74-54a20bfcfb93"
      },
      "source": [
        "separated[1]"
      ],
      "execution_count": null,
      "outputs": [
        {
          "output_type": "execute_result",
          "data": {
            "text/plain": [
              "[[7.423436942, 4.696522875, 1],\n",
              " [5.745051997, 3.533989803, 1],\n",
              " [9.172168622, 2.511101045, 1],\n",
              " [7.792783481, 3.424088941, 1],\n",
              " [7.939820817, 0.791637231, 1]]"
            ]
          },
          "metadata": {
            "tags": []
          },
          "execution_count": 17
        }
      ]
    },
    {
      "cell_type": "code",
      "metadata": {
        "colab": {
          "base_uri": "https://localhost:8080/"
        },
        "id": "RMFKW1i6p4Z2",
        "outputId": "add934b3-3360-4099-c1b0-97d6bb1b9f9c"
      },
      "source": [
        "def mean(numbers):\n",
        "\treturn sum(numbers)/float(len(numbers))\n",
        " \n",
        "from math import sqrt\n",
        "\n",
        "# Calculate the standard deviation of a list of numbers\n",
        "def stdev(numbers):\n",
        "\tavg = mean(numbers)\n",
        "\tvariance = sum([(x-avg)**2 for x in numbers]) / float(len(numbers)-1)\n",
        "\treturn sqrt(variance)\n",
        " \n",
        "\n",
        "# Calculate the mean, stdev and count for each column in a dataset\n",
        "def summarize_dataset(dataset):\n",
        "\tsummaries = [(mean(column), stdev(column), len(column)) for column in zip(*dataset)]\n",
        "\tdel(summaries[-1])\n",
        "\treturn summaries\n",
        "\n",
        "summary = summarize_dataset(dataset)\n",
        "summary"
      ],
      "execution_count": null,
      "outputs": [
        {
          "output_type": "execute_result",
          "data": {
            "text/plain": [
              "[(5.178333386499999, 2.7665845055177263, 10),\n",
              " (2.9984683241, 1.218556343617447, 10)]"
            ]
          },
          "metadata": {
            "tags": []
          },
          "execution_count": 20
        }
      ]
    },
    {
      "cell_type": "code",
      "metadata": {
        "id": "7_dwhoWort3X"
      },
      "source": [
        "def summarize_by_class(dataset):\n",
        "\tseparated = separate_by_class(dataset)\n",
        "\tsummaries = dict()\n",
        "\tfor class_value, rows in separated.items():\n",
        "\t\tsummaries[class_value] = summarize_dataset(rows)\n",
        "\treturn summaries"
      ],
      "execution_count": null,
      "outputs": []
    },
    {
      "cell_type": "code",
      "metadata": {
        "colab": {
          "base_uri": "https://localhost:8080/"
        },
        "id": "aNLhiBq4rxOq",
        "outputId": "1d644338-f7df-4c07-9b73-07b8db3ab803"
      },
      "source": [
        "summarize_by_class(dataset)"
      ],
      "execution_count": null,
      "outputs": [
        {
          "output_type": "execute_result",
          "data": {
            "text/plain": [
              "{0: [(2.7420144012, 0.9265683289298018, 5),\n",
              "  (3.0054686692, 1.1073295894898725, 5)],\n",
              " 1: [(7.6146523718, 1.2344321550313704, 5),\n",
              "  (2.9914679790000003, 1.4541931384601618, 5)]}"
            ]
          },
          "metadata": {
            "tags": []
          },
          "execution_count": 22
        }
      ]
    },
    {
      "cell_type": "code",
      "metadata": {
        "id": "zmQM_9WKr6oK"
      },
      "source": [
        "from math import sqrt\n",
        "from math import pi\n",
        "from math import exp\n",
        "def calculate_probability(x, mean, stdev):\n",
        "\texponent = exp(-((x-mean)**2 / (2 * stdev**2 )))\n",
        "\treturn (1 / (sqrt(2 * pi) * stdev)) * exponent"
      ],
      "execution_count": null,
      "outputs": []
    },
    {
      "cell_type": "code",
      "metadata": {
        "colab": {
          "base_uri": "https://localhost:8080/"
        },
        "id": "I0mn_crjsDZD",
        "outputId": "198a954b-96aa-470e-83fb-412781b22f80"
      },
      "source": [
        "calculate_probability(2.7420144012,0.92, 9.17)"
      ],
      "execution_count": null,
      "outputs": [
        {
          "output_type": "execute_result",
          "data": {
            "text/plain": [
              "0.042654808645052965"
            ]
          },
          "metadata": {
            "tags": []
          },
          "execution_count": 29
        }
      ]
    },
    {
      "cell_type": "code",
      "metadata": {
        "colab": {
          "base_uri": "https://localhost:8080/",
          "height": 405
        },
        "id": "ItXuFz39ss2q",
        "outputId": "b8285dbb-bdc9-420e-a54b-1c3fd8da735f"
      },
      "source": [
        "import numpy as np\n",
        "x1 = [calculate_probability(2.74,0.92,x) for x in np.linspace(0,10,100)]\n",
        "x2 = [calculate_probability(7.61,1.23,x) for x in np.linspace(0,10,100)]\n",
        "plt.plot(x1)\n",
        "plt.plot(x2)\n"
      ],
      "execution_count": null,
      "outputs": [
        {
          "output_type": "stream",
          "text": [
            "/usr/local/lib/python3.6/dist-packages/ipykernel_launcher.py:5: RuntimeWarning: divide by zero encountered in double_scalars\n",
            "  \"\"\"\n",
            "/usr/local/lib/python3.6/dist-packages/ipykernel_launcher.py:6: RuntimeWarning: divide by zero encountered in double_scalars\n",
            "  \n",
            "/usr/local/lib/python3.6/dist-packages/ipykernel_launcher.py:6: RuntimeWarning: invalid value encountered in double_scalars\n",
            "  \n"
          ],
          "name": "stderr"
        },
        {
          "output_type": "execute_result",
          "data": {
            "text/plain": [
              "[<matplotlib.lines.Line2D at 0x7f01fc481438>]"
            ]
          },
          "metadata": {
            "tags": []
          },
          "execution_count": 34
        },
        {
          "output_type": "display_data",
          "data": {
            "image/png": "[encoded data removed]",
            "text/plain": [
              "<Figure size 432x288 with 1 Axes>"
            ]
          },
          "metadata": {
            "tags": [],
            "needs_background": "light"
          }
        }
      ]
    },
    {
      "cell_type": "code",
      "metadata": {
        "colab": {
          "base_uri": "https://localhost:8080/"
        },
        "id": "3JasBRObttXC",
        "outputId": "9571128d-c3b6-4328-b217-1b7c58a095a8"
      },
      "source": [
        "def calculate_class_probabilities(summaries, row):\n",
        "\ttotal_rows = sum([summaries[label][0][2] for label in summaries])\n",
        "\tprobabilities = dict()\n",
        "\tfor class_value, class_summaries in summaries.items():\n",
        "\t\tprobabilities[class_value] = summaries[class_value][0][2]/float(total_rows)\n",
        "\t\tfor i in range(len(class_summaries)):\n",
        "\t\t\tmean, stdev, count = class_summaries[i]\n",
        "\t\t\tprobabilities[class_value] *= calculate_probability(row[i], mean, stdev)\n",
        "\treturn probabilities\n",
        "\n",
        "\n",
        "summaries = summarize_by_class(dataset)\n",
        "probabilities = calculate_class_probabilities(summaries, dataset[7])\n",
        "print(probabilities)"
      ],
      "execution_count": null,
      "outputs": [
        {
          "output_type": "stream",
          "text": [
            "{0: 2.44629984336952e-12, 1: 0.018937264964228803}\n"
          ],
          "name": "stdout"
        }
      ]
    },
    {
      "cell_type": "code",
      "metadata": {
        "id": "OVEMrsUCuZ-Q"
      },
      "source": [
        "df = pd.read_csv('iris.csv',header=None)\n",
        "df[4]=df[4].astype('category').cat.codes"
      ],
      "execution_count": null,
      "outputs": []
    },
    {
      "cell_type": "code",
      "metadata": {
        "colab": {
          "base_uri": "https://localhost:8080/"
        },
        "id": "h2dgjvcHvriR",
        "outputId": "b2b820a5-8d60-41aa-baa2-bc2729428851"
      },
      "source": [
        "summaries = summarize_by_class(df.to_numpy())\n",
        "summaries"
      ],
      "execution_count": null,
      "outputs": [
        {
          "output_type": "execute_result",
          "data": {
            "text/plain": [
              "{0.0: [(5.005999999999999, 0.3524896872134512, 50),\n",
              "  (3.4180000000000006, 0.38102439795469095, 50),\n",
              "  (1.464, 0.1735111594364455, 50),\n",
              "  (0.2439999999999999, 0.10720950308167837, 50)],\n",
              " 1.0: [(5.936, 0.5161711470638635, 50),\n",
              "  (2.7700000000000005, 0.3137983233784114, 50),\n",
              "  (4.26, 0.46991097723995806, 50),\n",
              "  (1.3259999999999998, 0.197752680004544, 50)],\n",
              " 2.0: [(6.587999999999998, 0.635879593274432, 50),\n",
              "  (2.9739999999999998, 0.3224966381726376, 50),\n",
              "  (5.552, 0.5518946956639835, 50),\n",
              "  (2.026, 0.27465005563666733, 50)]}"
            ]
          },
          "metadata": {
            "tags": []
          },
          "execution_count": 57
        }
      ]
    },
    {
      "cell_type": "code",
      "metadata": {
        "colab": {
          "base_uri": "https://localhost:8080/"
        },
        "id": "jdRsTC-LwSfD",
        "outputId": "2d0ea9a8-800b-4761-9855-f63de5c43be6"
      },
      "source": [
        "calculate_class_probabilities(summaries, [5.0,3.6,1.4,0.2,0])"
      ],
      "execution_count": null,
      "outputs": [
        {
          "output_type": "execute_result",
          "data": {
            "text/plain": [
              "{0.0: 2.5890061173739514,\n",
              " 1.0: 2.702798311974989e-18,\n",
              " 2.0: 2.3607221382040533e-25}"
            ]
          },
          "metadata": {
            "tags": []
          },
          "execution_count": 58
        }
      ]
    },
    {
      "cell_type": "code",
      "metadata": {
        "id": "LzAXVaGpx-82"
      },
      "source": [
        "splits = 5\n",
        "from random import shuffle\n",
        "\n",
        "data = df.to_numpy()\n",
        "shuffle(data)"
      ],
      "execution_count": null,
      "outputs": []
    },
    {
      "cell_type": "code",
      "metadata": {
        "colab": {
          "base_uri": "https://localhost:8080/"
        },
        "id": "mD5SLhCiyMCy",
        "outputId": "c2fe35c8-2176-4edc-914b-384c2f8f3275"
      },
      "source": [
        "from sklearn.model_selection import KFold\n",
        "kf = KFold(n_splits=5)\n",
        "kf.get_n_splits(df)\n",
        "print(kf)"
      ],
      "execution_count": null,
      "outputs": [
        {
          "output_type": "stream",
          "text": [
            "KFold(n_splits=5, random_state=None, shuffle=False)\n"
          ],
          "name": "stdout"
        }
      ]
    },
    {
      "cell_type": "code",
      "metadata": {
        "id": "QYE6i7cfzgb6"
      },
      "source": [
        "\n",
        "def get_class(class_dict):\n",
        "  cl = -1\n",
        "  max = -1\n",
        "  for c,p in class_dict.items():\n",
        "    if p>max:\n",
        "      cl=c\n",
        "      max=p\n",
        "  return(cl)\n",
        "\n",
        "errors =[]\n",
        "for train_index, test_index in kf.split(df):\n",
        "  #print(\"TRAIN:\", train_index, \"TEST:\", test_index)\n",
        "  X_train, X_test = df.iloc[train_index], df.iloc[test_index]\n",
        "  summaries = summarize_by_class(X_train.to_numpy())\n",
        "\n",
        "  for i,row in X_test.iterrows():\n",
        "    classes = calculate_class_probabilities(summaries, row.to_numpy())\n",
        "    cl = get_class(classes)\n",
        "    errors.append(abs(row[4]-cl))\n",
        "  "
      ],
      "execution_count": null,
      "outputs": []
    },
    {
      "cell_type": "code",
      "metadata": {
        "colab": {
          "base_uri": "https://localhost:8080/"
        },
        "id": "AjsC5Nvp1kj-",
        "outputId": "c41765da-1244-47cd-8a12-5ce26d061842"
      },
      "source": [
        "mean(errors)"
      ],
      "execution_count": null,
      "outputs": [
        {
          "output_type": "execute_result",
          "data": {
            "text/plain": [
              "0.05333333333333334"
            ]
          },
          "metadata": {
            "tags": []
          },
          "execution_count": 95
        }
      ]
    },
    {
      "cell_type": "code",
      "metadata": {
        "id": "AMCEsZqo3Zmp"
      },
      "source": [
        ""
      ],
      "execution_count": null,
      "outputs": []
    },
    {
      "cell_type": "markdown",
      "metadata": {
        "id": "b4gYnavD3aUb"
      },
      "source": [
        "### Practice dataset\n",
        "\n",
        "Wisconsin Breast Cancer Dataset\n",
        "https://www.kaggle.com/priyanka841/breast-cancer-wisconsin\n",
        "\n",
        "Look at distribution of features and seee if normal/gausssian fits. If not -- what distribution should we use? \n",
        "\n",
        "Play with feature selection -- what features contribute to improvement and what don't?\n",
        "\n",
        "Use k-fold to validate\n",
        "\n"
      ]
    }
  ]
}