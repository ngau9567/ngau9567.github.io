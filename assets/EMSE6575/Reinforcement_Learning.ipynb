{
  "nbformat": 4,
  "nbformat_minor": 0,
  "metadata": {
    "kernelspec": {
      "display_name": "Python 3",
      "language": "python",
      "name": "python3"
    },
    "language_info": {
      "codemirror_mode": {
        "name": "ipython",
        "version": 3
      },
      "file_extension": ".py",
      "mimetype": "text/x-python",
      "name": "python",
      "nbconvert_exporter": "python",
      "pygments_lexer": "ipython3",
      "version": "3.7.3"
    },
    "colab": {
      "name": "Reinforcement Learning.ipynb",
      "provenance": []
    }
  },
  "cells": [
    {
      "cell_type": "code",
      "metadata": {
        "id": "mJZ-zp4HNUSS"
      },
      "source": [
        "import numpy as np\n",
        "import gym\n",
        "\n",
        "from keras.models import Sequential\n",
        "from keras.layers import Dense, Activation, Flatten\n",
        "from keras.optimizers import Adam\n",
        "\n",
        "from rl.agents.cem import CEMAgent\n",
        "from rl.memory import EpisodeParameterMemory\n",
        "\n",
        "import matplotlib.pyplot as plt\n",
        "%matplotlib inline\n",
        "from IPython import display\n",
        "\n",
        "import gym\n",
        "from IPython import display\n",
        "import matplotlib\n",
        "import matplotlib.pyplot as plt\n",
        "%matplotlib inline\n",
        "\n",
        "ENV_NAME = 'CartPole-v0'\n",
        "\n",
        "\n",
        "# Get the environment and extract the number of actions.\n",
        "env = gym.make(ENV_NAME)\n",
        "np.random.seed(123)\n",
        "env.seed(123)\n",
        "\n",
        "nb_actions = env.action_space.n\n",
        "obs_dim = env.observation_space.shape[0]\n",
        "\n",
        "# Option 1 : Simple model\n",
        "model = Sequential()\n",
        "model.add(Flatten(input_shape=(1,) + env.observation_space.shape))\n",
        "model.add(Dense(nb_actions))\n",
        "model.add(Activation('softmax'))"
      ],
      "execution_count": null,
      "outputs": []
    },
    {
      "cell_type": "code",
      "metadata": {
        "id": "9fk6r1P4NUSY",
        "outputId": "dbd45cc0-993e-49f0-9dcb-cbaf0a441107"
      },
      "source": [
        "env.observation_space"
      ],
      "execution_count": null,
      "outputs": [
        {
          "output_type": "execute_result",
          "data": {
            "text/plain": [
              "Box(-3.4028234663852886e+38, 3.4028234663852886e+38, (4,), float32)"
            ]
          },
          "metadata": {
            "tags": []
          },
          "execution_count": 36
        }
      ]
    },
    {
      "cell_type": "code",
      "metadata": {
        "id": "8d6VzTncNUSa",
        "outputId": "88331513-f416-4b02-ccb7-69aa0a0e7730"
      },
      "source": [
        "import matplotlib.pyplot as plt\n",
        "%matplotlib inline\n",
        "from IPython import display\n",
        "\n",
        "import gym\n",
        "from IPython import display\n",
        "import matplotlib\n",
        "import matplotlib.pyplot as plt\n",
        "%matplotlib inline\n",
        "\n",
        "env = gym.make('Breakout-v0')\n",
        "env.reset()\n",
        "img = plt.imshow(env.render(mode='rgb_array')) # only call this once\n",
        "for _ in range(500):\n",
        "    img.set_data(env.render(mode='rgb_array')) # just update the data\n",
        "    display.display(plt.gcf())\n",
        "    display.clear_output(wait=True)\n",
        "    action = env.action_space.sample()\n",
        "    env.step(action)"
      ],
      "execution_count": null,
      "outputs": [
        {
          "output_type": "display_data",
          "data": {
            "image/png": "[encoded data removed]",
            "text/plain": [
              "<Figure size 432x288 with 1 Axes>"
            ]
          },
          "metadata": {
            "tags": [],
            "needs_background": "light"
          }
        }
      ]
    },
    {
      "cell_type": "code",
      "metadata": {
        "id": "iGtBYOwxNUSa"
      },
      "source": [
        "model = Sequential()\n",
        "model.add(Flatten(input_shape=(1,) + env.observation_space.shape))\n",
        "model.add(Dense(128))\n",
        "model.add(Activation('relu'))\n",
        "model.add(Dense(128))\n",
        "model.add(Activation('relu'))\n",
        "model.add(Dense(128))\n",
        "model.add(Activation('relu'))\n",
        "model.add(Dense(nb_actions))\n",
        "model.add(Activation('softmax'))"
      ],
      "execution_count": null,
      "outputs": []
    },
    {
      "cell_type": "code",
      "metadata": {
        "id": "nhs69StpNUSb",
        "outputId": "71137712-f1b5-4e20-a5cd-c768d2385f52"
      },
      "source": [
        "print(model.summary())\n"
      ],
      "execution_count": null,
      "outputs": [
        {
          "output_type": "stream",
          "text": [
            "Model: \"sequential_5\"\n",
            "_________________________________________________________________\n",
            "Layer (type)                 Output Shape              Param #   \n",
            "=================================================================\n",
            "flatten_5 (Flatten)          (None, 4)                 0         \n",
            "_________________________________________________________________\n",
            "dense_8 (Dense)              (None, 2)                 10        \n",
            "_________________________________________________________________\n",
            "activation_8 (Activation)    (None, 2)                 0         \n",
            "=================================================================\n",
            "Total params: 10\n",
            "Trainable params: 10\n",
            "Non-trainable params: 0\n",
            "_________________________________________________________________\n",
            "None\n"
          ],
          "name": "stdout"
        }
      ]
    },
    {
      "cell_type": "code",
      "metadata": {
        "id": "MbsWSuf8NUSb"
      },
      "source": [
        "\n",
        "# Finally, we configure and compile our agent. You can use every built-in Keras optimizer and\n",
        "# even the metrics!\n",
        "memory = EpisodeParameterMemory(limit=1000, window_length=1)\n",
        "\n",
        "cem = CEMAgent(model=model, nb_actions=nb_actions, memory=memory,\n",
        "               batch_size=50, nb_steps_warmup=2000, train_interval=50, elite_frac=0.05)\n",
        "cem.compile()\n",
        "\n",
        "cem2 = CEMAgent(model=model, nb_actions=nb_actions, memory=memory,\n",
        "               batch_size=50, nb_steps_warmup=2000, train_interval=50, elite_frac=0.05)\n",
        "cem2.compile()\n"
      ],
      "execution_count": null,
      "outputs": []
    },
    {
      "cell_type": "code",
      "metadata": {
        "id": "QOzrQT1wNUSc",
        "outputId": "f1b62bfc-4515-49ac-f460-6c03aadea3a8"
      },
      "source": [
        "# Okay, now it's time to learn something! We visualize the training here for show, but this\n",
        "# slows down training quite a lot. You can always safely abort the training prematurely using\n",
        "# Ctrl + C.\n",
        "cem.fit(env, nb_steps=50000, visualize=False, verbose=1)\n"
      ],
      "execution_count": null,
      "outputs": [
        {
          "output_type": "stream",
          "text": [
            "Training for 50000 steps ...\n",
            "Interval 1 (0 steps performed)\n",
            "10000/10000 [==============================] - 45s 4ms/step - reward: 1.0000\n",
            "445 episodes - episode_reward: 22.463 [8.000, 158.000] - mean_best_reward: 63.286\n",
            "\n",
            "Interval 2 (10000 steps performed)\n",
            "10000/10000 [==============================] - 44s 4ms/step - reward: 1.0000\n",
            "380 episodes - episode_reward: 26.303 [9.000, 132.000] - mean_best_reward: 66.812\n",
            "\n",
            "Interval 3 (20000 steps performed)\n",
            "10000/10000 [==============================] - 44s 4ms/step - reward: 1.0000\n",
            "376 episodes - episode_reward: 26.614 [8.000, 198.000] - mean_best_reward: 82.625\n",
            "\n",
            "Interval 4 (30000 steps performed)\n",
            "10000/10000 [==============================] - 44s 4ms/step - reward: 1.0000\n",
            "302 episodes - episode_reward: 32.983 [8.000, 193.000] - mean_best_reward: 84.417\n",
            "\n",
            "Interval 5 (40000 steps performed)\n",
            "10000/10000 [==============================] - 43s 4ms/step - reward: 1.0000\n",
            "done, took 219.327 seconds\n"
          ],
          "name": "stdout"
        },
        {
          "output_type": "execute_result",
          "data": {
            "text/plain": [
              "<tensorflow.python.keras.callbacks.History at 0x17eaebb00>"
            ]
          },
          "metadata": {
            "tags": []
          },
          "execution_count": 51
        }
      ]
    },
    {
      "cell_type": "code",
      "metadata": {
        "id": "oZLhRSu_NUSc"
      },
      "source": [
        ""
      ],
      "execution_count": null,
      "outputs": []
    },
    {
      "cell_type": "code",
      "metadata": {
        "id": "ZqtmxwbbNUSc",
        "outputId": "0e29bc09-be0e-4d6c-d027-21b9e9bd3645"
      },
      "source": [
        "\n",
        "# After training is done, we save the best weights.\n",
        "cem.save_weights('cem_{}_params.h5f'.format(ENV_NAME), overwrite=True)\n",
        "\n",
        "# Finally, evaluate our algorithm for 5 episodes.\n",
        "cem.test(env, nb_episodes=10, visualize=True)"
      ],
      "execution_count": null,
      "outputs": [
        {
          "output_type": "stream",
          "text": [
            "Testing for 10 episodes ...\n",
            "Episode 1: reward: 85.000, steps: 85\n",
            "Episode 2: reward: 59.000, steps: 59\n",
            "Episode 3: reward: 76.000, steps: 76\n",
            "Episode 4: reward: 70.000, steps: 70\n",
            "Episode 5: reward: 91.000, steps: 91\n",
            "Episode 6: reward: 67.000, steps: 67\n",
            "Episode 7: reward: 60.000, steps: 60\n",
            "Episode 8: reward: 80.000, steps: 80\n",
            "Episode 9: reward: 69.000, steps: 69\n",
            "Episode 10: reward: 84.000, steps: 84\n"
          ],
          "name": "stdout"
        },
        {
          "output_type": "execute_result",
          "data": {
            "text/plain": [
              "<tensorflow.python.keras.callbacks.History at 0x17d492b00>"
            ]
          },
          "metadata": {
            "tags": []
          },
          "execution_count": 52
        }
      ]
    },
    {
      "cell_type": "code",
      "metadata": {
        "id": "HrUs97TSNUSd"
      },
      "source": [
        ""
      ],
      "execution_count": null,
      "outputs": []
    },
    {
      "cell_type": "code",
      "metadata": {
        "id": "yU_Wdd3DNUSd",
        "outputId": "e9820201-442a-4092-e6ad-722f559c2306"
      },
      "source": [
        "cem.fit(env, nb_steps=100, visualize=True, verbose=2)"
      ],
      "execution_count": null,
      "outputs": [
        {
          "output_type": "stream",
          "text": [
            "Training for 100 steps ...\n",
            " 37/100: episode: 1, duration: 0.592s, episode steps: 37, steps per second: 63, episode reward: 37.000, mean reward: 1.000 [1.000, 1.000], mean action: 0.486 [0.000, 1.000], mean observation: -0.119 [-1.087, 0.536], mean_best_reward: --\n",
            " 95/100: episode: 2, duration: 0.984s, episode steps: 58, steps per second: 59, episode reward: 58.000, mean reward: 1.000 [1.000, 1.000], mean action: 0.483 [0.000, 1.000], mean observation: -0.052 [-1.115, 0.641], mean_best_reward: --\n",
            "done, took 1.655 seconds\n"
          ],
          "name": "stdout"
        },
        {
          "output_type": "execute_result",
          "data": {
            "text/plain": [
              "<tensorflow.python.keras.callbacks.History at 0x1777a3a20>"
            ]
          },
          "metadata": {
            "tags": []
          },
          "execution_count": 8
        }
      ]
    },
    {
      "cell_type": "code",
      "metadata": {
        "id": "76HyZjIxNUSd",
        "outputId": "d6da82ca-6e47-4835-f93b-39bb5652886a"
      },
      "source": [
        "cem.test(env, nb_episodes=100, visualize=True)"
      ],
      "execution_count": null,
      "outputs": [
        {
          "output_type": "stream",
          "text": [
            "Testing for 100 episodes ...\n",
            "Episode 1: reward: 29.000, steps: 29\n",
            "Episode 2: reward: 26.000, steps: 26\n",
            "Episode 3: reward: 41.000, steps: 41\n",
            "Episode 4: reward: 61.000, steps: 61\n",
            "Episode 5: reward: 46.000, steps: 46\n",
            "Episode 6: reward: 39.000, steps: 39\n",
            "Episode 7: reward: 56.000, steps: 56\n",
            "Episode 8: reward: 60.000, steps: 60\n",
            "Episode 9: reward: 51.000, steps: 51\n",
            "Episode 10: reward: 62.000, steps: 62\n",
            "Episode 11: reward: 29.000, steps: 29\n",
            "Episode 12: reward: 26.000, steps: 26\n",
            "Episode 13: reward: 26.000, steps: 26\n",
            "Episode 14: reward: 36.000, steps: 36\n",
            "Episode 15: reward: 53.000, steps: 53\n",
            "Episode 16: reward: 28.000, steps: 28\n",
            "Episode 17: reward: 25.000, steps: 25\n",
            "Episode 18: reward: 49.000, steps: 49\n",
            "Episode 19: reward: 26.000, steps: 26\n",
            "Episode 20: reward: 33.000, steps: 33\n",
            "Episode 21: reward: 29.000, steps: 29\n",
            "Episode 22: reward: 49.000, steps: 49\n",
            "Episode 23: reward: 37.000, steps: 37\n",
            "Episode 24: reward: 47.000, steps: 47\n",
            "Episode 25: reward: 70.000, steps: 70\n",
            "Episode 26: reward: 38.000, steps: 38\n",
            "Episode 27: reward: 27.000, steps: 27\n",
            "Episode 28: reward: 26.000, steps: 26\n",
            "Episode 29: reward: 31.000, steps: 31\n",
            "Episode 30: reward: 40.000, steps: 40\n",
            "Episode 31: reward: 49.000, steps: 49\n",
            "Episode 32: reward: 49.000, steps: 49\n",
            "Episode 33: reward: 76.000, steps: 76\n",
            "Episode 34: reward: 64.000, steps: 64\n",
            "Episode 35: reward: 75.000, steps: 75\n",
            "Episode 36: reward: 43.000, steps: 43\n",
            "Episode 37: reward: 25.000, steps: 25\n",
            "Episode 38: reward: 36.000, steps: 36\n",
            "Episode 39: reward: 75.000, steps: 75\n",
            "Episode 40: reward: 28.000, steps: 28\n",
            "Episode 41: reward: 53.000, steps: 53\n",
            "Episode 42: reward: 36.000, steps: 36\n",
            "Episode 43: reward: 27.000, steps: 27\n",
            "Episode 44: reward: 26.000, steps: 26\n",
            "Episode 45: reward: 57.000, steps: 57\n",
            "Episode 46: reward: 33.000, steps: 33\n",
            "Episode 47: reward: 63.000, steps: 63\n",
            "Episode 48: reward: 31.000, steps: 31\n",
            "Episode 49: reward: 25.000, steps: 25\n",
            "Episode 50: reward: 32.000, steps: 32\n",
            "Episode 51: reward: 28.000, steps: 28\n",
            "Episode 52: reward: 56.000, steps: 56\n",
            "Episode 53: reward: 39.000, steps: 39\n",
            "Episode 54: reward: 73.000, steps: 73\n",
            "Episode 55: reward: 40.000, steps: 40\n",
            "Episode 56: reward: 57.000, steps: 57\n",
            "Episode 57: reward: 33.000, steps: 33\n",
            "Episode 58: reward: 54.000, steps: 54\n",
            "Episode 59: reward: 40.000, steps: 40\n",
            "Episode 60: reward: 36.000, steps: 36\n",
            "Episode 61: reward: 27.000, steps: 27\n",
            "Episode 62: reward: 73.000, steps: 73\n",
            "Episode 63: reward: 24.000, steps: 24\n",
            "Episode 64: reward: 37.000, steps: 37\n",
            "Episode 65: reward: 40.000, steps: 40\n",
            "Episode 66: reward: 28.000, steps: 28\n",
            "Episode 67: reward: 42.000, steps: 42\n",
            "Episode 68: reward: 38.000, steps: 38\n",
            "Episode 69: reward: 28.000, steps: 28\n",
            "Episode 70: reward: 36.000, steps: 36\n",
            "Episode 71: reward: 39.000, steps: 39\n",
            "Episode 72: reward: 34.000, steps: 34\n",
            "Episode 73: reward: 42.000, steps: 42\n",
            "Episode 74: reward: 82.000, steps: 82\n",
            "Episode 75: reward: 29.000, steps: 29\n",
            "Episode 76: reward: 57.000, steps: 57\n",
            "Episode 77: reward: 28.000, steps: 28\n",
            "Episode 78: reward: 28.000, steps: 28\n",
            "Episode 79: reward: 74.000, steps: 74\n",
            "Episode 80: reward: 27.000, steps: 27\n",
            "Episode 81: reward: 66.000, steps: 66\n",
            "Episode 82: reward: 46.000, steps: 46\n",
            "Episode 83: reward: 33.000, steps: 33\n",
            "Episode 84: reward: 25.000, steps: 25\n",
            "Episode 85: reward: 64.000, steps: 64\n",
            "Episode 86: reward: 25.000, steps: 25\n",
            "Episode 87: reward: 31.000, steps: 31\n",
            "Episode 88: reward: 31.000, steps: 31\n",
            "Episode 89: reward: 51.000, steps: 51\n",
            "Episode 90: reward: 37.000, steps: 37\n",
            "Episode 91: reward: 42.000, steps: 42\n",
            "Episode 92: reward: 29.000, steps: 29\n",
            "Episode 93: reward: 63.000, steps: 63\n",
            "Episode 94: reward: 68.000, steps: 68\n",
            "Episode 95: reward: 46.000, steps: 46\n",
            "Episode 96: reward: 44.000, steps: 44\n",
            "Episode 97: reward: 24.000, steps: 24\n",
            "Episode 98: reward: 67.000, steps: 67\n",
            "Episode 99: reward: 41.000, steps: 41\n",
            "Episode 100: reward: 61.000, steps: 61\n"
          ],
          "name": "stdout"
        },
        {
          "output_type": "execute_result",
          "data": {
            "text/plain": [
              "<tensorflow.python.keras.callbacks.History at 0x17d302d30>"
            ]
          },
          "metadata": {
            "tags": []
          },
          "execution_count": 14
        }
      ]
    }
  ]
}