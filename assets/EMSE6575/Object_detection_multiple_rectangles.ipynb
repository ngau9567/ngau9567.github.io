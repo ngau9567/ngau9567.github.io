{
  "nbformat": 4,
  "nbformat_minor": 0,
  "metadata": {
    "colab": {
      "name": "Object detection -- multiple rectangles",
      "provenance": []
    },
    "kernelspec": {
      "name": "python3",
      "display_name": "Python 3"
    }
  },
  "cells": [
    {
      "cell_type": "code",
      "metadata": {
        "colab": {
          "base_uri": "https://localhost:8080/"
        },
        "id": "l6l-TaL_zyyw",
        "outputId": "7ba74569-07fd-481d-ca20-e297e15e3ad0"
      },
      "source": [
        "import numpy as np\n",
        "import matplotlib.pyplot as plt\n",
        "import matplotlib\n",
        "%matplotlib inline\n",
        "\n",
        "\n",
        "# Create images with random rectangles and bounding boxes. \n",
        "num_imgs = 50000\n",
        "\n",
        "img_size = 8\n",
        "min_rect_size = 1\n",
        "max_rect_size = 4\n",
        "num_objects = 2\n",
        "\n",
        "bboxes = np.zeros((num_imgs, num_objects, 4))\n",
        "imgs = np.zeros((num_imgs, img_size, img_size))\n",
        "\n",
        "for i_img in range(num_imgs):\n",
        "    for i_object in range(num_objects):\n",
        "        w, h = np.random.randint(min_rect_size, max_rect_size, size=2)\n",
        "        x = np.random.randint(0, img_size - w)\n",
        "        y = np.random.randint(0, img_size - h)\n",
        "        imgs[i_img, x:x+w, y:y+h] = 1.\n",
        "        bboxes[i_img, i_object] = [x, y, w, h]\n",
        "        \n",
        "imgs.shape, bboxes.shape"
      ],
      "execution_count": null,
      "outputs": [
        {
          "output_type": "execute_result",
          "data": {
            "text/plain": [
              "((50000, 8, 8), (50000, 2, 4))"
            ]
          },
          "metadata": {
            "tags": []
          },
          "execution_count": 1
        }
      ]
    },
    {
      "cell_type": "code",
      "metadata": {
        "colab": {
          "base_uri": "https://localhost:8080/",
          "height": 269
        },
        "id": "mXjasFek0Iku",
        "outputId": "b0441da4-ccfb-44f4-9ee1-d79a6db885e4"
      },
      "source": [
        "import random\n",
        "i = random.randint(1,1000)\n",
        "plt.imshow(imgs[i].T, cmap='Greys', interpolation='none', origin='lower', extent=[0, img_size, 0, img_size])\n",
        "for bbox in bboxes[i]:\n",
        "    plt.gca().add_patch(matplotlib.patches.Rectangle((bbox[0], bbox[1]), bbox[2], bbox[3], ec='r', fc='none'))"
      ],
      "execution_count": null,
      "outputs": [
        {
          "output_type": "display_data",
          "data": {
            "image/png": "[encoded data removed]",
            "text/plain": [
              "<Figure size 432x288 with 1 Axes>"
            ]
          },
          "metadata": {
            "tags": [],
            "needs_background": "light"
          }
        }
      ]
    },
    {
      "cell_type": "code",
      "metadata": {
        "colab": {
          "base_uri": "https://localhost:8080/"
        },
        "id": "DjqObPpH0XUC",
        "outputId": "5fa7060b-5e45-4791-b73c-dc8f780f68c2"
      },
      "source": [
        "# Reshape and normalize the data to mean 0 and std 1. \n",
        "X = (imgs.reshape(num_imgs, -1) - np.mean(imgs)) / np.std(imgs)\n",
        "X.shape, np.mean(X), np.std(X)\n",
        "\n",
        "# Normalize x, y, w, h by img_size, so that all values are between 0 and 1.\n",
        "# Important: Do not shift to negative values (e.g. by setting to mean 0), because the IOU calculation needs positive w and h.\n",
        "y = bboxes.reshape(num_imgs, -1) / img_size\n",
        "y.shape, np.mean(y), np.std(y)"
      ],
      "execution_count": null,
      "outputs": [
        {
          "output_type": "execute_result",
          "data": {
            "text/plain": [
              "((50000, 8), 0.2814834375, 0.17521282872747532)"
            ]
          },
          "metadata": {
            "tags": []
          },
          "execution_count": 12
        }
      ]
    },
    {
      "cell_type": "code",
      "metadata": {
        "id": "Cg_EeqI70Z3G"
      },
      "source": [
        "\n",
        "# Split training and test.\n",
        "i = int(0.8 * num_imgs)\n",
        "train_X = X[:i]\n",
        "test_X = X[i:]\n",
        "train_y = y[:i]\n",
        "test_y = y[i:]\n",
        "test_imgs = imgs[i:]\n",
        "test_bboxes = bboxes[i:]"
      ],
      "execution_count": null,
      "outputs": []
    },
    {
      "cell_type": "code",
      "metadata": {
        "id": "ssH6yT240doT"
      },
      "source": [
        "from keras.models import Sequential\n",
        "from keras.layers import Dense, Activation, Dropout, Convolution2D, MaxPooling2D, Flatten\n",
        "from keras.optimizers import SGD\n",
        "filter_size = 3\n",
        "pool_size = 2\n",
        "\n",
        "\n",
        "model = Sequential([\n",
        "        Dense(512, input_dim=X.shape[-1]),\n",
        "        Activation('relu'),\n",
        "        Dense(128, input_dim=X.shape[-1]),\n",
        "        Activation('relu'),\n",
        "        Dropout(0.2),\n",
        "        Dense(y.shape[-1])\n",
        "    ])\n",
        "\n",
        "model.compile('adadelta', 'mse')"
      ],
      "execution_count": null,
      "outputs": []
    },
    {
      "cell_type": "code",
      "metadata": {
        "id": "1donmxN00kUl"
      },
      "source": [
        "def IOU(bbox1, bbox2):\n",
        "    '''Calculate overlap between two bounding boxes [x, y, w, h] as the area of intersection over the area of unity'''\n",
        "    x1, y1, w1, h1 = bbox1[0], bbox1[1], bbox1[2], bbox1[3]\n",
        "    x2, y2, w2, h2 = bbox2[0], bbox2[1], bbox2[2], bbox2[3]\n",
        "\n",
        "    w_I = min(x1 + w1, x2 + w2) - max(x1, x2)\n",
        "    h_I = min(y1 + h1, y2 + h2) - max(y1, y2)\n",
        "    if w_I <= 0 or h_I <= 0:  # no overlap\n",
        "        return 0\n",
        "    I = w_I * h_I\n",
        "\n",
        "    U = w1 * h1 + w2 * h2 - I\n",
        "\n",
        "    return I / U\n",
        "\n",
        "def distance(bbox1, bbox2):\n",
        "    return np.sqrt(np.sum(np.square(bbox1[:2] - bbox2[:2])))"
      ],
      "execution_count": null,
      "outputs": []
    },
    {
      "cell_type": "code",
      "metadata": {
        "colab": {
          "base_uri": "https://localhost:8080/"
        },
        "id": "iLJJn0bL0opL",
        "outputId": "626454ab-109e-4764-ac7a-e9cc6cd9d7da"
      },
      "source": [
        "num_epochs = 50\n",
        "flipped_train_y = np.array(train_y)\n",
        "flipped = np.zeros((len(flipped_train_y), num_epochs))\n",
        "ious_epoch = np.zeros((len(flipped_train_y), num_epochs))\n",
        "dists_epoch = np.zeros((len(flipped_train_y), num_epochs))\n",
        "mses_epoch = np.zeros((len(flipped_train_y), num_epochs))\n",
        "\n",
        "for epoch in range(num_epochs):\n",
        "    print('Epoch', epoch)\n",
        "    model.fit(train_X, flipped_train_y, epochs=1, validation_data=(test_X, test_y), verbose=2)\n",
        "    pred_y = model.predict(train_X)\n",
        "\n",
        "    for i, (pred_bboxes, exp_bboxes) in enumerate(zip(pred_y, flipped_train_y)):    \n",
        "        flipped_exp_bboxes = np.concatenate([exp_bboxes[4:], exp_bboxes[:4]])\n",
        "        mse = np.mean(np.square(pred_bboxes - exp_bboxes))\n",
        "        mse_flipped = np.mean(np.square(pred_bboxes - flipped_exp_bboxes))\n",
        "        iou = IOU(pred_bboxes[:4], exp_bboxes[:4]) + IOU(pred_bboxes[4:], exp_bboxes[4:])\n",
        "        iou_flipped = IOU(pred_bboxes[:4], flipped_exp_bboxes[:4]) + IOU(pred_bboxes[4:], flipped_exp_bboxes[4:])\n",
        "        \n",
        "        dist = distance(pred_bboxes[:4], exp_bboxes[:4]) + distance(pred_bboxes[4:], exp_bboxes[4:])\n",
        "        dist_flipped = distance(pred_bboxes[:4], flipped_exp_bboxes[:4]) + distance(pred_bboxes[4:], flipped_exp_bboxes[4:])\n",
        "\n",
        "        if mse_flipped < mse:  # you can also use iou or dist here\n",
        "            flipped_train_y[i] = flipped_exp_bboxes\n",
        "            flipped[i, epoch] = 1\n",
        "            mses_epoch[i, epoch] = mse_flipped / 2.\n",
        "            ious_epoch[i, epoch] = iou_flipped / 2.\n",
        "            dists_epoch[i, epoch] = dist_flipped / 2.\n",
        "        else:\n",
        "            mses_epoch[i, epoch] = mse / 2.\n",
        "            ious_epoch[i, epoch] = iou / 2.\n",
        "            dists_epoch[i, epoch] = dist / 2.\n",
        "\n",
        "    print('Flipped {} training samples ({} %)'.format(np.sum(flipped[:, epoch]), np.mean(flipped[:, epoch]) * 100.))\n",
        "    print('Mean IOU: {}'.format(np.mean(ious_epoch[:, epoch])))\n",
        "    print('Mean dist: {}'.format(np.mean(dists_epoch[:, epoch])))\n",
        "    print('Mean mse: {}'.format(np.mean(mses_epoch[:, epoch])))\n",
        "    print('\\n')"
      ],
      "execution_count": null,
      "outputs": [
        {
          "output_type": "stream",
          "text": [
            "Epoch 0\n",
            "1250/1250 - 3s - loss: 0.1383 - val_loss: 0.0813\n",
            "Flipped 19891.0 training samples (49.7275 %)\n",
            "Mean IOU: 0.037232690657124395\n",
            "Mean dist: 0.35727365194077376\n",
            "Mean mse: 0.033198528514804856\n",
            "\n",
            "\n",
            "Epoch 1\n",
            "1250/1250 - 2s - loss: 0.0888 - val_loss: 0.0656\n",
            "Flipped 1721.0 training samples (4.3025 %)\n",
            "Mean IOU: 0.05318151422847442\n",
            "Mean dist: 0.3144863546827677\n",
            "Mean mse: 0.025979474518208867\n",
            "\n",
            "\n",
            "Epoch 2\n",
            "1250/1250 - 3s - loss: 0.0741 - val_loss: 0.0569\n",
            "Flipped 1114.0 training samples (2.785 %)\n",
            "Mean IOU: 0.06598561365328626\n",
            "Mean dist: 0.2901569431546851\n",
            "Mean mse: 0.022127709409292335\n",
            "\n",
            "\n",
            "Epoch 3\n",
            "1250/1250 - 2s - loss: 0.0649 - val_loss: 0.0512\n",
            "Flipped 948.0 training samples (2.37 %)\n",
            "Mean IOU: 0.07684254374744041\n",
            "Mean dist: 0.2736034593906058\n",
            "Mean mse: 0.019633069058081792\n",
            "\n",
            "\n",
            "Epoch 4\n",
            "1250/1250 - 2s - loss: 0.0579 - val_loss: 0.0470\n",
            "Flipped 905.0 training samples (2.2624999999999997 %)\n",
            "Mean IOU: 0.08640724107200685\n",
            "Mean dist: 0.2613253071013454\n",
            "Mean mse: 0.01786833271362056\n",
            "\n",
            "\n",
            "Epoch 5\n",
            "1250/1250 - 2s - loss: 0.0527 - val_loss: 0.0439\n",
            "Flipped 902.0 training samples (2.255 %)\n",
            "Mean IOU: 0.09415122599488478\n",
            "Mean dist: 0.25194095852176157\n",
            "Mean mse: 0.01655298475231711\n",
            "\n",
            "\n",
            "Epoch 6\n",
            "1250/1250 - 3s - loss: 0.0484 - val_loss: 0.0414\n",
            "Flipped 862.0 training samples (2.155 %)\n",
            "Mean IOU: 0.10142116262063688\n",
            "Mean dist: 0.2445910453691942\n",
            "Mean mse: 0.015528906734117075\n",
            "\n",
            "\n",
            "Epoch 7\n",
            "1250/1250 - 3s - loss: 0.0451 - val_loss: 0.0395\n",
            "Flipped 708.0 training samples (1.77 %)\n",
            "Mean IOU: 0.10756239828833132\n",
            "Mean dist: 0.23869207003038606\n",
            "Mean mse: 0.014717786949577637\n",
            "\n",
            "\n",
            "Epoch 8\n",
            "1250/1250 - 3s - loss: 0.0423 - val_loss: 0.0379\n",
            "Flipped 684.0 training samples (1.71 %)\n",
            "Mean IOU: 0.11269503097520481\n",
            "Mean dist: 0.23381905929811422\n",
            "Mean mse: 0.014059459684692141\n",
            "\n",
            "\n",
            "Epoch 9\n",
            "1250/1250 - 3s - loss: 0.0400 - val_loss: 0.0365\n",
            "Flipped 657.0 training samples (1.6424999999999998 %)\n",
            "Mean IOU: 0.11754654677130373\n",
            "Mean dist: 0.22965602688907125\n",
            "Mean mse: 0.013505636898159694\n",
            "\n",
            "\n",
            "Epoch 10\n",
            "1250/1250 - 3s - loss: 0.0382 - val_loss: 0.0353\n",
            "Flipped 619.0 training samples (1.5474999999999999 %)\n",
            "Mean IOU: 0.1219872760987479\n",
            "Mean dist: 0.22601357287748575\n",
            "Mean mse: 0.013026879527312556\n",
            "\n",
            "\n",
            "Epoch 11\n",
            "1250/1250 - 2s - loss: 0.0365 - val_loss: 0.0344\n",
            "Flipped 609.0 training samples (1.5225 %)\n",
            "Mean IOU: 0.1256473229702858\n",
            "Mean dist: 0.2229416991320054\n",
            "Mean mse: 0.01262558993937125\n",
            "\n",
            "\n",
            "Epoch 12\n",
            "1250/1250 - 2s - loss: 0.0352 - val_loss: 0.0335\n",
            "Flipped 519.0 training samples (1.2975 %)\n",
            "Mean IOU: 0.12965207870365922\n",
            "Mean dist: 0.22016640171222762\n",
            "Mean mse: 0.01226186523610329\n",
            "\n",
            "\n",
            "Epoch 13\n",
            "1250/1250 - 3s - loss: 0.0339 - val_loss: 0.0328\n",
            "Flipped 495.0 training samples (1.2375 %)\n",
            "Mean IOU: 0.13345745626533198\n",
            "Mean dist: 0.21770910598838264\n",
            "Mean mse: 0.011944320308333223\n",
            "\n",
            "\n",
            "Epoch 14\n",
            "1250/1250 - 2s - loss: 0.0329 - val_loss: 0.0322\n",
            "Flipped 481.0 training samples (1.2025 %)\n",
            "Mean IOU: 0.13652392449009745\n",
            "Mean dist: 0.21539978047413516\n",
            "Mean mse: 0.011665974222373175\n",
            "\n",
            "\n",
            "Epoch 15\n",
            "1250/1250 - 3s - loss: 0.0319 - val_loss: 0.0316\n",
            "Flipped 488.0 training samples (1.22 %)\n",
            "Mean IOU: 0.1393332919014705\n",
            "Mean dist: 0.21334436669366072\n",
            "Mean mse: 0.011418366132973578\n",
            "\n",
            "\n",
            "Epoch 16\n",
            "1250/1250 - 3s - loss: 0.0312 - val_loss: 0.0311\n",
            "Flipped 448.0 training samples (1.1199999999999999 %)\n",
            "Mean IOU: 0.14204056057933206\n",
            "Mean dist: 0.2114437389066506\n",
            "Mean mse: 0.011188648821134583\n",
            "\n",
            "\n",
            "Epoch 17\n",
            "1250/1250 - 3s - loss: 0.0303 - val_loss: 0.0307\n",
            "Flipped 418.0 training samples (1.045 %)\n",
            "Mean IOU: 0.14458371890941213\n",
            "Mean dist: 0.20967240988183916\n",
            "Mean mse: 0.010981257015141745\n",
            "\n",
            "\n",
            "Epoch 18\n",
            "1250/1250 - 2s - loss: 0.0296 - val_loss: 0.0303\n",
            "Flipped 319.0 training samples (0.7975 %)\n",
            "Mean IOU: 0.1468144933414354\n",
            "Mean dist: 0.2080494725385991\n",
            "Mean mse: 0.010792488328989958\n",
            "\n",
            "\n",
            "Epoch 19\n",
            "1250/1250 - 3s - loss: 0.0290 - val_loss: 0.0299\n",
            "Flipped 356.0 training samples (0.89 %)\n",
            "Mean IOU: 0.14995869851660198\n",
            "Mean dist: 0.2064036374854088\n",
            "Mean mse: 0.010608434098732234\n",
            "\n",
            "\n",
            "Epoch 20\n",
            "1250/1250 - 3s - loss: 0.0285 - val_loss: 0.0296\n",
            "Flipped 308.0 training samples (0.77 %)\n",
            "Mean IOU: 0.15203454068016112\n",
            "Mean dist: 0.20495681090139092\n",
            "Mean mse: 0.010447016123295134\n",
            "\n",
            "\n",
            "Epoch 21\n",
            "1250/1250 - 3s - loss: 0.0279 - val_loss: 0.0293\n",
            "Flipped 294.0 training samples (0.735 %)\n",
            "Mean IOU: 0.15428042323304164\n",
            "Mean dist: 0.20356949656557038\n",
            "Mean mse: 0.01029422922077815\n",
            "\n",
            "\n",
            "Epoch 22\n",
            "1250/1250 - 2s - loss: 0.0275 - val_loss: 0.0290\n",
            "Flipped 293.0 training samples (0.7325 %)\n",
            "Mean IOU: 0.15624734448707436\n",
            "Mean dist: 0.20225715700244062\n",
            "Mean mse: 0.010154689438867345\n",
            "\n",
            "\n",
            "Epoch 23\n",
            "1250/1250 - 3s - loss: 0.0270 - val_loss: 0.0287\n",
            "Flipped 316.0 training samples (0.79 %)\n",
            "Mean IOU: 0.15863816766232575\n",
            "Mean dist: 0.20092190840371113\n",
            "Mean mse: 0.01001509179614267\n",
            "\n",
            "\n",
            "Epoch 24\n",
            "1250/1250 - 3s - loss: 0.0267 - val_loss: 0.0285\n",
            "Flipped 317.0 training samples (0.7925 %)\n",
            "Mean IOU: 0.1603624874676951\n",
            "Mean dist: 0.19970516430091176\n",
            "Mean mse: 0.009889360513190452\n",
            "\n",
            "\n",
            "Epoch 25\n",
            "1250/1250 - 2s - loss: 0.0263 - val_loss: 0.0283\n",
            "Flipped 310.0 training samples (0.775 %)\n",
            "Mean IOU: 0.16236255552418544\n",
            "Mean dist: 0.1985246433317795\n",
            "Mean mse: 0.009768766455358692\n",
            "\n",
            "\n",
            "Epoch 26\n",
            "1250/1250 - 3s - loss: 0.0259 - val_loss: 0.0281\n",
            "Flipped 243.0 training samples (0.6074999999999999 %)\n",
            "Mean IOU: 0.1639310728770347\n",
            "Mean dist: 0.19749649045465012\n",
            "Mean mse: 0.009659793646618061\n",
            "\n",
            "\n",
            "Epoch 27\n",
            "1250/1250 - 3s - loss: 0.0256 - val_loss: 0.0279\n",
            "Flipped 224.0 training samples (0.5599999999999999 %)\n",
            "Mean IOU: 0.16592526733371524\n",
            "Mean dist: 0.19641030311005458\n",
            "Mean mse: 0.009547083750477282\n",
            "\n",
            "\n",
            "Epoch 28\n",
            "1250/1250 - 3s - loss: 0.0252 - val_loss: 0.0278\n",
            "Flipped 258.0 training samples (0.645 %)\n",
            "Mean IOU: 0.16776933185145626\n",
            "Mean dist: 0.19536236573254215\n",
            "Mean mse: 0.009444298010414938\n",
            "\n",
            "\n",
            "Epoch 29\n",
            "1250/1250 - 3s - loss: 0.0250 - val_loss: 0.0276\n",
            "Flipped 295.0 training samples (0.7374999999999999 %)\n",
            "Mean IOU: 0.1691739271044937\n",
            "Mean dist: 0.19428270249879284\n",
            "Mean mse: 0.009347408139333078\n",
            "\n",
            "\n",
            "Epoch 30\n",
            "1250/1250 - 2s - loss: 0.0246 - val_loss: 0.0275\n",
            "Flipped 191.0 training samples (0.4775 %)\n",
            "Mean IOU: 0.17066198583004422\n",
            "Mean dist: 0.19329219935458095\n",
            "Mean mse: 0.009254583448935863\n",
            "\n",
            "\n",
            "Epoch 31\n",
            "1250/1250 - 2s - loss: 0.0243 - val_loss: 0.0273\n",
            "Flipped 224.0 training samples (0.5599999999999999 %)\n",
            "Mean IOU: 0.17239853906267139\n",
            "Mean dist: 0.1923443650923715\n",
            "Mean mse: 0.009162586181179426\n",
            "\n",
            "\n",
            "Epoch 32\n",
            "1250/1250 - 2s - loss: 0.0240 - val_loss: 0.0272\n",
            "Flipped 217.0 training samples (0.5425 %)\n",
            "Mean IOU: 0.17365462918761174\n",
            "Mean dist: 0.19144313608610497\n",
            "Mean mse: 0.009082014350604177\n",
            "\n",
            "\n",
            "Epoch 33\n",
            "1250/1250 - 3s - loss: 0.0238 - val_loss: 0.0271\n",
            "Flipped 198.0 training samples (0.49500000000000005 %)\n",
            "Mean IOU: 0.1754342446492649\n",
            "Mean dist: 0.19051836798560184\n",
            "Mean mse: 0.008995486118540955\n",
            "\n",
            "\n",
            "Epoch 34\n",
            "1250/1250 - 2s - loss: 0.0235 - val_loss: 0.0270\n",
            "Flipped 170.0 training samples (0.42500000000000004 %)\n",
            "Mean IOU: 0.17713109104470814\n",
            "Mean dist: 0.1896244767835146\n",
            "Mean mse: 0.008915593126860844\n",
            "\n",
            "\n",
            "Epoch 35\n",
            "1250/1250 - 3s - loss: 0.0233 - val_loss: 0.0269\n",
            "Flipped 167.0 training samples (0.4175 %)\n",
            "Mean IOU: 0.1783873919924296\n",
            "Mean dist: 0.18881081434670838\n",
            "Mean mse: 0.00884079262867683\n",
            "\n",
            "\n",
            "Epoch 36\n",
            "1250/1250 - 3s - loss: 0.0231 - val_loss: 0.0268\n",
            "Flipped 138.0 training samples (0.345 %)\n",
            "Mean IOU: 0.1792274133004544\n",
            "Mean dist: 0.188094066597689\n",
            "Mean mse: 0.00877569088354422\n",
            "\n",
            "\n",
            "Epoch 37\n",
            "1250/1250 - 3s - loss: 0.0230 - val_loss: 0.0267\n",
            "Flipped 193.0 training samples (0.48250000000000004 %)\n",
            "Mean IOU: 0.18130463171101832\n",
            "Mean dist: 0.18726396432839515\n",
            "Mean mse: 0.00869565285947182\n",
            "\n",
            "\n",
            "Epoch 38\n",
            "1250/1250 - 3s - loss: 0.0227 - val_loss: 0.0266\n",
            "Flipped 204.0 training samples (0.51 %)\n",
            "Mean IOU: 0.18280200066359556\n",
            "Mean dist: 0.1864627286646748\n",
            "Mean mse: 0.008624417345906802\n",
            "\n",
            "\n",
            "Epoch 39\n",
            "1250/1250 - 3s - loss: 0.0225 - val_loss: 0.0266\n",
            "Flipped 190.0 training samples (0.475 %)\n",
            "Mean IOU: 0.1838462055031591\n",
            "Mean dist: 0.18572079626665308\n",
            "Mean mse: 0.008562547158313465\n",
            "\n",
            "\n",
            "Epoch 40\n",
            "1250/1250 - 3s - loss: 0.0223 - val_loss: 0.0265\n",
            "Flipped 159.0 training samples (0.3975 %)\n",
            "Mean IOU: 0.18475535696344542\n",
            "Mean dist: 0.1850447536846153\n",
            "Mean mse: 0.008503390265712587\n",
            "\n",
            "\n",
            "Epoch 41\n",
            "1250/1250 - 2s - loss: 0.0221 - val_loss: 0.0264\n",
            "Flipped 122.0 training samples (0.305 %)\n",
            "Mean IOU: 0.18586247268819275\n",
            "Mean dist: 0.184363489838462\n",
            "Mean mse: 0.008445507373116461\n",
            "\n",
            "\n",
            "Epoch 42\n",
            "1250/1250 - 2s - loss: 0.0219 - val_loss: 0.0263\n",
            "Flipped 166.0 training samples (0.415 %)\n",
            "Mean IOU: 0.18760472663447547\n",
            "Mean dist: 0.18365588710412672\n",
            "Mean mse: 0.008381407659689295\n",
            "\n",
            "\n",
            "Epoch 43\n",
            "1250/1250 - 2s - loss: 0.0218 - val_loss: 0.0263\n",
            "Flipped 173.0 training samples (0.4325 %)\n",
            "Mean IOU: 0.18870382838316913\n",
            "Mean dist: 0.18298375121132615\n",
            "Mean mse: 0.008326145256875323\n",
            "\n",
            "\n",
            "Epoch 44\n",
            "1250/1250 - 3s - loss: 0.0216 - val_loss: 0.0262\n",
            "Flipped 169.0 training samples (0.4225 %)\n",
            "Mean IOU: 0.18930894377383584\n",
            "Mean dist: 0.18237986450754146\n",
            "Mean mse: 0.008275573133820045\n",
            "\n",
            "\n",
            "Epoch 45\n",
            "1250/1250 - 3s - loss: 0.0214 - val_loss: 0.0262\n",
            "Flipped 155.0 training samples (0.3875 %)\n",
            "Mean IOU: 0.19045625291588011\n",
            "Mean dist: 0.1816923421883227\n",
            "Mean mse: 0.008221076761049982\n",
            "\n",
            "\n",
            "Epoch 46\n",
            "1250/1250 - 2s - loss: 0.0213 - val_loss: 0.0261\n",
            "Flipped 135.0 training samples (0.3375 %)\n",
            "Mean IOU: 0.19210190480679085\n",
            "Mean dist: 0.18100392317543298\n",
            "Mean mse: 0.008164115579863454\n",
            "\n",
            "\n",
            "Epoch 47\n",
            "1250/1250 - 2s - loss: 0.0212 - val_loss: 0.0261\n",
            "Flipped 139.0 training samples (0.3475 %)\n",
            "Mean IOU: 0.1929415455332721\n",
            "Mean dist: 0.18040060820084736\n",
            "Mean mse: 0.008116974390970401\n",
            "\n",
            "\n",
            "Epoch 48\n",
            "1250/1250 - 2s - loss: 0.0210 - val_loss: 0.0260\n",
            "Flipped 150.0 training samples (0.375 %)\n",
            "Mean IOU: 0.19437142804856034\n",
            "Mean dist: 0.17980052557386686\n",
            "Mean mse: 0.008063567421949221\n",
            "\n",
            "\n",
            "Epoch 49\n",
            "1250/1250 - 3s - loss: 0.0209 - val_loss: 0.0260\n",
            "Flipped 138.0 training samples (0.345 %)\n",
            "Mean IOU: 0.19525224187547882\n",
            "Mean dist: 0.17925508563562084\n",
            "Mean mse: 0.008018252786645448\n",
            "\n",
            "\n"
          ],
          "name": "stdout"
        }
      ]
    },
    {
      "cell_type": "code",
      "metadata": {
        "colab": {
          "base_uri": "https://localhost:8080/",
          "height": 300
        },
        "id": "-u4Hf3UQ3Tu1",
        "outputId": "897890e3-e513-45c2-d3cd-3d362f9629ed"
      },
      "source": [
        "plt.pcolor(flipped[:1000], cmap='Greys')\n",
        "plt.xlabel('Epoch')\n",
        "plt.ylabel('Training sample')"
      ],
      "execution_count": null,
      "outputs": [
        {
          "output_type": "execute_result",
          "data": {
            "text/plain": [
              "Text(0, 0.5, 'Training sample')"
            ]
          },
          "metadata": {
            "tags": []
          },
          "execution_count": 20
        },
        {
          "output_type": "display_data",
          "data": {
            "image/png": "[encoded data removed]",
            "text/plain": [
              "<Figure size 432x288 with 1 Axes>"
            ]
          },
          "metadata": {
            "tags": [],
            "needs_background": "light"
          }
        }
      ]
    },
    {
      "cell_type": "code",
      "metadata": {
        "colab": {
          "base_uri": "https://localhost:8080/",
          "height": 286
        },
        "id": "1xaAqRb43d0i",
        "outputId": "45d43a42-3399-4c6e-f07c-2607435fcc34"
      },
      "source": [
        "plt.plot(np.mean(ious_epoch, axis=0), label='Mean IOU')  # between predicted and assigned true bboxes\n",
        "plt.plot(np.mean(dists_epoch, axis=0), label='Mean distance')  # relative to image size\n",
        "plt.legend()\n",
        "plt.ylim(0, 1)\n"
      ],
      "execution_count": null,
      "outputs": [
        {
          "output_type": "execute_result",
          "data": {
            "text/plain": [
              "(0.0, 1.0)"
            ]
          },
          "metadata": {
            "tags": []
          },
          "execution_count": 22
        },
        {
          "output_type": "display_data",
          "data": {
            "image/png": "[encoded data removed]",
            "text/plain": [
              "<Figure size 432x288 with 1 Axes>"
            ]
          },
          "metadata": {
            "tags": [],
            "needs_background": "light"
          }
        }
      ]
    },
    {
      "cell_type": "code",
      "metadata": {
        "colab": {
          "base_uri": "https://localhost:8080/"
        },
        "id": "B8bjd7ae3xve",
        "outputId": "50d91d06-4f6a-4da4-e255-3a0148cfd5ea"
      },
      "source": [
        "pred_y = model.predict(test_X)\n",
        "pred_y = pred_y.reshape(len(pred_y), num_objects, -1)\n",
        "pred_bboxes = pred_y[..., :4] * img_size\n",
        "pred_shapes = pred_y[..., 4:5]\n",
        "pred_bboxes.shape, pred_shapes.shape"
      ],
      "execution_count": null,
      "outputs": [
        {
          "output_type": "execute_result",
          "data": {
            "text/plain": [
              "((10000, 2, 4), (10000, 2, 0))"
            ]
          },
          "metadata": {
            "tags": []
          },
          "execution_count": 23
        }
      ]
    },
    {
      "cell_type": "code",
      "metadata": {
        "colab": {
          "base_uri": "https://localhost:8080/",
          "height": 385
        },
        "id": "tXOBbIIe31pY",
        "outputId": "16953945-6c48-4f09-ada0-995282a0764d"
      },
      "source": [
        "plt.figure(figsize=(16, 8))\n",
        "for i_subplot in range(1, 5):\n",
        "    plt.subplot(1, 4, i_subplot)\n",
        "    i = np.random.randint(len(test_X))\n",
        "    plt.imshow(test_imgs[i].T, cmap='Greys', interpolation='none', origin='lower', extent=[0, img_size, 0, img_size])\n",
        "    for pred_bbox, exp_bbox, pred_shape in zip(pred_bboxes[i], test_bboxes[i], pred_shapes[i]):\n",
        "        print(pred_bbox)\n",
        "        plt.gca().add_patch(matplotlib.patches.Rectangle((pred_bbox[0], pred_bbox[1]), pred_bbox[2], pred_bbox[3],ec='r', fc='none'))"
      ],
      "execution_count": null,
      "outputs": [
        {
          "output_type": "stream",
          "text": [
            "[3.0901163  0.08360825 2.8350563  1.9934778 ]\n",
            "[2.8934953  0.05177559 1.8182871  1.4411243 ]\n",
            "[1.1641378 3.105485  1.7916882 1.2118427]\n",
            "[1.9490995  4.0168724  0.78566885 0.8842524 ]\n",
            "[ 5.314244   -0.78453827  2.0568438   1.9726627 ]\n",
            "[2.9276226 3.003235  1.8148657 1.4338228]\n",
            "[1.2816632 3.6937425 2.8126748 1.6420349]\n",
            "[1.6368439 2.8688457 1.711059  2.524076 ]\n"
          ],
          "name": "stdout"
        },
        {
          "output_type": "display_data",
          "data": {
            "image/png": "[encoded data removed]",
            "text/plain": [
              "<Figure size 1152x576 with 4 Axes>"
            ]
          },
          "metadata": {
            "tags": [],
            "needs_background": "light"
          }
        }
      ]
    }
  ]
}