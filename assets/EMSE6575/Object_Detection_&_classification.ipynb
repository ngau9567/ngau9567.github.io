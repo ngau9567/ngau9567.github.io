{
  "nbformat": 4,
  "nbformat_minor": 0,
  "metadata": {
    "colab": {
      "name": "Object Detection & classification",
      "provenance": []
    },
    "kernelspec": {
      "name": "python3",
      "display_name": "Python 3"
    },
    "accelerator": "GPU"
  },
  "cells": [
    {
      "cell_type": "code",
      "metadata": {
        "colab": {
          "base_uri": "https://localhost:8080/"
        },
        "id": "zyBhfd53HCFk",
        "outputId": "60ee2486-4823-4817-f1e1-adf2c7eb8c42"
      },
      "source": [
        "!apt-get install libcairo2-dev libjpeg-dev libgif-dev\n",
        "!pip install pycairo\n",
        "import numpy as np\n",
        "import matplotlib.pyplot as plt\n",
        "import matplotlib\n",
        "%matplotlib inline"
      ],
      "execution_count": null,
      "outputs": [
        {
          "output_type": "stream",
          "text": [
            "Reading package lists... Done\n",
            "Building dependency tree       \n",
            "Reading state information... Done\n",
            "libjpeg-dev is already the newest version (8c-2ubuntu8).\n",
            "libcairo2-dev is already the newest version (1.15.10-2ubuntu0.1).\n",
            "libgif-dev is already the newest version (5.1.4-2ubuntu0.1).\n",
            "0 upgraded, 0 newly installed, 0 to remove and 29 not upgraded.\n",
            "Requirement already satisfied: pycairo in /usr/local/lib/python3.7/dist-packages (1.20.0)\n"
          ],
          "name": "stdout"
        }
      ]
    },
    {
      "cell_type": "code",
      "metadata": {
        "id": "sFI6vDGWHKk1"
      },
      "source": [
        "import cairo\n",
        "num_imgs = 1000\n",
        "\n",
        "img_size = 32\n",
        "min_object_size = 4\n",
        "max_object_size = 16\n",
        "num_objects = 2\n",
        "\n",
        "bboxes = np.zeros((num_imgs, num_objects, 4))\n",
        "imgs = np.zeros((num_imgs, img_size, img_size, 4), dtype=np.uint8)  # format: BGRA\n",
        "shapes = np.zeros((num_imgs, num_objects), dtype=int)\n",
        "num_shapes = 3\n",
        "shape_labels = ['rectangle', 'circle', 'triangle']\n",
        "colors = np.zeros((num_imgs, num_objects), dtype=int)\n",
        "num_colors = 3\n",
        "color_labels = ['r', 'g', 'b']\n",
        "\n",
        "for i_img in range(num_imgs):\n",
        "    surface = cairo.ImageSurface.create_for_data(imgs[i_img], cairo.FORMAT_ARGB32, img_size, img_size)\n",
        "    cr = cairo.Context(surface)\n",
        "\n",
        "    # Fill background white.\n",
        "    cr.set_source_rgb(1, 1, 1)\n",
        "    cr.paint()\n",
        "    \n",
        "    # TODO: Try no overlap here.\n",
        "    # Draw random shapes.\n",
        "    for i_object in range(num_objects):\n",
        "        shape = np.random.randint(num_shapes)\n",
        "        shapes[i_img, i_object] = shape\n",
        "        if shape == 0:  # rectangle\n",
        "            w, h = np.random.randint(min_object_size, max_object_size, size=2)\n",
        "            x = np.random.randint(0, img_size - w)\n",
        "            y = np.random.randint(0, img_size - h)\n",
        "            bboxes[i_img, i_object] = [x, y, w, h]\n",
        "            cr.rectangle(x, y, w, h)            \n",
        "        elif shape == 1:  # circle   \n",
        "            r = 0.5 * np.random.randint(min_object_size, max_object_size)\n",
        "            x = np.random.randint(r, img_size - r)\n",
        "            y = np.random.randint(r, img_size - r)\n",
        "            bboxes[i_img, i_object] = [x - r, y - r, 2 * r, 2 * r]\n",
        "            cr.arc(x, y, r, 0, 2*np.pi)\n",
        "        elif shape == 2:  # triangle\n",
        "            w, h = np.random.randint(min_object_size, max_object_size, size=2)\n",
        "            x = np.random.randint(0, img_size - w)\n",
        "            y = np.random.randint(0, img_size - h)\n",
        "            bboxes[i_img, i_object] = [x, y, w, h]\n",
        "            cr.move_to(x, y)\n",
        "            cr.line_to(x+w, y)\n",
        "            cr.line_to(x+w, y+h)\n",
        "            cr.line_to(x, y)\n",
        "            cr.close_path()\n",
        "        \n",
        "        # TODO: Introduce some variation to the colors by adding a small random offset to the rgb values.\n",
        "        color = np.random.randint(num_colors)\n",
        "        colors[i_img, i_object] = color\n",
        "        max_offset = 0.3\n",
        "        r_offset, g_offset, b_offset = max_offset * 2. * (np.random.rand(3) - 0.5)\n",
        "        if color == 0:\n",
        "            cr.set_source_rgb(1-max_offset+r_offset, 0+g_offset, 0+b_offset)\n",
        "        elif color == 1:\n",
        "            cr.set_source_rgb(0+r_offset, 1-max_offset+g_offset, 0+b_offset)\n",
        "        elif color == 2:\n",
        "            cr.set_source_rgb(0+r_offset, 0-max_offset+g_offset, 1+b_offset)\n",
        "        cr.fill()"
      ],
      "execution_count": null,
      "outputs": []
    },
    {
      "cell_type": "code",
      "metadata": {
        "id": "1b22TdRRWW4F"
      },
      "source": [
        "imgs = imgs[..., 2::-1]"
      ],
      "execution_count": null,
      "outputs": []
    },
    {
      "cell_type": "code",
      "metadata": {
        "colab": {
          "base_uri": "https://localhost:8080/"
        },
        "id": "elXj1uS7WZjK",
        "outputId": "20b97507-b299-4232-eaf6-985cc2c30730"
      },
      "source": [
        "imgs.shape"
      ],
      "execution_count": null,
      "outputs": [
        {
          "output_type": "execute_result",
          "data": {
            "text/plain": [
              "(1000, 32, 32, 3)"
            ]
          },
          "metadata": {
            "tags": []
          },
          "execution_count": 7
        }
      ]
    },
    {
      "cell_type": "code",
      "metadata": {
        "colab": {
          "base_uri": "https://localhost:8080/",
          "height": 265
        },
        "id": "D8xyIRNzWp64",
        "outputId": "8d5fbe48-3304-4b65-9d8d-42ecbd97d2c6"
      },
      "source": [
        "i = 3\n",
        "plt.imshow(imgs[i], interpolation='none', origin='lower', extent=[0, img_size, 0, img_size])\n",
        "for bbox, shape, color in zip(bboxes[i], shapes[i], colors[i]):\n",
        "    plt.gca().add_patch(matplotlib.patches.Rectangle((bbox[0], bbox[1]), bbox[2], bbox[3], ec='k', fc='none'))\n",
        "    plt.annotate(shape_labels[shape], (bbox[0], bbox[1] + bbox[3] + 0.7), color=color_labels[color], clip_on=False)\n",
        "# surface.write_to_png(\"circle.png\")"
      ],
      "execution_count": null,
      "outputs": [
        {
          "output_type": "display_data",
          "data": {
            "image/png": "[encoded data removed]",
            "text/plain": [
              "<Figure size 432x288 with 1 Axes>"
            ]
          },
          "metadata": {
            "tags": [],
            "needs_background": "light"
          }
        }
      ]
    },
    {
      "cell_type": "code",
      "metadata": {
        "colab": {
          "base_uri": "https://localhost:8080/"
        },
        "id": "TilaovYy5gRI",
        "outputId": "5ca01987-ea9d-4143-b083-8af98f1ab83a"
      },
      "source": [
        "X = (imgs - 128.) / 255.\n",
        "X.shape, np.mean(X), np.std(X)\n"
      ],
      "execution_count": null,
      "outputs": [
        {
          "output_type": "execute_result",
          "data": {
            "text/plain": [
              "((1000, 32, 32, 3), 0.40640019786560416, 0.2643851084254905)"
            ]
          },
          "metadata": {
            "tags": []
          },
          "execution_count": 9
        }
      ]
    },
    {
      "cell_type": "code",
      "metadata": {
        "colab": {
          "base_uri": "https://localhost:8080/"
        },
        "id": "WjPWoR6P5m7m",
        "outputId": "d6f4ad87-0871-42a0-a1ca-b2c815f4fab9"
      },
      "source": [
        "colors_onehot = np.zeros((num_imgs, num_objects, num_colors))\n",
        "for i_img in range(num_imgs):\n",
        "    for i_object in range(num_objects):\n",
        "        colors_onehot[i_img, i_object, colors[i_img, i_object]] = 1\n",
        "\n",
        "shapes_onehot = np.zeros((num_imgs, num_objects, num_shapes))\n",
        "for i_img in range(num_imgs):\n",
        "    for i_object in range(num_objects):\n",
        "        shapes_onehot[i_img, i_object, shapes[i_img, i_object]] = 1\n",
        "        \n",
        "y = np.concatenate([bboxes / img_size, shapes_onehot, colors_onehot], axis=-1).reshape(num_imgs, -1)\n",
        "y.shape, np.all(np.argmax(colors_onehot, axis=-1) == colors)"
      ],
      "execution_count": null,
      "outputs": [
        {
          "output_type": "execute_result",
          "data": {
            "text/plain": [
              "((1000, 20), True)"
            ]
          },
          "metadata": {
            "tags": []
          },
          "execution_count": 10
        }
      ]
    },
    {
      "cell_type": "code",
      "metadata": {
        "colab": {
          "base_uri": "https://localhost:8080/"
        },
        "id": "_O6XUxO86b60",
        "outputId": "9bc521d7-6685-4127-ae52-d5621f41f332"
      },
      "source": [
        "y[0]"
      ],
      "execution_count": null,
      "outputs": [
        {
          "output_type": "execute_result",
          "data": {
            "text/plain": [
              "array([0.4375 , 0.15625, 0.40625, 0.3125 , 0.     , 0.     , 1.     ,\n",
              "       0.     , 0.     , 1.     , 0.65625, 0.53125, 0.15625, 0.25   ,\n",
              "       1.     , 0.     , 0.     , 1.     , 0.     , 0.     ])"
            ]
          },
          "metadata": {
            "tags": []
          },
          "execution_count": 23
        }
      ]
    },
    {
      "cell_type": "code",
      "metadata": {
        "id": "h3SWVFsY6pDq"
      },
      "source": [
        "i = int(0.8 * num_imgs)\n",
        "train_X = X[:i]\n",
        "test_X = X[i:]\n",
        "train_y = y[:i]\n",
        "test_y = y[i:]\n",
        "test_imgs = imgs[i:]\n",
        "test_bboxes = bboxes[i:]\n"
      ],
      "execution_count": null,
      "outputs": []
    },
    {
      "cell_type": "code",
      "metadata": {
        "id": "gVoFNlek6uxM"
      },
      "source": [
        "from keras.models import Sequential\n",
        "from keras.layers import Dense, Activation, Dropout, Conv2D, Convolution2D, MaxPooling2D, Flatten\n",
        "\n",
        "filter_size = 3\n",
        "pool_size = 2\n",
        "\n",
        "model = Sequential([\n",
        "        Conv2D(32,5, input_shape=X.shape[1:],  activation='relu'), \n",
        "        MaxPooling2D(pool_size=(pool_size, pool_size)), \n",
        "        Conv2D(64, filter_size, activation='relu'), \n",
        "        MaxPooling2D(pool_size=(pool_size, pool_size)), \n",
        "        Conv2D(128, filter_size, activation='relu'),\n",
        "        Conv2D(128, filter_size, activation='relu'), \n",
        "        Flatten(), \n",
        "        Dropout(0.4), \n",
        "        Dense(256, activation='relu'), \n",
        "        Dropout(0.4), \n",
        "        Dense(y.shape[-1])\n",
        "    ]) \n",
        "\n",
        "model.compile('adadelta', 'mse')"
      ],
      "execution_count": null,
      "outputs": []
    },
    {
      "cell_type": "code",
      "metadata": {
        "id": "ERIpAdm18Ggc"
      },
      "source": [
        "# Flip bboxes during training.\n",
        "# Note: The validation loss is always quite big here because we don't flip the bounding boxes for the validation data. \n",
        "def IOU(bbox1, bbox2):\n",
        "    '''Calculate overlap between two bounding boxes [x, y, w, h] as the area of intersection over the area of unity'''\n",
        "    x1, y1, w1, h1 = bbox1[0], bbox1[1], bbox1[2], bbox1[3]  # TODO: Check if its more performant if tensor elements are accessed directly below.\n",
        "    x2, y2, w2, h2 = bbox2[0], bbox2[1], bbox2[2], bbox2[3]\n",
        "\n",
        "    w_I = min(x1 + w1, x2 + w2) - max(x1, x2)\n",
        "    h_I = min(y1 + h1, y2 + h2) - max(y1, y2)\n",
        "    if w_I <= 0 or h_I <= 0:  # no overlap\n",
        "        return 0\n",
        "    I = w_I * h_I\n",
        "\n",
        "    U = w1 * h1 + w2 * h2 - I\n",
        "\n",
        "    return I / U\n",
        "\n",
        "def dist(bbox1, bbox2):\n",
        "    return np.sqrt(np.sum(np.square(bbox1[:2] - bbox2[:2])))"
      ],
      "execution_count": null,
      "outputs": []
    },
    {
      "cell_type": "code",
      "metadata": {
        "id": "ULFtqFOw8Ops"
      },
      "source": [
        "num_epochs_flipping = 1\n",
        "num_epochs_no_flipping = 0  # has no significant effect\n",
        "\n",
        "flipped_train_y = np.array(train_y)\n",
        "flipped = np.zeros((len(train_y), num_epochs_flipping + num_epochs_no_flipping))\n",
        "ious_epoch = np.zeros((len(train_y), num_epochs_flipping + num_epochs_no_flipping))\n",
        "dists_epoch = np.zeros((len(train_y), num_epochs_flipping + num_epochs_no_flipping))\n",
        "mses_epoch = np.zeros((len(train_y), num_epochs_flipping + num_epochs_no_flipping))\n",
        "acc_shapes_epoch = np.zeros((len(train_y), num_epochs_flipping + num_epochs_no_flipping))\n",
        "acc_colors_epoch = np.zeros((len(train_y), num_epochs_flipping + num_epochs_no_flipping))\n",
        "\n",
        "flipped_test_y = np.array(test_y)\n",
        "flipped_test = np.zeros((len(test_y), num_epochs_flipping + num_epochs_no_flipping))\n",
        "ious_test_epoch = np.zeros((len(test_y), num_epochs_flipping + num_epochs_no_flipping))\n",
        "dists_test_epoch = np.zeros((len(test_y), num_epochs_flipping + num_epochs_no_flipping))\n",
        "mses_test_epoch = np.zeros((len(test_y), num_epochs_flipping + num_epochs_no_flipping))\n",
        "acc_shapes_test_epoch = np.zeros((len(test_y), num_epochs_flipping + num_epochs_no_flipping))\n",
        "acc_colors_test_epoch = np.zeros((len(test_y), num_epochs_flipping + num_epochs_no_flipping))\n"
      ],
      "execution_count": null,
      "outputs": []
    },
    {
      "cell_type": "code",
      "metadata": {
        "colab": {
          "base_uri": "https://localhost:8080/"
        },
        "id": "rr-QEHUK8TzH",
        "outputId": "482d76c2-02a3-496b-beb3-a9aa5b58aacd"
      },
      "source": [
        "# TODO: Calculate ious directly for all samples (using slices of the array pred_y for x, y, w, h).\n",
        "for epoch in range(num_epochs_flipping):\n",
        "    print('Epoch', epoch)\n",
        "    model.fit(train_X, flipped_train_y, epochs=1, validation_data=(test_X, test_y), verbose=2)\n",
        "    pred_y = model.predict(train_X)\n",
        "\n",
        "    for sample, (pred, exp) in enumerate(zip(pred_y, flipped_train_y)):\n",
        "        \n",
        "        # TODO: Make this simpler.\n",
        "        pred = pred.reshape(num_objects, -1)\n",
        "        exp = exp.reshape(num_objects, -1)\n",
        "        \n",
        "        pred_bboxes = pred[:, :4]\n",
        "        exp_bboxes = exp[:, :4]\n",
        "        \n",
        "        ious = np.zeros((num_objects, num_objects))\n",
        "        dists = np.zeros((num_objects, num_objects))\n",
        "        mses = np.zeros((num_objects, num_objects))\n",
        "        for i, exp_bbox in enumerate(exp_bboxes):\n",
        "            for j, pred_bbox in enumerate(pred_bboxes):\n",
        "                ious[i, j] = IOU(exp_bbox, pred_bbox)\n",
        "                dists[i, j] = dist(exp_bbox, pred_bbox)\n",
        "                mses[i, j] = np.mean(np.square(exp_bbox - pred_bbox))\n",
        "                \n",
        "        new_order = np.zeros(num_objects, dtype=int)\n",
        "        \n",
        "        for i in range(num_objects):\n",
        "            # Find pred and exp bbox with maximum iou and assign them to each other (i.e. switch the positions of the exp bboxes in y).\n",
        "            ind_exp_bbox, ind_pred_bbox = np.unravel_index(ious.argmax(), ious.shape)\n",
        "            ious_epoch[sample, epoch] += ious[ind_exp_bbox, ind_pred_bbox]\n",
        "            dists_epoch[sample, epoch] += dists[ind_exp_bbox, ind_pred_bbox]\n",
        "            mses_epoch[sample, epoch] += mses[ind_exp_bbox, ind_pred_bbox]\n",
        "            ious[ind_exp_bbox] = -1  # set iou of assigned bboxes to -1, so they don't get assigned again\n",
        "            ious[:, ind_pred_bbox] = -1\n",
        "            new_order[ind_pred_bbox] = ind_exp_bbox\n",
        "        \n",
        "        flipped_train_y[sample] = exp[new_order].flatten()\n",
        "        \n",
        "        flipped[sample, epoch] = 1. - np.mean(new_order == np.arange(num_objects, dtype=int))#np.array_equal(new_order, np.arange(num_objects, dtype=int))  # TODO: Change this to reflect the number of flips.\n",
        "        ious_epoch[sample, epoch] /= num_objects\n",
        "        dists_epoch[sample, epoch] /= num_objects\n",
        "        mses_epoch[sample, epoch] /= num_objects\n",
        "        \n",
        "        acc_shapes_epoch[sample, epoch] = np.mean(np.argmax(pred[:, 4:4+num_shapes], axis=-1) == np.argmax(exp[:, 4:4+num_shapes], axis=-1))\n",
        "        acc_colors_epoch[sample, epoch] = np.mean(np.argmax(pred[:, 4+num_shapes:4+num_shapes+num_colors], axis=-1) == np.argmax(exp[:, 4+num_shapes:4+num_shapes+num_colors], axis=-1))\n",
        "\n",
        "    \n",
        "    # Calculate metrics on test data. \n",
        "    pred_test_y = model.predict(test_X)\n",
        "    # TODO: Make this simpler.\n",
        "    for sample, (pred, exp) in enumerate(zip(pred_test_y, flipped_test_y)):\n",
        "        \n",
        "        # TODO: Make this simpler.\n",
        "        pred = pred.reshape(num_objects, -1)\n",
        "        exp = exp.reshape(num_objects, -1)\n",
        "        \n",
        "        pred_bboxes = pred[:, :4]\n",
        "        exp_bboxes = exp[:, :4]\n",
        "        \n",
        "        ious = np.zeros((num_objects, num_objects))\n",
        "        dists = np.zeros((num_objects, num_objects))\n",
        "        mses = np.zeros((num_objects, num_objects))\n",
        "        for i, exp_bbox in enumerate(exp_bboxes):\n",
        "            for j, pred_bbox in enumerate(pred_bboxes):\n",
        "                ious[i, j] = IOU(exp_bbox, pred_bbox)\n",
        "                dists[i, j] = dist(exp_bbox, pred_bbox)\n",
        "                mses[i, j] = np.mean(np.square(exp_bbox - pred_bbox))\n",
        "                \n",
        "        new_order = np.zeros(num_objects, dtype=int)\n",
        "        \n",
        "        for i in range(num_objects):\n",
        "            # Find pred and exp bbox with maximum iou and assign them to each other (i.e. switch the positions of the exp bboxes in y).\n",
        "            ind_exp_bbox, ind_pred_bbox = np.unravel_index(mses.argmin(), mses.shape)\n",
        "            ious_test_epoch[sample, epoch] += ious[ind_exp_bbox, ind_pred_bbox]\n",
        "            dists_test_epoch[sample, epoch] += dists[ind_exp_bbox, ind_pred_bbox]\n",
        "            mses_test_epoch[sample, epoch] += mses[ind_exp_bbox, ind_pred_bbox]\n",
        "            mses[ind_exp_bbox] = 1000000#-1  # set iou of assigned bboxes to -1, so they don't get assigned again\n",
        "            mses[:, ind_pred_bbox] = 10000000#-1\n",
        "            new_order[ind_pred_bbox] = ind_exp_bbox\n",
        "        \n",
        "        flipped_test_y[sample] = exp[new_order].flatten()\n",
        "        \n",
        "        flipped_test[sample, epoch] = 1. - np.mean(new_order == np.arange(num_objects, dtype=int))#np.array_equal(new_order, np.arange(num_objects, dtype=int))  # TODO: Change this to reflect the number of flips.\n",
        "        ious_test_epoch[sample, epoch] /= num_objects\n",
        "        dists_test_epoch[sample, epoch] /= num_objects\n",
        "        mses_test_epoch[sample, epoch] /= num_objects\n",
        "        \n",
        "        acc_shapes_test_epoch[sample, epoch] = np.mean(np.argmax(pred[:, 4:4+num_shapes], axis=-1) == np.argmax(exp[:, 4:4+num_shapes], axis=-1))\n",
        "        acc_colors_test_epoch[sample, epoch] = np.mean(np.argmax(pred[:, 4+num_shapes:4+num_shapes+num_colors], axis=-1) == np.argmax(exp[:, 4+num_shapes:4+num_shapes+num_colors], axis=-1))\n",
        "       \n",
        "            \n",
        "    print('Flipped {} % of all elements'.format(np.mean(flipped[:, epoch]) * 100.))\n",
        "    print('Mean IOU: {}'.format(np.mean(ious_epoch[:, epoch])))\n",
        "    print('Mean dist: {}'.format(np.mean(dists_epoch[:, epoch])))\n",
        "    print('Mean mse: {}'.format(np.mean(mses_epoch[:, epoch])))\n",
        "    print('Accuracy shapes: {}'.format(np.mean(acc_shapes_epoch[:, epoch])))\n",
        "    print('Accuracy colors: {}'.format(np.mean(acc_colors_epoch[:, epoch])))\n",
        "    \n",
        "    print('--------------- TEST ----------------')\n",
        "    print('Flipped {} % of all elements'.format(np.mean(flipped_test[:, epoch]) * 100.))\n",
        "    print('Mean IOU: {}'.format(np.mean(ious_test_epoch[:, epoch])))\n",
        "    print('Mean dist: {}'.format(np.mean(dists_test_epoch[:, epoch])))\n",
        "    print('Mean mse: {}'.format(np.mean(mses_test_epoch[:, epoch])))\n",
        "    print('Accuracy shapes: {}'.format(np.mean(acc_shapes_test_epoch[:, epoch])))\n",
        "    print('Accuracy colors: {}'.format(np.mean(acc_colors_test_epoch[:, epoch])))\n",
        "    print()"
      ],
      "execution_count": null,
      "outputs": [
        {
          "output_type": "stream",
          "text": [
            "Epoch 0\n",
            "25/25 - 33s - loss: 0.2424 - val_loss: 0.2394\n",
            "Flipped 0.0 % of all elements\n",
            "Mean IOU: 0.0\n",
            "Mean dist: 0.5303613788074256\n",
            "Mean mse: 0.1333769995181736\n",
            "Accuracy shapes: 0.344375\n",
            "Accuracy colors: 0.31\n",
            "--------------- TEST ----------------\n",
            "Flipped 49.0 % of all elements\n",
            "Mean IOU: 0.0\n",
            "Mean dist: 0.5323391392244374\n",
            "Mean mse: 0.13168510682584525\n",
            "Accuracy shapes: 0.31\n",
            "Accuracy colors: 0.325\n",
            "\n"
          ],
          "name": "stdout"
        }
      ]
    },
    {
      "cell_type": "code",
      "metadata": {
        "colab": {
          "base_uri": "https://localhost:8080/",
          "height": 949
        },
        "id": "avZAedkX_NfQ",
        "outputId": "e8ab82f5-0c90-47b7-85e7-192995c4b962"
      },
      "source": [
        "# model.layers\n",
        "weights = model.layers[0].get_weights()[0]\n",
        "weights = weights.transpose(3, 0, 1, 2)\n",
        "print(weights.shape)\n",
        "# plt.imshow(weights[0] * 255. + 128., interpolation='none', origin='lower')\n",
        "print(np.mean(weights[0]), np.std(weights[0]), np.min(weights[0]), np.max(weights[0]))\n",
        "adj_weights = (weights * 255.) + 128.\n",
        "print(np.mean(adj_weights[0]), np.std(adj_weights[0]), np.min(adj_weights[0]), np.max(adj_weights[0]))\n",
        "plt.figure(figsize=(16, 8))\n",
        "for i in range(24):\n",
        "    plt.subplot(4, 6, i+1)\n",
        "    plt.imshow(adj_weights[i, :, :], interpolation='none', origin='lower', cmap='Greys')"
      ],
      "execution_count": null,
      "outputs": [
        {
          "output_type": "stream",
          "text": [
            "Clipping input data to the valid range for imshow with RGB data ([0..1] for floats or [0..255] for integers).\n",
            "Clipping input data to the valid range for imshow with RGB data ([0..1] for floats or [0..255] for integers).\n",
            "Clipping input data to the valid range for imshow with RGB data ([0..1] for floats or [0..255] for integers).\n",
            "Clipping input data to the valid range for imshow with RGB data ([0..1] for floats or [0..255] for integers).\n",
            "Clipping input data to the valid range for imshow with RGB data ([0..1] for floats or [0..255] for integers).\n",
            "Clipping input data to the valid range for imshow with RGB data ([0..1] for floats or [0..255] for integers).\n",
            "Clipping input data to the valid range for imshow with RGB data ([0..1] for floats or [0..255] for integers).\n",
            "Clipping input data to the valid range for imshow with RGB data ([0..1] for floats or [0..255] for integers).\n",
            "Clipping input data to the valid range for imshow with RGB data ([0..1] for floats or [0..255] for integers).\n",
            "Clipping input data to the valid range for imshow with RGB data ([0..1] for floats or [0..255] for integers).\n",
            "Clipping input data to the valid range for imshow with RGB data ([0..1] for floats or [0..255] for integers).\n",
            "Clipping input data to the valid range for imshow with RGB data ([0..1] for floats or [0..255] for integers).\n",
            "Clipping input data to the valid range for imshow with RGB data ([0..1] for floats or [0..255] for integers).\n"
          ],
          "name": "stderr"
        },
        {
          "output_type": "stream",
          "text": [
            "(32, 5, 5, 3)\n",
            "0.0071782973 0.045646656 -0.08047159 0.08199458\n",
            "129.83046 11.639896 107.479744 148.90862\n"
          ],
          "name": "stdout"
        },
        {
          "output_type": "stream",
          "text": [
            "Clipping input data to the valid range for imshow with RGB data ([0..1] for floats or [0..255] for integers).\n",
            "Clipping input data to the valid range for imshow with RGB data ([0..1] for floats or [0..255] for integers).\n",
            "Clipping input data to the valid range for imshow with RGB data ([0..1] for floats or [0..255] for integers).\n",
            "Clipping input data to the valid range for imshow with RGB data ([0..1] for floats or [0..255] for integers).\n",
            "Clipping input data to the valid range for imshow with RGB data ([0..1] for floats or [0..255] for integers).\n",
            "Clipping input data to the valid range for imshow with RGB data ([0..1] for floats or [0..255] for integers).\n",
            "Clipping input data to the valid range for imshow with RGB data ([0..1] for floats or [0..255] for integers).\n",
            "Clipping input data to the valid range for imshow with RGB data ([0..1] for floats or [0..255] for integers).\n",
            "Clipping input data to the valid range for imshow with RGB data ([0..1] for floats or [0..255] for integers).\n",
            "Clipping input data to the valid range for imshow with RGB data ([0..1] for floats or [0..255] for integers).\n",
            "Clipping input data to the valid range for imshow with RGB data ([0..1] for floats or [0..255] for integers).\n"
          ],
          "name": "stderr"
        },
        {
          "output_type": "display_data",
          "data": {
            "image/png": "[encoded data removed]",
            "text/plain": [
              "<Figure size 1152x576 with 24 Axes>"
            ]
          },
          "metadata": {
            "tags": [],
            "needs_background": "light"
          }
        }
      ]
    },
    {
      "cell_type": "code",
      "metadata": {
        "colab": {
          "base_uri": "https://localhost:8080/",
          "height": 300
        },
        "id": "gs3CoEUQAAER",
        "outputId": "6dce11dc-c057-4eda-86dd-4518f66699cc"
      },
      "source": [
        "plt.pcolor(flipped[:1000], cmap='Greys', vmax=1.)\n",
        "# plt.axvline(num_epochs_flipping, c='r')\n",
        "plt.xlabel('Epoch')\n",
        "plt.ylabel('Training sample')"
      ],
      "execution_count": null,
      "outputs": [
        {
          "output_type": "execute_result",
          "data": {
            "text/plain": [
              "Text(0, 0.5, 'Training sample')"
            ]
          },
          "metadata": {
            "tags": []
          },
          "execution_count": 17
        },
        {
          "output_type": "display_data",
          "data": {
            "image/png": "[encoded data removed]",
            "text/plain": [
              "<Figure size 432x288 with 1 Axes>"
            ]
          },
          "metadata": {
            "tags": [],
            "needs_background": "light"
          }
        }
      ]
    },
    {
      "cell_type": "code",
      "metadata": {
        "colab": {
          "base_uri": "https://localhost:8080/"
        },
        "id": "3G7WkFCiADlB",
        "outputId": "161e76b1-f215-4cdb-ce88-7eb8564648e1"
      },
      "source": [
        "\n",
        "pred_y = model.predict(test_X)\n",
        "pred_y = pred_y.reshape(len(pred_y), num_objects, -1)\n",
        "pred_bboxes = pred_y[..., :4] * img_size\n",
        "pred_shapes = np.argmax(pred_y[..., 4:4+num_shapes], axis=-1).astype(int)  # take max from probabilities\n",
        "# print pred_y[..., 4+num_shapes:4+num_shapes+num_colors].shape\n",
        "# print np.argmax(pred_y[..., 5:8], axis=-1).shape\n",
        "pred_colors = np.argmax(pred_y[..., 4+num_shapes:4+num_shapes+num_colors], axis=-1).astype(int)\n",
        "pred_bboxes.shape, pred_shapes.shape, pred_colors.shape"
      ],
      "execution_count": null,
      "outputs": [
        {
          "output_type": "execute_result",
          "data": {
            "text/plain": [
              "((200, 2, 4), (200, 2), (200, 2))"
            ]
          },
          "metadata": {
            "tags": []
          },
          "execution_count": 18
        }
      ]
    },
    {
      "cell_type": "code",
      "metadata": {
        "id": "p0NOPbY8AKBS",
        "colab": {
          "base_uri": "https://localhost:8080/",
          "height": 479
        },
        "outputId": "39250029-6816-45f6-d05d-3e2f7f9d174d"
      },
      "source": [
        "plt.figure(figsize=(16, 8))\n",
        "for i_subplot in range(1, 9):\n",
        "    plt.subplot(2, 4, i_subplot)\n",
        "    i = np.random.randint(len(test_X))\n",
        "    plt.imshow(test_imgs[i], interpolation='none', origin='lower', extent=[0, img_size, 0, img_size])\n",
        "    for bbox, shape, color in zip(pred_bboxes[i], pred_shapes[i], pred_colors[i]):\n",
        "        plt.gca().add_patch(matplotlib.patches.Rectangle((bbox[0], bbox[1]), bbox[2], bbox[3], ec='k', fc='none'))\n",
        "        plt.annotate(shape_labels[shape], (bbox[0], bbox[1] + bbox[3] + 0.7), color=color_labels[color], clip_on=False, bbox={'fc': 'w', 'ec': 'none', 'pad': 1, 'alpha': 0.6})"
      ],
      "execution_count": null,
      "outputs": [
        {
          "output_type": "display_data",
          "data": {
            "image/png": "[encoded data removed]",
            "text/plain": [
              "<Figure size 1152x576 with 8 Axes>"
            ]
          },
          "metadata": {
            "tags": [],
            "needs_background": "light"
          }
        }
      ]
    }
  ]
}