{
 "cells": [
  {
   "cell_type": "markdown",
   "metadata": {
    "slideshow": {
     "slide_type": "slide"
    }
   },
   "source": [
    "# Python and MySQL"
   ]
  },
  {
   "cell_type": "code",
   "execution_count": 8,
   "metadata": {},
   "outputs": [],
   "source": [
    "# First step is always import the necessary packages\n",
    "import pymysql"
   ]
  },
  {
   "cell_type": "markdown",
   "metadata": {},
   "source": [
    "## Connections and Cursors\n",
    "With SQL, just as with Mongo, we need to first create a **connection** to our database. Through this connection we can retreive database meta data, but can also instantiate a **curosr**.\n",
    " - Just as with Mongo, the **cursor** is used to interact with the database and will store the results of any executed queries"
   ]
  },
  {
   "cell_type": "code",
   "execution_count": 34,
   "metadata": {
    "scrolled": true,
    "slideshow": {
     "slide_type": "subslide"
    }
   },
   "outputs": [],
   "source": [
    "import pymysql.cursors\n",
    "\n",
    "# Connect to the database\n",
    "connection = pymysql.connect(host='gwumysql-restore.cazdwdlcg6dm.us-east-2.rds.amazonaws.com',\n",
    "                             user='EMSE6992',\n",
    "                             port=3306,\n",
    "                             db='EMSE6992',\n",
    "                             password='MySQLpass')\n",
    "\n",
    "#From our connection we need a cursor, which acts as our interface into the database\n",
    "cur = connection.cursor()"
   ]
  },
  {
   "cell_type": "markdown",
   "metadata": {},
   "source": [
    "SQL **cursor** objects have a basic functional loop:\n",
    " 1. **cursor**.execute(_query_)\n",
    "  - The **cursor** must first execute a _query_ whoes response may be stored within the **cursor**\n",
    " 2. **cursor**._fetch_() or *iterate through the cursor*\n",
    "  - Once executed, the results of a _query_ can be retreived from the **cursor**, if any results exist\n",
    "  \n",
    "*NOTE: This is a different functional loop from __Mongo's__ cursor loop*"
   ]
  },
  {
   "cell_type": "code",
   "execution_count": 3,
   "metadata": {},
   "outputs": [
    {
     "name": "stdout",
     "output_type": "stream",
     "text": [
      "The number of rows returned: 5\n"
     ]
    }
   ],
   "source": [
    "#From a cursor we can execute SQL directly\n",
    "res = cur.execute(\"Select * From users LIMIT 5\")\n",
    "print(f\"The number of rows returned: {res}\") #the output from execute() will be the number of records returned"
   ]
  },
  {
   "cell_type": "markdown",
   "metadata": {},
   "source": [
    "Now we can *fetch* the results (*__fetchall()__ will return all records*):"
   ]
  },
  {
   "cell_type": "code",
   "execution_count": 4,
   "metadata": {},
   "outputs": [
    {
     "name": "stdout",
     "output_type": "stream",
     "text": [
      "(datetime.date(2018, 5, 25), \"creator of knowyourmeme's meme of the day 15th november 2019 - @AetherionArt did the avatar & @macagilart did the header\", 18739, 1188, '1000026776872144897', 21, None, 'fooly', 'mashcore4mums', 20970, None, None)\n"
     ]
    }
   ],
   "source": [
    "users = cur.fetchall()\n",
    "for user in users:\n",
    "    print(user) # We can now take a look at what was returned\n",
    "    break"
   ]
  },
  {
   "cell_type": "code",
   "execution_count": 5,
   "metadata": {},
   "outputs": [
    {
     "name": "stdout",
     "output_type": "stream",
     "text": [
      "(datetime.date(2018, 5, 25), \"creator of knowyourmeme's meme of the day 15th november 2019 - @AetherionArt did the avatar & @macagilart did the header\", 18739, 1188, '1000026776872144897', 21, None, 'fooly', 'mashcore4mums', 20970, None, None)\n"
     ]
    }
   ],
   "source": [
    "res = cur.execute(\"Select * From users LIMIT 5\")\n",
    "for user in users:\n",
    "    print(user)\n",
    "    break"
   ]
  },
  {
   "cell_type": "markdown",
   "metadata": {},
   "source": [
    "Each **execute()** refreshes the information stored in the **cursor**, meaning we can continously query the database.\n",
    "\n",
    "Here we see that by calling **fetchone()** rather than **fetchall()** we won't get a list, but rather directly access the top _tuple_"
   ]
  },
  {
   "cell_type": "code",
   "execution_count": 6,
   "metadata": {},
   "outputs": [
    {
     "data": {
      "text/plain": [
       "(datetime.date(2018, 5, 25),\n",
       " \"creator of knowyourmeme's meme of the day 15th november 2019 - @AetherionArt did the avatar & @macagilart did the header\",\n",
       " 18739,\n",
       " 1188,\n",
       " '1000026776872144897',\n",
       " 21,\n",
       " None,\n",
       " 'fooly',\n",
       " 'mashcore4mums',\n",
       " 20970,\n",
       " None,\n",
       " None)"
      ]
     },
     "execution_count": 6,
     "metadata": {},
     "output_type": "execute_result"
    }
   ],
   "source": [
    "cur.execute(\"Select * From users\")\n",
    "\n",
    "data = cur.fetchone()\n",
    "data"
   ]
  },
  {
   "cell_type": "code",
   "execution_count": 7,
   "metadata": {},
   "outputs": [
    {
     "data": {
      "text/plain": [
       "86202"
      ]
     },
     "execution_count": 7,
     "metadata": {},
     "output_type": "execute_result"
    }
   ],
   "source": [
    "cur.execute(\"Select * From users\")\n",
    "\n",
    "data = cur.fetchall()\n",
    "len(data)"
   ]
  },
  {
   "cell_type": "markdown",
   "metadata": {},
   "source": [
    "## Dict Cursor\n",
    "We can define types of cursors when connecting to a database, which alters the format of the returned data\n",
    " - Done by adding a _cursorclass_ param to our connection"
   ]
  },
  {
   "cell_type": "code",
   "execution_count": 9,
   "metadata": {},
   "outputs": [],
   "source": [
    "connection = pymysql.connect(host='gwumysql-restore.cazdwdlcg6dm.us-east-2.rds.amazonaws.com',\n",
    "                             user='EMSE6992',\n",
    "                             port=3306,\n",
    "                             db='EMSE6992',\n",
    "                             password='MySQLpass',\n",
    "                             cursorclass=pymysql.cursors.DictCursor) # This is the significant line!\n",
    "\n",
    "cur = connection.cursor()"
   ]
  },
  {
   "cell_type": "code",
   "execution_count": 10,
   "metadata": {},
   "outputs": [
    {
     "data": {
      "text/plain": [
       "{'created_date': datetime.date(2018, 5, 25),\n",
       " 'description': \"creator of knowyourmeme's meme of the day 15th november 2019 - @AetherionArt did the avatar & @macagilart did the header\",\n",
       " 'favorites_count': 18739,\n",
       " 'friends_count': 1188,\n",
       " 'user_id': '1000026776872144897',\n",
       " 'listed_count': 21,\n",
       " 'location': None,\n",
       " 'name': 'fooly',\n",
       " 'screen_name': 'mashcore4mums',\n",
       " 'statuses_count': 20970,\n",
       " 'url': None,\n",
       " 'verified': None}"
      ]
     },
     "execution_count": 10,
     "metadata": {},
     "output_type": "execute_result"
    }
   ],
   "source": [
    "cur.execute(\"SELECT * FROM users LIMIT 1;\")\n",
    "cur.fetchone()"
   ]
  },
  {
   "cell_type": "markdown",
   "metadata": {},
   "source": [
    "# In Class Work\n",
    "Create a connection to the **EMSE6992 database** and run a query to determine how many users have tweeted more than 1,000 times, using the **statuses table**:\n",
    "\n",
    "*Expected Result: 8 users*"
   ]
  },
  {
   "cell_type": "code",
   "execution_count": null,
   "metadata": {},
   "outputs": [],
   "source": [
    "# Space for work\n"
   ]
  },
  {
   "cell_type": "markdown",
   "metadata": {},
   "source": [
    "How Could we implement this in Mongo?\n",
    "\n",
    "----"
   ]
  },
  {
   "cell_type": "markdown",
   "metadata": {},
   "source": [
    "## SQL - Dataframe Compatibility\n",
    "Given that both SQL and Dataframes both work with tabular data, it makes these two technologies easily integratable."
   ]
  },
  {
   "cell_type": "code",
   "execution_count": 11,
   "metadata": {},
   "outputs": [],
   "source": [
    "import pandas as pd\n",
    "\n",
    "res = cur.execute(\"Select * From users LIMIT 100\")\n",
    "users = cur.fetchall()"
   ]
  },
  {
   "cell_type": "markdown",
   "metadata": {},
   "source": [
    "Since the cursor returns a list of dictionaries, we are setup to dump the data into a pandas DataFrame"
   ]
  },
  {
   "cell_type": "code",
   "execution_count": 12,
   "metadata": {},
   "outputs": [
    {
     "data": {
      "text/html": [
       "<div>\n",
       "<style scoped>\n",
       "    .dataframe tbody tr th:only-of-type {\n",
       "        vertical-align: middle;\n",
       "    }\n",
       "\n",
       "    .dataframe tbody tr th {\n",
       "        vertical-align: top;\n",
       "    }\n",
       "\n",
       "    .dataframe thead th {\n",
       "        text-align: right;\n",
       "    }\n",
       "</style>\n",
       "<table border=\"1\" class=\"dataframe\">\n",
       "  <thead>\n",
       "    <tr style=\"text-align: right;\">\n",
       "      <th></th>\n",
       "      <th>created_date</th>\n",
       "      <th>description</th>\n",
       "      <th>favorites_count</th>\n",
       "      <th>friends_count</th>\n",
       "      <th>user_id</th>\n",
       "      <th>listed_count</th>\n",
       "      <th>location</th>\n",
       "      <th>name</th>\n",
       "      <th>screen_name</th>\n",
       "      <th>statuses_count</th>\n",
       "      <th>url</th>\n",
       "      <th>verified</th>\n",
       "    </tr>\n",
       "  </thead>\n",
       "  <tbody>\n",
       "    <tr>\n",
       "      <th>0</th>\n",
       "      <td>2018-05-25</td>\n",
       "      <td>creator of knowyourmeme's meme of the day 15th...</td>\n",
       "      <td>18739.0</td>\n",
       "      <td>1188.0</td>\n",
       "      <td>1000026776872144897</td>\n",
       "      <td>21.0</td>\n",
       "      <td>None</td>\n",
       "      <td>fooly</td>\n",
       "      <td>mashcore4mums</td>\n",
       "      <td>20970</td>\n",
       "      <td>None</td>\n",
       "      <td>NaN</td>\n",
       "    </tr>\n",
       "    <tr>\n",
       "      <th>1</th>\n",
       "      <td>2018-05-25</td>\n",
       "      <td>-_-</td>\n",
       "      <td>5281.0</td>\n",
       "      <td>120.0</td>\n",
       "      <td>1000073751457824768</td>\n",
       "      <td>NaN</td>\n",
       "      <td>uncomfortable</td>\n",
       "      <td>Cas</td>\n",
       "      <td>Amai_Neo</td>\n",
       "      <td>1260</td>\n",
       "      <td>None</td>\n",
       "      <td>NaN</td>\n",
       "    </tr>\n",
       "    <tr>\n",
       "      <th>2</th>\n",
       "      <td>2018-05-25</td>\n",
       "      <td>Lifelong learner. \\n\\nD2C brands + iOS &amp; Shopi...</td>\n",
       "      <td>4240.0</td>\n",
       "      <td>385.0</td>\n",
       "      <td>1000084374468128768</td>\n",
       "      <td>10.0</td>\n",
       "      <td>Earth</td>\n",
       "      <td>Max Grev</td>\n",
       "      <td>max_grev</td>\n",
       "      <td>855</td>\n",
       "      <td>https://t.co/J7KuZFVRRI</td>\n",
       "      <td>NaN</td>\n",
       "    </tr>\n",
       "    <tr>\n",
       "      <th>3</th>\n",
       "      <td>2009-12-28</td>\n",
       "      <td>Be an encourager. The World has plenty of crit...</td>\n",
       "      <td>4566.0</td>\n",
       "      <td>477.0</td>\n",
       "      <td>100009243</td>\n",
       "      <td>1.0</td>\n",
       "      <td>Leicester, England</td>\n",
       "      <td>Aakash Jabbar</td>\n",
       "      <td>mangianees</td>\n",
       "      <td>3816</td>\n",
       "      <td>https://t.co/Afy69InVdg</td>\n",
       "      <td>NaN</td>\n",
       "    </tr>\n",
       "    <tr>\n",
       "      <th>4</th>\n",
       "      <td>2009-12-28</td>\n",
       "      <td>Culture Writer | I Get It In Ohio - Just using...</td>\n",
       "      <td>106836.0</td>\n",
       "      <td>2069.0</td>\n",
       "      <td>100009746</td>\n",
       "      <td>26.0</td>\n",
       "      <td>Columbus, OH</td>\n",
       "      <td>Stimmy Lovato</td>\n",
       "      <td>MikeishaDache</td>\n",
       "      <td>178768</td>\n",
       "      <td>https://t.co/IILZF0YLqw</td>\n",
       "      <td>NaN</td>\n",
       "    </tr>\n",
       "  </tbody>\n",
       "</table>\n",
       "</div>"
      ],
      "text/plain": [
       "  created_date                                        description  \\\n",
       "0   2018-05-25  creator of knowyourmeme's meme of the day 15th...   \n",
       "1   2018-05-25                                                -_-   \n",
       "2   2018-05-25  Lifelong learner. \\n\\nD2C brands + iOS & Shopi...   \n",
       "3   2009-12-28  Be an encourager. The World has plenty of crit...   \n",
       "4   2009-12-28  Culture Writer | I Get It In Ohio - Just using...   \n",
       "\n",
       "   favorites_count  friends_count              user_id  listed_count  \\\n",
       "0          18739.0         1188.0  1000026776872144897          21.0   \n",
       "1           5281.0          120.0  1000073751457824768           NaN   \n",
       "2           4240.0          385.0  1000084374468128768          10.0   \n",
       "3           4566.0          477.0            100009243           1.0   \n",
       "4         106836.0         2069.0            100009746          26.0   \n",
       "\n",
       "             location           name    screen_name  statuses_count  \\\n",
       "0                None          fooly  mashcore4mums           20970   \n",
       "1       uncomfortable            Cas       Amai_Neo            1260   \n",
       "2               Earth       Max Grev       max_grev             855   \n",
       "3  Leicester, England  Aakash Jabbar     mangianees            3816   \n",
       "4        Columbus, OH  Stimmy Lovato  MikeishaDache          178768   \n",
       "\n",
       "                       url  verified  \n",
       "0                     None       NaN  \n",
       "1                     None       NaN  \n",
       "2  https://t.co/J7KuZFVRRI       NaN  \n",
       "3  https://t.co/Afy69InVdg       NaN  \n",
       "4  https://t.co/IILZF0YLqw       NaN  "
      ]
     },
     "execution_count": 12,
     "metadata": {},
     "output_type": "execute_result"
    }
   ],
   "source": [
    "df = pd.DataFrame.from_dict(users)\n",
    "df[:5]"
   ]
  },
  {
   "cell_type": "markdown",
   "metadata": {},
   "source": [
    "This obviously allows us to work with the data with a more robust API"
   ]
  },
  {
   "cell_type": "code",
   "execution_count": 13,
   "metadata": {},
   "outputs": [
    {
     "name": "stdout",
     "output_type": "stream",
     "text": [
      "              favorites_count  friends_count  listed_count  statuses_count\n",
      "created_date                                                              \n",
      "2007-11-06         947.000000     420.000000  21112.000000   363488.000000\n",
      "2009-12-28       30468.818182     607.545455    243.222222    41672.636364\n",
      "2009-12-29        3275.250000    1223.750000    513.750000    72326.000000\n",
      "2012-12-09       22373.500000     723.000000           NaN     6708.000000\n",
      "2012-12-10       18302.000000     744.666667     20.714286    12219.666667\n",
      "2018-05-25       10281.000000     461.250000     11.666667     6263.250000\n",
      "2018-05-26       33416.266667     946.400000     29.666667    10082.000000\n",
      "2018-05-27       20586.333333     230.555556      7.200000    18210.333333\n",
      "2018-05-28       20539.866667    1392.200000     33.545455     9590.800000\n",
      "2018-05-29       33173.933333     577.200000     28.545455    14812.666667\n",
      "2018-05-30       20223.615385     541.538462     44.777778    12599.230769\n",
      "2018-05-31       36709.000000    1259.000000     45.000000    30776.000000\n"
     ]
    }
   ],
   "source": [
    "df.drop('verified', axis=1, inplace=True)\n",
    "print(df.groupby(['created_date']).mean())"
   ]
  },
  {
   "cell_type": "markdown",
   "metadata": {},
   "source": [
    "### We can also read data directly into pandas\n",
    "\n",
    "By passing a connection object into pandas' **read_sql(_query_, _conn_)** we can create DataFrame's directly from a query."
   ]
  },
  {
   "cell_type": "code",
   "execution_count": 14,
   "metadata": {},
   "outputs": [
    {
     "data": {
      "text/html": [
       "<div>\n",
       "<style scoped>\n",
       "    .dataframe tbody tr th:only-of-type {\n",
       "        vertical-align: middle;\n",
       "    }\n",
       "\n",
       "    .dataframe tbody tr th {\n",
       "        vertical-align: top;\n",
       "    }\n",
       "\n",
       "    .dataframe thead th {\n",
       "        text-align: right;\n",
       "    }\n",
       "</style>\n",
       "<table border=\"1\" class=\"dataframe\">\n",
       "  <thead>\n",
       "    <tr style=\"text-align: right;\">\n",
       "      <th></th>\n",
       "      <th>screen_name</th>\n",
       "      <th>user_id</th>\n",
       "      <th>favorites_count</th>\n",
       "    </tr>\n",
       "  </thead>\n",
       "  <tbody>\n",
       "    <tr>\n",
       "      <th>0</th>\n",
       "      <td>mashcore4mums</td>\n",
       "      <td>1000026776872144897</td>\n",
       "      <td>18739</td>\n",
       "    </tr>\n",
       "    <tr>\n",
       "      <th>1</th>\n",
       "      <td>mashcore4mums</td>\n",
       "      <td>1000026776872144897</td>\n",
       "      <td>18739</td>\n",
       "    </tr>\n",
       "    <tr>\n",
       "      <th>2</th>\n",
       "      <td>mashcore4mums</td>\n",
       "      <td>1000026776872144897</td>\n",
       "      <td>18739</td>\n",
       "    </tr>\n",
       "    <tr>\n",
       "      <th>3</th>\n",
       "      <td>mashcore4mums</td>\n",
       "      <td>1000026776872144897</td>\n",
       "      <td>18739</td>\n",
       "    </tr>\n",
       "    <tr>\n",
       "      <th>4</th>\n",
       "      <td>Amai_Neo</td>\n",
       "      <td>1000073751457824768</td>\n",
       "      <td>5281</td>\n",
       "    </tr>\n",
       "    <tr>\n",
       "      <th>5</th>\n",
       "      <td>Amai_Neo</td>\n",
       "      <td>1000073751457824768</td>\n",
       "      <td>5281</td>\n",
       "    </tr>\n",
       "    <tr>\n",
       "      <th>6</th>\n",
       "      <td>max_grev</td>\n",
       "      <td>1000084374468128768</td>\n",
       "      <td>4240</td>\n",
       "    </tr>\n",
       "    <tr>\n",
       "      <th>7</th>\n",
       "      <td>mangianees</td>\n",
       "      <td>100009243</td>\n",
       "      <td>4566</td>\n",
       "    </tr>\n",
       "    <tr>\n",
       "      <th>8</th>\n",
       "      <td>MikeishaDache</td>\n",
       "      <td>100009746</td>\n",
       "      <td>106836</td>\n",
       "    </tr>\n",
       "    <tr>\n",
       "      <th>9</th>\n",
       "      <td>MikeishaDache</td>\n",
       "      <td>100009746</td>\n",
       "      <td>106836</td>\n",
       "    </tr>\n",
       "  </tbody>\n",
       "</table>\n",
       "</div>"
      ],
      "text/plain": [
       "     screen_name              user_id  favorites_count\n",
       "0  mashcore4mums  1000026776872144897            18739\n",
       "1  mashcore4mums  1000026776872144897            18739\n",
       "2  mashcore4mums  1000026776872144897            18739\n",
       "3  mashcore4mums  1000026776872144897            18739\n",
       "4       Amai_Neo  1000073751457824768             5281\n",
       "5       Amai_Neo  1000073751457824768             5281\n",
       "6       max_grev  1000084374468128768             4240\n",
       "7     mangianees            100009243             4566\n",
       "8  MikeishaDache            100009746           106836\n",
       "9  MikeishaDache            100009746           106836"
      ]
     },
     "execution_count": 14,
     "metadata": {},
     "output_type": "execute_result"
    }
   ],
   "source": [
    "conn = pymysql.connect(host='gwumysql-restore.cazdwdlcg6dm.us-east-2.rds.amazonaws.com',\n",
    "                             user='EMSE6992',\n",
    "                             port=3306,\n",
    "                             db='EMSE6992',\n",
    "                             password='MySQLpass')\n",
    "\n",
    "df = pd.read_sql(\"SELECT users.screen_name, users.user_id, users.favorites_count FROM users JOIN statuses On users.user_id = statuses.user_id limit 10\", conn)\n",
    "df"
   ]
  },
  {
   "cell_type": "markdown",
   "metadata": {},
   "source": [
    "# In Class Work\n",
    "Using a SQL query, populate a dataframe with the total number of statuses made per location. Using the dataframe, create a histogram and bar plot. Limit your results to the top 25 results.\n",
    "\n",
    "*Note: location is a user field*\n",
    "\n",
    "*Hint: Dataframes have a `Dataframe.plot.bar()` and a `Dataframe.plot.hist()` method built into them.*"
   ]
  },
  {
   "cell_type": "code",
   "execution_count": 29,
   "metadata": {},
   "outputs": [
    {
     "data": {
      "text/plain": [
       "<AxesSubplot:xlabel='location'>"
      ]
     },
     "execution_count": 29,
     "metadata": {},
     "output_type": "execute_result"
    },
    {
     "data": {
      "image/png": "[encoded data removed]",
      "text/plain": [
       "<Figure size 432x288 with 1 Axes>"
      ]
     },
     "metadata": {
      "needs_background": "light"
     },
     "output_type": "display_data"
    }
   ],
   "source": [
    "# Space for work\n",
    "import matplotlib.pyplot as plt\n",
    "\n",
    "df_class = pd.read_sql(\"\"\"\n",
    "SELECT location, count(*) as num FROM statuses \n",
    "    INNER JOIN users\n",
    "    On users.user_id = statuses.user_id \n",
    "GROUP BY location \n",
    "ORDER BY num DESC\n",
    "\"\"\", conn)\n",
    "\n",
    "df_class['location'] = df_class['location'].astype('str')\n",
    "df_class[1:25].plot.bar(x='location', y='num')"
   ]
  },
  {
   "cell_type": "markdown",
   "metadata": {},
   "source": [
    "## Table Alterations\n",
    "Whenever executing a query that will alter the information in a database (creating/removing/altering tables/records) we need to commit those changes"
   ]
  },
  {
   "cell_type": "code",
   "execution_count": null,
   "metadata": {},
   "outputs": [],
   "source": [
    "query = \"INSERT INTO statuses (list of cols) VALUES (place for values)\"\n",
    "cur.execute(query)\n",
    "\n",
    "# NOTE: We commit using the connection!\n",
    "conn.commit()"
   ]
  },
  {
   "cell_type": "markdown",
   "metadata": {},
   "source": [
    "## IN Class Work\n",
    "Insert yourself as a **movie** into the **movies** table\n",
    "\n",
    "*Note: You must include a title and year**"
   ]
  },
  {
   "cell_type": "code",
   "execution_count": null,
   "metadata": {},
   "outputs": [],
   "source": [
    "# Space for work\n",
    "cur = "
   ]
  },
  {
   "cell_type": "markdown",
   "metadata": {},
   "source": [
    "## Extra - Input Sanitzation\n",
    "This is more a consideration for developing applications, but an important principal of working with databases is sanitization\n",
    "\n",
    "<img src='https://imgs.xkcd.com/comics/exploits_of_a_mom.png'>"
   ]
  },
  {
   "cell_type": "code",
   "execution_count": null,
   "metadata": {},
   "outputs": [],
   "source": [
    "title = \"Robert'); Drop Table movie_data;\"\n",
    "{cursor_object}.execute(f\"INSERT INTO movie_data (title, year) VALUES ({name}, '2020')\")"
   ]
  }
 ],
 "metadata": {
  "kernelspec": {
   "display_name": "Python 3",
   "language": "python",
   "name": "python3"
  },
  "language_info": {
   "codemirror_mode": {
    "name": "ipython",
    "version": 3
   },
   "file_extension": ".py",
   "mimetype": "text/x-python",
   "name": "python",
   "nbconvert_exporter": "python",
   "pygments_lexer": "ipython3",
   "version": "3.8.5"
  }
 },
 "nbformat": 4,
 "nbformat_minor": 4
}
