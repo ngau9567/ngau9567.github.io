{
 "cells": [
  {
   "cell_type": "markdown",
   "metadata": {},
   "source": [
    "# Assignment 01 - Mongo\n",
    "*DBMS for Analytics*\n",
    "\n",
    "**Due: Tuesday, February 10th, at midnight**"
   ]
  },
  {
   "cell_type": "markdown",
   "metadata": {},
   "source": [
    "*Notes:*\n",
    " - All code should follow the PEP 8 Style Guide for Python\n",
    " - Assignment should be submitted using jupyter notebooks\n",
    "  - File name should follow “{Your Name} – Assignment_XX_Submission”\n",
    "  - Each Task should be contained in its own cell\n",
    "  - Each Task should be properly commented\n",
    "  - Each Task should print out the answer to the Task if appropriate\n",
    "  - Sample submission can be found on blackboard\n",
    "  - **Not following these standards may result in lost points**"
   ]
  },
  {
   "cell_type": "markdown",
   "metadata": {},
   "source": [
    "---\n",
    "## Assignment Description\n",
    "For this assignment we are going to use our Mongo database of Elon Musk tweets to identify whether Elon is more/less active on twitter during the weeks leading up to a major event.\n",
    "\n",
    "To accomplish this, we will need to implement the following:\n",
    " 1. Create a method to pull tweets that occured within a set timerange from a given date\n",
    " 2. Create a method to randomly pull ranges of tweets (when blacking out certain ranges)\n",
    " 3. Pull data from each respective approach to create event_tweets and non_event_tweet datasets\n",
    " 4. Use a variety of analysis tools to determine the relationship between the two datasets"
   ]
  },
  {
   "cell_type": "code",
   "execution_count": 1,
   "metadata": {},
   "outputs": [],
   "source": [
    "import numpy as np\n",
    "from datetime import datetime, timedelta\n",
    "\n",
    "from pymongo import MongoClient\n",
    "\n",
    "client = MongoClient(host='18.219.151.47', #host is the hostname for the database\n",
    "                     port=27017, #port is the port number that mongo is running on\n",
    "                     username='student', #username for the db\n",
    "                     password='emse6992pass', #password for the db\n",
    "                     authSource='emse6992') #Since our user only exists for the emse6992 db, we need to specify this\n",
    "\n",
    "db = client.emse6992\n",
    "stats_coll = db.twitter_statuses"
   ]
  },
  {
   "cell_type": "markdown",
   "metadata": {},
   "source": [
    "## Task 1\n",
    "Write a function, ***get_tweets_daterange(screen_name, date, days_before, days_after)***, that takes a user's **screen_name** and will pull all tweets that occur *x* **days_before** and *y* **days_after** the provided **date** from the ***twitter_statuses*** collection for the given user.\n",
    "\n",
    "Example:\n",
    "`get_tweets_daterange('elonmusk', \"2020-10-28\", 14, 14)` would get all tweets made by *elonmusk* between 2020-10-14 - 2020-11-11 from the ***twitter_statuses*** collection, which should return 33 tweets."
   ]
  },
  {
   "cell_type": "code",
   "execution_count": 2,
   "metadata": {},
   "outputs": [],
   "source": [
    "def get_tweets_daterange(screen_name, date, days_before, days_after):\n",
    "    \"\"\"This function returns a list of tweets that fall inbetween date-days_before\n",
    "    and date + days_after\n",
    "    \n",
    "    Args:\n",
    "        screen_name (str): screen name of twitter user\n",
    "        date (str): Date in the 'YYYY-MM-DD' format\n",
    "        days_before (int): number of days prior to `date` to consider\n",
    "        days_after (int): number of days after `date` to consider\n",
    "        \n",
    "    Returns:\n",
    "        list: A list of all the tweets that meet the conditions\n",
    "    \"\"\"\n",
    "    \n",
    "    # Your code\n",
    "    date_input = datetime.strptime(date, '%Y-%m-%d')\n",
    "    date_start = date_input - timedelta(days=days_before)\n",
    "    date_end = date_input + timedelta(days=days_after)\n",
    "\n",
    "    doc_date = stats_coll.find({\n",
    "        \"$and\": [\n",
    "            {'user.screen_name': screen_name},\n",
    "            {\"created_at\": {\"$gte\": date_start}},\n",
    "            {\"created_at\": {\"$lte\": date_end}}\n",
    "        ]\n",
    "    })\n",
    "    \n",
    "    return doc_date"
   ]
  },
  {
   "cell_type": "code",
   "execution_count": 3,
   "metadata": {},
   "outputs": [
    {
     "name": "stderr",
     "output_type": "stream",
     "text": [
      "<ipython-input-3-9ddbe4438f08>:2: DeprecationWarning: count is deprecated. Use Collection.count_documents instead.\n",
      "  fi.count()\n"
     ]
    },
    {
     "data": {
      "text/plain": [
       "33"
      ]
     },
     "execution_count": 3,
     "metadata": {},
     "output_type": "execute_result"
    }
   ],
   "source": [
    "fi = get_tweets_daterange('elonmusk', \"2020-10-28\", 14, 14)\n",
    "fi.count()"
   ]
  },
  {
   "cell_type": "markdown",
   "metadata": {},
   "source": [
    "## Task 2\n",
    "Write a function, ***get_random_date(min_date, max_date)***, that will generate a random date that falls within **min_date** and **max_date**.\n",
    "\n",
    "Ensure the output of this function conforms to the _\"YYYY-MM-DD\"_ format used for the **get_tweets_daterange()**."
   ]
  },
  {
   "cell_type": "code",
   "execution_count": 4,
   "metadata": {},
   "outputs": [],
   "source": [
    "import random"
   ]
  },
  {
   "cell_type": "code",
   "execution_count": 5,
   "metadata": {},
   "outputs": [],
   "source": [
    "# Space work\n",
    "random.seed(10) # To provide consistent randomness\n",
    "\n",
    "def get_random_date(min_date, max_date):\n",
    "    \"\"\"This function returns a random date inbetween min_date and max_date\n",
    "    \n",
    "    Args:\n",
    "        min_date (str): Earliset date to consider - in the 'YYYY-MM-DD' format\n",
    "        max_date (str): Latest date to consider - in the 'YYYY-MM-DD' format\n",
    "        \n",
    "    Returns:\n",
    "        str: Random date - in the 'YYYY-MM-DD' format\n",
    "    \"\"\"\n",
    "    \n",
    "    # Your code\n",
    "    start_date = datetime.strptime(min_date, '%Y-%m-%d')\n",
    "    end_date = datetime.strptime(max_date, '%Y-%m-%d')\n",
    "\n",
    "    num_dates = (end_date - start_date).days\n",
    "    \n",
    "    random_number = random.randrange(num_dates)\n",
    "    random_date = start_date + timedelta(days=random_number)\n",
    "    \n",
    "    date_str = random_date.strftime(\"%Y-%m-%d\")\n",
    "    \n",
    "    return date_str"
   ]
  },
  {
   "cell_type": "code",
   "execution_count": 6,
   "metadata": {},
   "outputs": [
    {
     "data": {
      "text/plain": [
       "'2020-12-03'"
      ]
     },
     "execution_count": 6,
     "metadata": {},
     "output_type": "execute_result"
    }
   ],
   "source": [
    "b = get_random_date(\"2020-10-28\", \"2020-12-28\")\n",
    "b"
   ]
  },
  {
   "cell_type": "markdown",
   "metadata": {},
   "source": [
    "## Task 3\n",
    "Using the two functions from task 1 & 2, create two datasets using `days_before = 14`, `dayse_after = 7` and `screen_name = 'elonmusk'`.\n",
    " - `major_events_dataset` - a collection of **get_tweets_daterange()** for the provided **major_events**\n",
    " - `random_events_dataset` - a collection of **get_tweets_daterange()** for at least 10 randomly generated dats\n",
    "   - Use `min_date = \"2020-01-01\"` and `max_date = \"2021-01-01\"` for all calls to **get_random_date()**\n",
    "   \n",
    "Each dataset should be a python list where each element in the list is a result from **get_tweets_daterange()**\n",
    "\n",
    "Example:\n",
    "```python\n",
    "major_events_dataset = [\n",
    "    get_tweets_daterange(...,\"2020-10-28\",...),\n",
    "    get_tweets_daterange(...,\"2020-05-30\",...),\n",
    "    ....\n",
    "]\n",
    "```"
   ]
  },
  {
   "cell_type": "code",
   "execution_count": 7,
   "metadata": {},
   "outputs": [],
   "source": [
    "major_events = [\"2020-10-28\", \"2020-05-30\", \"2021-01-07\"]\n",
    "major_events_dataset=[]\n",
    "random_events_dataset=[]\n",
    "\n",
    "for i in major_events:\n",
    "    major_events_dataset += get_tweets_daterange('elonmusk', i, 14, 7)\n",
    "\n",
    "list_date = []\n",
    "for i in range(10):\n",
    "    list_date.append(get_random_date(\"2020-01-01\", \"2021-01-01\"))\n",
    "\n",
    "for i in list_date:\n",
    "    random_events_dataset += get_tweets_daterange('elonmusk', i, 14, 7)"
   ]
  },
  {
   "cell_type": "code",
   "execution_count": 8,
   "metadata": {},
   "outputs": [
    {
     "data": {
      "text/plain": [
       "['2020-10-22',\n",
       " '2020-01-08',\n",
       " '2020-04-15',\n",
       " '2020-08-24',\n",
       " '2020-09-08',\n",
       " '2020-05-22',\n",
       " '2020-11-30',\n",
       " '2020-03-23',\n",
       " '2020-01-18',\n",
       " '2020-09-23']"
      ]
     },
     "execution_count": 8,
     "metadata": {},
     "output_type": "execute_result"
    }
   ],
   "source": [
    "list_date"
   ]
  },
  {
   "cell_type": "markdown",
   "metadata": {},
   "source": [
    "## Task 4\n",
    "From each dataset, create a histogram of the average tweets/week for each daterange.\n",
    "\n",
    "This means the histogram for the major_events_dataset would only comprise of 3 values:\n",
    " - The avg. tweets/week for 2020-10-28, 2020-05-30, and 20201-01-07.\n",
    " \n",
    "For the major events you should get `[5.666666666666667, 14.333333333333334, 7.666666666666667]`\n",
    "\n",
    "_Note: For this you are welcome to use matplotlib, seaborn, or any other python plotting package._"
   ]
  },
  {
   "cell_type": "code",
   "execution_count": 9,
   "metadata": {},
   "outputs": [
    {
     "name": "stderr",
     "output_type": "stream",
     "text": [
      "<ipython-input-9-af041dd35f86>:4: DeprecationWarning: count is deprecated. Use Collection.count_documents instead.\n",
      "  avg_tweet_final += [avg_tweet_num.count()/3]\n"
     ]
    },
    {
     "data": {
      "text/plain": [
       "[5.666666666666667, 14.333333333333334, 7.666666666666667]"
      ]
     },
     "execution_count": 9,
     "metadata": {},
     "output_type": "execute_result"
    }
   ],
   "source": [
    "avg_tweet_final = []\n",
    "for i in major_events:\n",
    "    avg_tweet_num = get_tweets_daterange('elonmusk', i, 14, 7)\n",
    "    avg_tweet_final += [avg_tweet_num.count()/3]\n",
    "\n",
    "avg_tweet_final"
   ]
  },
  {
   "cell_type": "code",
   "execution_count": 10,
   "metadata": {},
   "outputs": [
    {
     "name": "stderr",
     "output_type": "stream",
     "text": [
      "<ipython-input-10-7e82e139db28>:4: DeprecationWarning: count is deprecated. Use Collection.count_documents instead.\n",
      "  avg_tweet_final_2 += [avg_tweet_num_2.count()/3]\n"
     ]
    },
    {
     "data": {
      "text/plain": [
       "[6.0,\n",
       " 0.0,\n",
       " 9.333333333333334,\n",
       " 13.666666666666666,\n",
       " 11.333333333333334,\n",
       " 16.666666666666668,\n",
       " 9.333333333333334,\n",
       " 11.0,\n",
       " 0.0,\n",
       " 10.333333333333334]"
      ]
     },
     "execution_count": 10,
     "metadata": {},
     "output_type": "execute_result"
    }
   ],
   "source": [
    "avg_tweet_final_2 = []\n",
    "for i in list_date:\n",
    "    avg_tweet_num_2 = get_tweets_daterange('elonmusk', i, 14, 7)\n",
    "    avg_tweet_final_2 += [avg_tweet_num_2.count()/3]\n",
    "\n",
    "avg_tweet_final_2"
   ]
  },
  {
   "cell_type": "code",
   "execution_count": 11,
   "metadata": {},
   "outputs": [
    {
     "name": "stderr",
     "output_type": "stream",
     "text": [
      "<ipython-input-11-2072104b1784>:8: DeprecationWarning: count is deprecated. Use Collection.count_documents instead.\n",
      "  avg_tweet_final += [avg_tweet_num.count()/3]\n",
      "<ipython-input-11-2072104b1784>:12: DeprecationWarning: count is deprecated. Use Collection.count_documents instead.\n",
      "  avg_tweet_final_2 += [avg_tweet_num_2.count()/3]\n"
     ]
    },
    {
     "data": {
      "text/plain": [
       "<AxesSubplot:>"
      ]
     },
     "execution_count": 11,
     "metadata": {},
     "output_type": "execute_result"
    },
    {
     "data": {
      "image/png": "[encoded data removed]",
      "text/plain": [
       "<Figure size 576x288 with 1 Axes>"
      ]
     },
     "metadata": {
      "needs_background": "light"
     },
     "output_type": "display_data"
    },
    {
     "data": {
      "image/png": "[encoded data removed]",
      "text/plain": [
       "<Figure size 576x288 with 1 Axes>"
      ]
     },
     "metadata": {
      "needs_background": "light"
     },
     "output_type": "display_data"
    }
   ],
   "source": [
    "import matplotlib.pyplot as plt\n",
    "import pandas as pd\n",
    "avg_tweet_final = []\n",
    "avg_tweet_final_2 = []\n",
    "\n",
    "for i in major_events:\n",
    "    avg_tweet_num = get_tweets_daterange('elonmusk', i, 14, 7)\n",
    "    avg_tweet_final += [avg_tweet_num.count()/3]\n",
    "\n",
    "for i in list_date:\n",
    "    avg_tweet_num_2 = get_tweets_daterange('elonmusk', i, 14, 7)\n",
    "    avg_tweet_final_2 += [avg_tweet_num_2.count()/3]\n",
    "\n",
    "data_major = [major_events, avg_tweet_final]\n",
    "column_names_m = data_major.pop(0)\n",
    "df_major_event = pd.DataFrame(data_major, columns=column_names_m)\n",
    "df_lists_major = df_major_event.unstack().apply(pd.Series)\n",
    "df_lists_major.plot.bar(rot=0, cmap=plt.cm.jet, fontsize=8, width=0.7, figsize=(8,4))\n",
    "\n",
    "data_random = [list_date, avg_tweet_final_2]\n",
    "column_names_r = data_random.pop(0)\n",
    "df_random_event = pd.DataFrame(data_random, columns=column_names_r)\n",
    "df_lists_random = df_random_event.unstack().apply(pd.Series)\n",
    "df_lists_random.plot.bar(rot=40, cmap=plt.cm.jet, fontsize=8, width=0.7, figsize=(8,4))"
   ]
  },
  {
   "cell_type": "markdown",
   "metadata": {},
   "source": [
    "# Task 5\n",
    "Repeat the steps for Task 4, but this time plot the data based on average characters/week for each daterange.\n",
    "\n",
    "For the major events you should get `[435.0, 1259.0, 575.6666666666666]`"
   ]
  },
  {
   "cell_type": "code",
   "execution_count": 12,
   "metadata": {},
   "outputs": [],
   "source": [
    "def count_chars(txt):\n",
    "    result = 0\n",
    "    for char in txt:\n",
    "        result += 1\n",
    "    return result"
   ]
  },
  {
   "cell_type": "code",
   "execution_count": 13,
   "metadata": {},
   "outputs": [
    {
     "data": {
      "text/plain": [
       "[435.0, 1259.0, 575.6666666666666]"
      ]
     },
     "execution_count": 13,
     "metadata": {},
     "output_type": "execute_result"
    }
   ],
   "source": [
    "avg_tweet_char_num = []\n",
    "\n",
    "for i in major_events:\n",
    "    avg_tweet_char = []\n",
    "    avg_tweet_char += get_tweets_daterange('elonmusk', i, 14, 7)\n",
    "    \n",
    "    num_char = 0\n",
    "    for doc in range(len(avg_tweet_char)):\n",
    "        ab = count_chars(avg_tweet_char[doc]['text'])\n",
    "        num_char += ab \n",
    "\n",
    "    avg_tweet_char_num += [num_char/3]\n",
    "\n",
    "avg_tweet_char_num"
   ]
  },
  {
   "cell_type": "code",
   "execution_count": 14,
   "metadata": {},
   "outputs": [
    {
     "data": {
      "text/plain": [
       "[608.0,\n",
       " 0.0,\n",
       " 736.0,\n",
       " 1007.0,\n",
       " 950.3333333333334,\n",
       " 1489.0,\n",
       " 642.3333333333334,\n",
       " 1045.6666666666667,\n",
       " 0.0,\n",
       " 970.0]"
      ]
     },
     "execution_count": 14,
     "metadata": {},
     "output_type": "execute_result"
    }
   ],
   "source": [
    "avg_tweet_char_num_ran = []\n",
    "\n",
    "for i in list_date:\n",
    "    avg_tweet_char_ran = []\n",
    "    avg_tweet_char_ran += get_tweets_daterange('elonmusk', i, 14, 7)\n",
    "    \n",
    "    num_char_ran = 0\n",
    "    for doc in range(len(avg_tweet_char_ran)):\n",
    "        ab_ran = count_chars(avg_tweet_char_ran[doc]['text'])\n",
    "        num_char_ran += ab_ran \n",
    "\n",
    "    avg_tweet_char_num_ran += [num_char_ran/3]\n",
    "\n",
    "avg_tweet_char_num_ran"
   ]
  },
  {
   "cell_type": "code",
   "execution_count": 15,
   "metadata": {},
   "outputs": [
    {
     "data": {
      "text/plain": [
       "<AxesSubplot:>"
      ]
     },
     "execution_count": 15,
     "metadata": {},
     "output_type": "execute_result"
    },
    {
     "data": {
      "image/png": "[encoded data removed]",
      "text/plain": [
       "<Figure size 576x288 with 1 Axes>"
      ]
     },
     "metadata": {
      "needs_background": "light"
     },
     "output_type": "display_data"
    },
    {
     "data": {
      "image/png": "[encoded data removed]",
      "text/plain": [
       "<Figure size 576x288 with 1 Axes>"
      ]
     },
     "metadata": {
      "needs_background": "light"
     },
     "output_type": "display_data"
    }
   ],
   "source": [
    "data_major_char = [major_events, avg_tweet_char_num]\n",
    "column_names_m_char = data_major_char.pop(0)\n",
    "df_major_event_char = pd.DataFrame(data_major_char, columns=column_names_m_char)\n",
    "df_lists_major_char = df_major_event_char.unstack().apply(pd.Series)\n",
    "df_lists_major_char.plot.bar(rot=0, cmap=plt.cm.jet, fontsize=8, width=0.7, figsize=(8,4))\n",
    "\n",
    "data_random_char = [list_date, avg_tweet_char_num_ran]\n",
    "column_names_r_char = data_random_char.pop(0)\n",
    "df_random_event_char = pd.DataFrame(data_random_char, columns=column_names_r_char)\n",
    "df_lists_random_char = df_random_event_char.unstack().apply(pd.Series)\n",
    "df_lists_random_char.plot.bar(rot=40, cmap=plt.cm.jet, fontsize=8, width=0.7, figsize=(8,4))"
   ]
  },
  {
   "cell_type": "markdown",
   "metadata": {},
   "source": [
    "## Task 6\n",
    "Answer the following questions in the cell below using markdown.\n",
    " 1. From the data, do you believe Elon was more/less active during major events? Please support your position using evidence from the previous tasks.\n",
    " 2. What could we do to improve this experiment?\n",
    "   - Your response could talk about data collection/aggregation, method of analysis, etc."
   ]
  },
  {
   "cell_type": "markdown",
   "metadata": {},
   "source": [
    "Your response:\n",
    "Base on the comparison with the ten random daterange's average tweet counts, Elon Musk's tweeting patterns do not change much. Since the major event dates have the count of (4, 14, 8) is in the range of (0 - 17), there is no clear sign of changing in his behavior.  \n",
    "\n",
    "From the data both on the average tweets count and range_date count, it is hard to dertermine if he is more active or not during the major events. Since only using the data from the 10 random datarange is not sufficient to support any conclusion, we will need to have more data of the year to discover if he tweets more on major events. For example, we can calculate the average number of tweets' count of one week instead of three weeks. Then we can compare the figures to see if the average tweet count on the major event weeks have a much bigger numbers than other normal weeks. Similarly, we can also collect the tweet count on daily bases from a year range to discover Elon Musk's tweeting pattern. "
   ]
  }
 ],
 "metadata": {
  "kernelspec": {
   "display_name": "Python 3",
   "language": "python",
   "name": "python3"
  },
  "language_info": {
   "codemirror_mode": {
    "name": "ipython",
    "version": 3
   },
   "file_extension": ".py",
   "mimetype": "text/x-python",
   "name": "python",
   "nbconvert_exporter": "python",
   "pygments_lexer": "ipython3",
   "version": "3.8.5"
  }
 },
 "nbformat": 4,
 "nbformat_minor": 4
}
